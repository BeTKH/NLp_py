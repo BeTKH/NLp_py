{
 "cells": [
  {
   "cell_type": "code",
   "execution_count": 1,
   "metadata": {},
   "outputs": [],
   "source": [
    "pat = '''RRID: ?SCR_[0-9]{4,}|(?!RRID:) ?SCR_[0-9]{4,}|RRID: ?OMICS_[0-9]{4,}|(?!RRID:) ?OMICS_[0-9]{4,}|RRID: ?AB_[0-9]{4,}|(?!RRID:) ?AB_[0-9]{4,}|RRID: ?CVCL_[0-9]{4,}|(?!RRID:) ?CVCL_[0-9]{4,}|RRID: ?CVCL_[A-Z]+[0-9]+|(?!RRID:) ?CVCL_[A-Z]+[0-9]+|RRID: ?BDSC_[0-9]{4,}|(?!RRID:) ?BDSC_[0-9]{4,}|RRID: ?RGD_[0-9]{4,}|(?!RRID:) ?RGD_[0-9]{4,}|RRID: ?IMSR_JAX:[0-9]{6,}|(?!RRID:) ?IMSR_JAX:[0-9]{6,}|RRID: ?Addgene_[0-9]{4,}|(?!RRID:) ?Addgene_[0-9]{4,}|RRID: ?DGGR_[0-9]{4,}|(?!RRID:) ?DGGR_[0-9]{4,}|RRID: ?EXRC_[0-9]{4,}|(?!RRID:) ?EXRC_[0-9]{4,}|RRID: ?NSRRC_[0-9]{4,}|(?!RRID:) ?NSRRC_[0-9]{4,}|RRID: ?MGI_[0-9]{4,}|(?!RRID:) ?MGI_[0-9]{4,}'''"
   ]
  },
  {
   "cell_type": "code",
   "execution_count": 24,
   "metadata": {},
   "outputs": [],
   "source": [
    "pat_scr = \"RRID: ?SCR_[0-9]{4,}|(?!RRID:) ?SCR_[0-9]{4,}\""
   ]
  },
  {
   "cell_type": "code",
   "execution_count": 8,
   "metadata": {},
   "outputs": [],
   "source": [
    "string = '''The Authors used the software RRID:SCR_154268 and as well used another software SCR_786542. But then again ome other software resource that sarts with SCR_002709''' "
   ]
  },
  {
   "cell_type": "code",
   "execution_count": 9,
   "metadata": {},
   "outputs": [
    {
     "name": "stdout",
     "output_type": "stream",
     "text": [
      "The Authors used the software RRID:SCR_154268 and as well used another software SCR_786542. But then again ome other software resource that sarts with SCR_002709\n"
     ]
    }
   ],
   "source": [
    "print(string)"
   ]
  },
  {
   "cell_type": "code",
   "execution_count": 43,
   "metadata": {},
   "outputs": [
    {
     "data": {
      "text/plain": [
       "['RRID:SCR_154268', ' SCR_786542', ' SCR_002709']"
      ]
     },
     "execution_count": 43,
     "metadata": {},
     "output_type": "execute_result"
    }
   ],
   "source": [
    "import re\n",
    "match = re.findall(pat_scr, string) \n",
    "match"
   ]
  },
  {
   "cell_type": "markdown",
   "metadata": {},
   "source": [
    "## NLP Visualization using `displacy`"
   ]
  },
  {
   "cell_type": "code",
   "execution_count": 30,
   "metadata": {},
   "outputs": [],
   "source": [
    "import spacy\n",
    "from spacy import displacy\n",
    "nlp = spacy.load('en_core_web_sm')"
   ]
  },
  {
   "cell_type": "code",
   "execution_count": 42,
   "metadata": {},
   "outputs": [
    {
     "data": {
      "text/html": [
       "<div class=\"entities\" style=\"line-height: 2.5; direction: ltr\"> So in the scientific publications authors and researchers at \n",
       "<mark class=\"entity\" style=\"background: #7aecec; padding: 0.45em 0.6em; margin: 0 0.25em; line-height: 1; border-radius: 0.35em;\">\n",
       "    Google\n",
       "    <span style=\"font-size: 0.8em; font-weight: bold; line-height: 1; border-radius: 0.35em; text-transform: uppercase; vertical-align: middle; margin-left: 0.5rem\">ORG</span>\n",
       "</mark>\n",
       " typically cite software resources as \n",
       "<mark class=\"entity\" style=\"background: #7aecec; padding: 0.45em 0.6em; margin: 0 0.25em; line-height: 1; border-radius: 0.35em;\">\n",
       "    RRID\n",
       "    <span style=\"font-size: 0.8em; font-weight: bold; line-height: 1; border-radius: 0.35em; text-transform: uppercase; vertical-align: middle; margin-left: 0.5rem\">ORG</span>\n",
       "</mark>\n",
       ":SCR_154268.</div>"
      ],
      "text/plain": [
       "<IPython.core.display.HTML object>"
      ]
     },
     "metadata": {},
     "output_type": "display_data"
    }
   ],
   "source": [
    "#doc = nlp(u'Over the last quarter Apple sold nearly 20 thousand iPods for a profit of $6 million.')\n",
    "doc = nlp(u' So in the scientific publications authors and researchers at Google typically cite software resources as RRID:SCR_154268.')\n",
    "displacy.render(doc, style='ent', jupyter=True)    # viualize entities style == ent"
   ]
  },
  {
   "cell_type": "code",
   "execution_count": 44,
   "metadata": {},
   "outputs": [
    {
     "data": {
      "text/html": [
       "<div class=\"entities\" style=\"line-height: 2.5; direction: ltr\"> So in the scientific publications authors and researchers at \n",
       "<mark class=\"entity\" style=\"background: #7aecec; padding: 0.45em 0.6em; margin: 0 0.25em; line-height: 1; border-radius: 0.35em;\">\n",
       "    Google\n",
       "    <span style=\"font-size: 0.8em; font-weight: bold; line-height: 1; border-radius: 0.35em; text-transform: uppercase; vertical-align: middle; margin-left: 0.5rem\">ORG</span>\n",
       "</mark>\n",
       " typically cite software resources as \n",
       "<mark class=\"entity\" style=\"background: #7aecec; padding: 0.45em 0.6em; margin: 0 0.25em; line-height: 1; border-radius: 0.35em;\">\n",
       "    RRID\n",
       "    <span style=\"font-size: 0.8em; font-weight: bold; line-height: 1; border-radius: 0.35em; text-transform: uppercase; vertical-align: middle; margin-left: 0.5rem\">ORG</span>\n",
       "</mark>\n",
       ":SCR_154268.</div>"
      ],
      "text/plain": [
       "<IPython.core.display.HTML object>"
      ]
     },
     "metadata": {},
     "output_type": "display_data"
    }
   ],
   "source": [
    "#doc = nlp(u'Over the last quarter Apple sold nearly 20 thousand iPods for a profit of $6 million.')\n",
    "doc = nlp(u' So in the scientific publications authors and researchers at Google typically cite software resources as RRID:SCR_154268.')\n",
    "displacy.render(doc, style='ent', jupyter=True)    # viualize entities style == ent"
   ]
  },
  {
   "cell_type": "code",
   "execution_count": null,
   "metadata": {},
   "outputs": [],
   "source": []
  }
 ],
 "metadata": {
  "kernelspec": {
   "display_name": "Python 3",
   "language": "python",
   "name": "python3"
  },
  "language_info": {
   "codemirror_mode": {
    "name": "ipython",
    "version": 3
   },
   "file_extension": ".py",
   "mimetype": "text/x-python",
   "name": "python",
   "nbconvert_exporter": "python",
   "pygments_lexer": "ipython3",
   "version": "3.7.4"
  }
 },
 "nbformat": 4,
 "nbformat_minor": 2
}
