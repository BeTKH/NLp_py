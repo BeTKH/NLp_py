{
 "cells": [
  {
   "cell_type": "markdown",
   "metadata": {},
   "source": [
    "___\n",
    "\n",
    "<a href='http://www.pieriandata.com'> <img src='../Pierian_Data_Logo.png' /></a>\n",
    "___"
   ]
  },
  {
   "cell_type": "markdown",
   "metadata": {},
   "source": [
    "# Stop Words\n",
    "Words like \"a\" and \"the\" appear so frequently that they don't require tagging as thoroughly as nouns, verbs and modifiers. We call these *stop words*, and they can be filtered from the text to be processed. spaCy holds a built-in list of some 305 English stop words."
   ]
  },
  {
   "cell_type": "code",
   "execution_count": 1,
   "metadata": {},
   "outputs": [],
   "source": [
    "# Perform standard imports:\n",
    "import spacy\n",
    "nlp = spacy.load('en_core_web_sm')"
   ]
  },
  {
   "cell_type": "code",
   "execution_count": 2,
   "metadata": {},
   "outputs": [
    {
     "name": "stdout",
     "output_type": "stream",
     "text": [
      "{'top', 'never', '‘ll', 'twelve', 'them', 'i', 'four', 'themselves', 'none', 'above', 'less', 'sixty', 'three', 'elsewhere', 'whose', 'seeming', 'ourselves', 'used', 'us', \"n't\", 'on', 'whence', 'our', 'whatever', 'before', 'serious', 'can', 'fifty', 'across', 'yourself', 'whereas', 'become', 'least', 'other', \"'ll\", 'several', 'using', 'as', '‘ve', 'is', 'take', 'herein', 'ever', 'its', 'moreover', 'whereupon', 'whether', 'seemed', 'full', 'whoever', 'or', 'so', 'mostly', 'eight', 'beside', 'otherwise', 'very', 'even', \"'re\", 'sometime', 'both', 'see', 'twenty', 'n’t', 'though', 'into', 'again', 'one', '’ll', 'now', 'beforehand', 'really', 'only', 'nobody', 'unless', '’d', 'could', 'together', 'name', '‘re', 'of', 'up', 'there', 'becomes', 'thru', 'amongst', 'wherein', 'would', 'either', 'six', 'quite', 'what', 'beyond', 'former', 'something', 'per', 'seems', 'became', 'why', 'we', 'how', 'yours', 'another', 'anyhow', '’m', 'first', 'more', 'hereupon', 'yourselves', 'must', 'once', 'formerly', 'rather', 'been', 'alone', 'seem', 'down', 'forty', 'whenever', 'with', 'amount', 'without', 'no', 'itself', 'my', 'hundred', 'therein', 'over', 'done', 'whither', 'bottom', 'throughout', 'after', 'keep', 'nevertheless', 'that', 'empty', 'hereby', 'thereupon', 'many', 'please', 'between', 'to', 'although', 'their', 'will', 'himself', 'show', 'get', 'myself', 'often', 'such', 'should', 'through', 'someone', 'move', 'anywhere', 'at', 'else', 'most', 'everyone', 'becoming', 'enough', 'front', 'own', 'along', 'a', 'it', 'nor', 'whole', 'but', 'others', 'regarding', 'may', 'much', 'anyway', 'ten', 'when', 'nothing', 'neither', 'an', 'towards', 'two', 'him', 'latter', 'have', 'everything', 'am', 'hereafter', 'upon', 'last', '’re', 'against', 'might', 'further', 'for', 'some', 'indeed', 'herself', 'those', 'all', 'which', 'about', 'under', 'who', 'well', 'however', 'from', 'do', 'has', 'therefore', 'sometimes', 'did', 'afterwards', 'each', 'was', 'back', 'your', '‘m', 'whereafter', 'everywhere', 'say', '‘s', 'whereby', 'make', 'anything', 'eleven', 'noone', 'doing', 'below', 'go', 'if', 'being', 'third', 'thence', 'out', 'the', 'also', \"'d\", 'during', 'then', 'except', 'almost', 'every', 'thus', 'five', 'same', 'side', 'too', 'meanwhile', '’ve', 'me', 'any', 'onto', 'they', 'because', \"'s\", 'nowhere', 'somehow', '‘d', 'part', 'mine', 'already', 'where', 'ours', 'while', 'nine', 'her', 'these', 'within', \"'m\", '’s', 'and', 'this', 'cannot', 'hers', 'just', 'give', 'here', 'via', 'anyone', 'few', 'toward', 'next', 'she', 'due', 'not', 'n‘t', 'ca', 'made', 'hence', 'than', 'always', 'latterly', 'behind', 'in', 'somewhere', 'until', 'by', 'does', 'thereby', 'put', 'still', 're', 'yet', 'are', 'wherever', \"'ve\", 'besides', 'whom', 'he', 'since', 'fifteen', 'off', 'be', 'had', 'you', 'around', 'his', 'namely', 'were', 'call', 'among', 'perhaps', 'thereafter', 'various'}\n"
     ]
    }
   ],
   "source": [
    "# Print the set of spaCy's default stop words (remember that sets are unordered):\n",
    "print(nlp.Defaults.stop_words)"
   ]
  },
  {
   "cell_type": "code",
   "execution_count": 3,
   "metadata": {},
   "outputs": [
    {
     "data": {
      "text/plain": [
       "326"
      ]
     },
     "execution_count": 3,
     "metadata": {},
     "output_type": "execute_result"
    }
   ],
   "source": [
    "len(nlp.Defaults.stop_words)"
   ]
  },
  {
   "cell_type": "markdown",
   "metadata": {},
   "source": [
    "## To see if a word is a stop word"
   ]
  },
  {
   "cell_type": "code",
   "execution_count": 4,
   "metadata": {},
   "outputs": [
    {
     "data": {
      "text/plain": [
       "True"
      ]
     },
     "execution_count": 4,
     "metadata": {},
     "output_type": "execute_result"
    }
   ],
   "source": [
    "nlp.vocab['myself'].is_stop"
   ]
  },
  {
   "cell_type": "code",
   "execution_count": 5,
   "metadata": {},
   "outputs": [
    {
     "data": {
      "text/plain": [
       "False"
      ]
     },
     "execution_count": 5,
     "metadata": {},
     "output_type": "execute_result"
    }
   ],
   "source": [
    "nlp.vocab['mystery'].is_stop"
   ]
  },
  {
   "cell_type": "markdown",
   "metadata": {},
   "source": [
    "## To add a stop word\n",
    "There may be times when you wish to add a stop word to the default set. Perhaps you decide that `'btw'` (common shorthand for \"by the way\") should be considered a stop word."
   ]
  },
  {
   "cell_type": "code",
   "execution_count": 4,
   "metadata": {},
   "outputs": [],
   "source": [
    "# Add the word to the set of stop words. Use lowercase!\n",
    "nlp.Defaults.stop_words.add('btw')\n",
    "\n",
    "# Set the stop_word tag on the lexeme\n",
    "nlp.vocab['btw'].is_stop = True"
   ]
  },
  {
   "cell_type": "code",
   "execution_count": 5,
   "metadata": {},
   "outputs": [
    {
     "data": {
      "text/plain": [
       "327"
      ]
     },
     "execution_count": 5,
     "metadata": {},
     "output_type": "execute_result"
    }
   ],
   "source": [
    "len(nlp.Defaults.stop_words)"
   ]
  },
  {
   "cell_type": "code",
   "execution_count": 6,
   "metadata": {},
   "outputs": [
    {
     "data": {
      "text/plain": [
       "True"
      ]
     },
     "execution_count": 6,
     "metadata": {},
     "output_type": "execute_result"
    }
   ],
   "source": [
    "nlp.vocab['btw'].is_stop"
   ]
  },
  {
   "cell_type": "markdown",
   "metadata": {},
   "source": [
    "<font color=green>When adding stop words, always use lowercase. Lexemes are converted to lowercase before being added to **vocab**.</font>"
   ]
  },
  {
   "cell_type": "markdown",
   "metadata": {},
   "source": [
    "## To remove a stop word\n",
    "Alternatively, you may decide that `'beyond'` should not be considered a stop word."
   ]
  },
  {
   "cell_type": "code",
   "execution_count": 9,
   "metadata": {},
   "outputs": [],
   "source": [
    "# Remove the word from the set of stop words\n",
    "nlp.Defaults.stop_words.remove('beyond')\n",
    "\n",
    "# Remove the stop_word tag from the lexeme\n",
    "nlp.vocab['beyond'].is_stop = False"
   ]
  },
  {
   "cell_type": "code",
   "execution_count": 10,
   "metadata": {},
   "outputs": [
    {
     "data": {
      "text/plain": [
       "305"
      ]
     },
     "execution_count": 10,
     "metadata": {},
     "output_type": "execute_result"
    }
   ],
   "source": [
    "len(nlp.Defaults.stop_words)"
   ]
  },
  {
   "cell_type": "code",
   "execution_count": 11,
   "metadata": {},
   "outputs": [
    {
     "data": {
      "text/plain": [
       "False"
      ]
     },
     "execution_count": 11,
     "metadata": {},
     "output_type": "execute_result"
    }
   ],
   "source": [
    "nlp.vocab['beyond'].is_stop"
   ]
  },
  {
   "cell_type": "markdown",
   "metadata": {},
   "source": [
    "Great! Now you should be able to access spaCy's default set of stop words, and add or remove stop words as needed.\n",
    "## Next up: Vocabulary and Matching"
   ]
  }
 ],
 "metadata": {
  "kernelspec": {
   "display_name": "Python 3",
   "language": "python",
   "name": "python3"
  },
  "language_info": {
   "codemirror_mode": {
    "name": "ipython",
    "version": 3
   },
   "file_extension": ".py",
   "mimetype": "text/x-python",
   "name": "python",
   "nbconvert_exporter": "python",
   "pygments_lexer": "ipython3",
   "version": "3.7.4"
  }
 },
 "nbformat": 4,
 "nbformat_minor": 2
}
