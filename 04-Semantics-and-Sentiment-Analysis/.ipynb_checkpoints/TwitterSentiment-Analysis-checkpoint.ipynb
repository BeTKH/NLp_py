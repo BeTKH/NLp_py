{
 "cells": [
  {
   "cell_type": "markdown",
   "metadata": {},
   "source": [
    "## Sentiment Analysis of twitter texts"
   ]
  },
  {
   "cell_type": "code",
   "execution_count": 29,
   "metadata": {},
   "outputs": [],
   "source": [
    "import pandas as pd\n",
    "import re\n",
    "import matplotlib.pyplot as plt\n",
    "import seaborn as sns\n",
    "import string\n",
    "import nltk\n",
    "from nltk.tokenize import word_tokenize\n",
    "from nltk.corpus import stopwords\n",
    "from nltk.stem import WordNetLemmatizer\n",
    "pd.set_option(\"display.max_colwidth\", 200)\n",
    "import numpy as np\n",
    "import warnings\n",
    "warnings.filterwarnings(\"ignore\")\n",
    "%matplotlib inline"
   ]
  },
  {
   "cell_type": "code",
   "execution_count": 2,
   "metadata": {},
   "outputs": [],
   "source": [
    "# read tweets\n",
    "data=open(\"train.txt\", encoding ='utf-8')\n",
    "tweet=[]\n",
    "label=[]\n",
    "for line in data:\n",
    "    split_data=line.split(\"\\t\")\n",
    "    label.append(split_data[2])\n",
    "    tweet.append(split_data[3])"
   ]
  },
  {
   "cell_type": "code",
   "execution_count": 4,
   "metadata": {},
   "outputs": [],
   "source": []
  },
  {
   "cell_type": "code",
   "execution_count": 5,
   "metadata": {},
   "outputs": [],
   "source": [
    "my_data=pd.DataFrame(columns={\"tweet\",\"label\"})\n",
    "my_data[\"tweet\"]=tweet\n",
    "my_data[\"label\"]=label"
   ]
  },
  {
   "cell_type": "code",
   "execution_count": 6,
   "metadata": {},
   "outputs": [
    {
     "data": {
      "text/plain": [
       "(12379, 2)"
      ]
     },
     "execution_count": 6,
     "metadata": {},
     "output_type": "execute_result"
    }
   ],
   "source": [
    "my_data.shape"
   ]
  },
  {
   "cell_type": "code",
   "execution_count": 7,
   "metadata": {},
   "outputs": [
    {
     "name": "stdout",
     "output_type": "stream",
     "text": [
      "0     6194\n",
      "-1    3545\n",
      "1     2332\n",
      "-2     177\n",
      "2      131\n",
      "Name: label, dtype: int64\n"
     ]
    }
   ],
   "source": [
    "print(my_data.label.value_counts())"
   ]
  },
  {
   "cell_type": "markdown",
   "metadata": {},
   "source": [
    "### A look at raw data"
   ]
  },
  {
   "cell_type": "code",
   "execution_count": 8,
   "metadata": {},
   "outputs": [
    {
     "data": {
      "text/html": [
       "<div>\n",
       "<style scoped>\n",
       "    .dataframe tbody tr th:only-of-type {\n",
       "        vertical-align: middle;\n",
       "    }\n",
       "\n",
       "    .dataframe tbody tr th {\n",
       "        vertical-align: top;\n",
       "    }\n",
       "\n",
       "    .dataframe thead th {\n",
       "        text-align: right;\n",
       "    }\n",
       "</style>\n",
       "<table border=\"1\" class=\"dataframe\">\n",
       "  <thead>\n",
       "    <tr style=\"text-align: right;\">\n",
       "      <th></th>\n",
       "      <th>tweet</th>\n",
       "      <th>label</th>\n",
       "    </tr>\n",
       "  </thead>\n",
       "  <tbody>\n",
       "    <tr>\n",
       "      <th>0</th>\n",
       "      <td>#ArianaGrande Ari By Ariana Grande 80% Full https://t.co/ylhCMETHHW #Singer #Actress https://t.co/lTrb1JQiEA\\n</td>\n",
       "      <td>0</td>\n",
       "    </tr>\n",
       "    <tr>\n",
       "      <th>1</th>\n",
       "      <td>Ariana Grande KIIS FM Yours Truly CD listening party in Burbank https://t.co/ClQIcx8Z6V #ArianaGrande\\n</td>\n",
       "      <td>1</td>\n",
       "    </tr>\n",
       "    <tr>\n",
       "      <th>2</th>\n",
       "      <td>Ariana Grande White House Easter Egg Roll in Washington https://t.co/jdjL9swWM8 #ArianaGrande\\n</td>\n",
       "      <td>1</td>\n",
       "    </tr>\n",
       "    <tr>\n",
       "      <th>3</th>\n",
       "      <td>#CD #Musics Ariana Grande Sweet Like Candy 3.4 oz 100 ML Sealed In Box 100% Authenic New https://t.co/oFmp0bOvZy… https://t.co/WIHLch9KtK\\n</td>\n",
       "      <td>1</td>\n",
       "    </tr>\n",
       "    <tr>\n",
       "      <th>4</th>\n",
       "      <td>SIDE TO SIDE 😘 @arianagrande #sidetoside #arianagrande #musically #comunidadgay #lgbt🌈  #LOTB… https://t.co/tEd8rftAxV\\n</td>\n",
       "      <td>1</td>\n",
       "    </tr>\n",
       "    <tr>\n",
       "      <th>...</th>\n",
       "      <td>...</td>\n",
       "      <td>...</td>\n",
       "    </tr>\n",
       "    <tr>\n",
       "      <th>12374</th>\n",
       "      <td>@dansen17 update: Zac Efron kissing a puppy https://t.co/4hTw1U8Azs\\n</td>\n",
       "      <td>1</td>\n",
       "    </tr>\n",
       "    <tr>\n",
       "      <th>12375</th>\n",
       "      <td>#zac efron sex pic skins michelle sex https://t.co/EQFbbfuJSA\\n</td>\n",
       "      <td>0</td>\n",
       "    </tr>\n",
       "    <tr>\n",
       "      <th>12376</th>\n",
       "      <td>First Look at Neighbors 2 with Zac Efron Shirtless! (PHOTO)... https://t.co/5C68gj5D9V #zacefron\\n</td>\n",
       "      <td>1</td>\n",
       "    </tr>\n",
       "    <tr>\n",
       "      <th>12377</th>\n",
       "      <td>zac efron poses nude #lovely libra porn https://t.co/ukneYt2Wl2\\n</td>\n",
       "      <td>1</td>\n",
       "    </tr>\n",
       "    <tr>\n",
       "      <th>12378</th>\n",
       "      <td>#Fashion #Style The Paperboy (NEW Blu-ray Disc) Matthew McConaughey, Zac Efron, #NicoleKidman… https://t.co/zgHXBjdBg5\\n</td>\n",
       "      <td>0</td>\n",
       "    </tr>\n",
       "  </tbody>\n",
       "</table>\n",
       "<p>12379 rows × 2 columns</p>\n",
       "</div>"
      ],
      "text/plain": [
       "                                                                                                                                             tweet  \\\n",
       "0                                   #ArianaGrande Ari By Ariana Grande 80% Full https://t.co/ylhCMETHHW #Singer #Actress https://t.co/lTrb1JQiEA\\n   \n",
       "1                                          Ariana Grande KIIS FM Yours Truly CD listening party in Burbank https://t.co/ClQIcx8Z6V #ArianaGrande\\n   \n",
       "2                                                  Ariana Grande White House Easter Egg Roll in Washington https://t.co/jdjL9swWM8 #ArianaGrande\\n   \n",
       "3      #CD #Musics Ariana Grande Sweet Like Candy 3.4 oz 100 ML Sealed In Box 100% Authenic New https://t.co/oFmp0bOvZy… https://t.co/WIHLch9KtK\\n   \n",
       "4                         SIDE TO SIDE 😘 @arianagrande #sidetoside #arianagrande #musically #comunidadgay #lgbt🌈  #LOTB… https://t.co/tEd8rftAxV\\n   \n",
       "...                                                                                                                                            ...   \n",
       "12374                                                                        @dansen17 update: Zac Efron kissing a puppy https://t.co/4hTw1U8Azs\\n   \n",
       "12375                                                                              #zac efron sex pic skins michelle sex https://t.co/EQFbbfuJSA\\n   \n",
       "12376                                           First Look at Neighbors 2 with Zac Efron Shirtless! (PHOTO)... https://t.co/5C68gj5D9V #zacefron\\n   \n",
       "12377                                                                            zac efron poses nude #lovely libra porn https://t.co/ukneYt2Wl2\\n   \n",
       "12378                     #Fashion #Style The Paperboy (NEW Blu-ray Disc) Matthew McConaughey, Zac Efron, #NicoleKidman… https://t.co/zgHXBjdBg5\\n   \n",
       "\n",
       "      label  \n",
       "0         0  \n",
       "1         1  \n",
       "2         1  \n",
       "3         1  \n",
       "4         1  \n",
       "...     ...  \n",
       "12374     1  \n",
       "12375     0  \n",
       "12376     1  \n",
       "12377     1  \n",
       "12378     0  \n",
       "\n",
       "[12379 rows x 2 columns]"
      ]
     },
     "execution_count": 8,
     "metadata": {},
     "output_type": "execute_result"
    }
   ],
   "source": [
    "my_data"
   ]
  },
  {
   "cell_type": "markdown",
   "metadata": {},
   "source": [
    "# Data Cleaning"
   ]
  },
  {
   "cell_type": "markdown",
   "metadata": {},
   "source": [
    "#### To remove usernames and URL's in the tweets"
   ]
  },
  {
   "cell_type": "code",
   "execution_count": 9,
   "metadata": {},
   "outputs": [],
   "source": [
    "def remove_input_pattern(pattern, input_string):\n",
    "    input_string=re.sub(pattern,\"\",input_string)\n",
    "    return input_string "
   ]
  },
  {
   "cell_type": "code",
   "execution_count": 10,
   "metadata": {},
   "outputs": [],
   "source": [
    "# Tried using it but it didn't work \"re.sub(r\"http\\S+\",\"\",tweet)\""
   ]
  },
  {
   "cell_type": "code",
   "execution_count": 11,
   "metadata": {},
   "outputs": [],
   "source": [
    "# Taken from https://www.w3resource.com/python-exercises/re/python-re-exercise-42.php\n",
    "cl_tweets=[]\n",
    "for line in my_data[\"tweet\"]:\n",
    "    cl_tweets.append(remove_input_pattern(r\"http[s]?://(?:[a-zA-Z]|[0-9]|[$-_@.&+]|[!*\\(\\),]|(?:%[0-9a-fA-F][0-9a-fA-F]))+|@[\\w]+\",line))"
   ]
  },
  {
   "cell_type": "code",
   "execution_count": 12,
   "metadata": {},
   "outputs": [],
   "source": [
    "my_data[\"cl_tweets\"]=cl_tweets"
   ]
  },
  {
   "cell_type": "code",
   "execution_count": 13,
   "metadata": {},
   "outputs": [
    {
     "data": {
      "text/html": [
       "<div>\n",
       "<style scoped>\n",
       "    .dataframe tbody tr th:only-of-type {\n",
       "        vertical-align: middle;\n",
       "    }\n",
       "\n",
       "    .dataframe tbody tr th {\n",
       "        vertical-align: top;\n",
       "    }\n",
       "\n",
       "    .dataframe thead th {\n",
       "        text-align: right;\n",
       "    }\n",
       "</style>\n",
       "<table border=\"1\" class=\"dataframe\">\n",
       "  <thead>\n",
       "    <tr style=\"text-align: right;\">\n",
       "      <th></th>\n",
       "      <th>tweet</th>\n",
       "      <th>label</th>\n",
       "      <th>cl_tweets</th>\n",
       "    </tr>\n",
       "  </thead>\n",
       "  <tbody>\n",
       "    <tr>\n",
       "      <th>0</th>\n",
       "      <td>#ArianaGrande Ari By Ariana Grande 80% Full https://t.co/ylhCMETHHW #Singer #Actress https://t.co/lTrb1JQiEA\\n</td>\n",
       "      <td>0</td>\n",
       "      <td>#ArianaGrande Ari By Ariana Grande 80% Full  #Singer #Actress \\n</td>\n",
       "    </tr>\n",
       "    <tr>\n",
       "      <th>1</th>\n",
       "      <td>Ariana Grande KIIS FM Yours Truly CD listening party in Burbank https://t.co/ClQIcx8Z6V #ArianaGrande\\n</td>\n",
       "      <td>1</td>\n",
       "      <td>Ariana Grande KIIS FM Yours Truly CD listening party in Burbank  #ArianaGrande\\n</td>\n",
       "    </tr>\n",
       "    <tr>\n",
       "      <th>2</th>\n",
       "      <td>Ariana Grande White House Easter Egg Roll in Washington https://t.co/jdjL9swWM8 #ArianaGrande\\n</td>\n",
       "      <td>1</td>\n",
       "      <td>Ariana Grande White House Easter Egg Roll in Washington  #ArianaGrande\\n</td>\n",
       "    </tr>\n",
       "    <tr>\n",
       "      <th>3</th>\n",
       "      <td>#CD #Musics Ariana Grande Sweet Like Candy 3.4 oz 100 ML Sealed In Box 100% Authenic New https://t.co/oFmp0bOvZy… https://t.co/WIHLch9KtK\\n</td>\n",
       "      <td>1</td>\n",
       "      <td>#CD #Musics Ariana Grande Sweet Like Candy 3.4 oz 100 ML Sealed In Box 100% Authenic New … \\n</td>\n",
       "    </tr>\n",
       "    <tr>\n",
       "      <th>4</th>\n",
       "      <td>SIDE TO SIDE 😘 @arianagrande #sidetoside #arianagrande #musically #comunidadgay #lgbt🌈  #LOTB… https://t.co/tEd8rftAxV\\n</td>\n",
       "      <td>1</td>\n",
       "      <td>SIDE TO SIDE 😘  #sidetoside #arianagrande #musically #comunidadgay #lgbt🌈  #LOTB… \\n</td>\n",
       "    </tr>\n",
       "  </tbody>\n",
       "</table>\n",
       "</div>"
      ],
      "text/plain": [
       "                                                                                                                                         tweet  \\\n",
       "0                               #ArianaGrande Ari By Ariana Grande 80% Full https://t.co/ylhCMETHHW #Singer #Actress https://t.co/lTrb1JQiEA\\n   \n",
       "1                                      Ariana Grande KIIS FM Yours Truly CD listening party in Burbank https://t.co/ClQIcx8Z6V #ArianaGrande\\n   \n",
       "2                                              Ariana Grande White House Easter Egg Roll in Washington https://t.co/jdjL9swWM8 #ArianaGrande\\n   \n",
       "3  #CD #Musics Ariana Grande Sweet Like Candy 3.4 oz 100 ML Sealed In Box 100% Authenic New https://t.co/oFmp0bOvZy… https://t.co/WIHLch9KtK\\n   \n",
       "4                     SIDE TO SIDE 😘 @arianagrande #sidetoside #arianagrande #musically #comunidadgay #lgbt🌈  #LOTB… https://t.co/tEd8rftAxV\\n   \n",
       "\n",
       "  label  \\\n",
       "0     0   \n",
       "1     1   \n",
       "2     1   \n",
       "3     1   \n",
       "4     1   \n",
       "\n",
       "                                                                                       cl_tweets  \n",
       "0                               #ArianaGrande Ari By Ariana Grande 80% Full  #Singer #Actress \\n  \n",
       "1               Ariana Grande KIIS FM Yours Truly CD listening party in Burbank  #ArianaGrande\\n  \n",
       "2                       Ariana Grande White House Easter Egg Roll in Washington  #ArianaGrande\\n  \n",
       "3  #CD #Musics Ariana Grande Sweet Like Candy 3.4 oz 100 ML Sealed In Box 100% Authenic New … \\n  \n",
       "4           SIDE TO SIDE 😘  #sidetoside #arianagrande #musically #comunidadgay #lgbt🌈  #LOTB… \\n  "
      ]
     },
     "execution_count": 13,
     "metadata": {},
     "output_type": "execute_result"
    }
   ],
   "source": [
    "my_data.head()"
   ]
  },
  {
   "cell_type": "markdown",
   "metadata": {},
   "source": [
    "##### To remove any other symbols and numbers"
   ]
  },
  {
   "cell_type": "code",
   "execution_count": 14,
   "metadata": {},
   "outputs": [],
   "source": [
    "my_data[\"cl_tweets\"]=my_data[\"cl_tweets\"].str.replace(\"[^A-Za-z#]\",\" \")"
   ]
  },
  {
   "cell_type": "code",
   "execution_count": 15,
   "metadata": {},
   "outputs": [
    {
     "data": {
      "text/html": [
       "<div>\n",
       "<style scoped>\n",
       "    .dataframe tbody tr th:only-of-type {\n",
       "        vertical-align: middle;\n",
       "    }\n",
       "\n",
       "    .dataframe tbody tr th {\n",
       "        vertical-align: top;\n",
       "    }\n",
       "\n",
       "    .dataframe thead th {\n",
       "        text-align: right;\n",
       "    }\n",
       "</style>\n",
       "<table border=\"1\" class=\"dataframe\">\n",
       "  <thead>\n",
       "    <tr style=\"text-align: right;\">\n",
       "      <th></th>\n",
       "      <th>tweet</th>\n",
       "      <th>label</th>\n",
       "      <th>cl_tweets</th>\n",
       "    </tr>\n",
       "  </thead>\n",
       "  <tbody>\n",
       "    <tr>\n",
       "      <th>0</th>\n",
       "      <td>#ArianaGrande Ari By Ariana Grande 80% Full https://t.co/ylhCMETHHW #Singer #Actress https://t.co/lTrb1JQiEA\\n</td>\n",
       "      <td>0</td>\n",
       "      <td>#ArianaGrande Ari By Ariana Grande     Full  #Singer #Actress</td>\n",
       "    </tr>\n",
       "    <tr>\n",
       "      <th>1</th>\n",
       "      <td>Ariana Grande KIIS FM Yours Truly CD listening party in Burbank https://t.co/ClQIcx8Z6V #ArianaGrande\\n</td>\n",
       "      <td>1</td>\n",
       "      <td>Ariana Grande KIIS FM Yours Truly CD listening party in Burbank  #ArianaGrande</td>\n",
       "    </tr>\n",
       "    <tr>\n",
       "      <th>2</th>\n",
       "      <td>Ariana Grande White House Easter Egg Roll in Washington https://t.co/jdjL9swWM8 #ArianaGrande\\n</td>\n",
       "      <td>1</td>\n",
       "      <td>Ariana Grande White House Easter Egg Roll in Washington  #ArianaGrande</td>\n",
       "    </tr>\n",
       "    <tr>\n",
       "      <th>3</th>\n",
       "      <td>#CD #Musics Ariana Grande Sweet Like Candy 3.4 oz 100 ML Sealed In Box 100% Authenic New https://t.co/oFmp0bOvZy… https://t.co/WIHLch9KtK\\n</td>\n",
       "      <td>1</td>\n",
       "      <td>#CD #Musics Ariana Grande Sweet Like Candy     oz     ML Sealed In Box      Authenic New</td>\n",
       "    </tr>\n",
       "    <tr>\n",
       "      <th>4</th>\n",
       "      <td>SIDE TO SIDE 😘 @arianagrande #sidetoside #arianagrande #musically #comunidadgay #lgbt🌈  #LOTB… https://t.co/tEd8rftAxV\\n</td>\n",
       "      <td>1</td>\n",
       "      <td>SIDE TO SIDE    #sidetoside #arianagrande #musically #comunidadgay #lgbt   #LOTB</td>\n",
       "    </tr>\n",
       "    <tr>\n",
       "      <th>5</th>\n",
       "      <td>Hairspray Live! Previews at the Macy's Thanksgiving Day Parade! https://t.co/GaFTqInolL #arianagrande #televisionnbc\\n</td>\n",
       "      <td>1</td>\n",
       "      <td>Hairspray Live  Previews at the Macy s Thanksgiving Day Parade   #arianagrande #televisionnbc</td>\n",
       "    </tr>\n",
       "    <tr>\n",
       "      <th>6</th>\n",
       "      <td>#LindsayLohan Is ‘Feeling Thankful’ After Blasting #ArianaGrande For Wearing ‘#TooMuch… https://t.co/Acf8ogvPxd https://t.co/EOSHtG9ay4\\n</td>\n",
       "      <td>1</td>\n",
       "      <td>#LindsayLohan Is  Feeling Thankful  After Blasting #ArianaGrande For Wearing  #TooMuch</td>\n",
       "    </tr>\n",
       "    <tr>\n",
       "      <th>7</th>\n",
       "      <td>I hate her but... I love her songs Dammit ._.#ArianaGrande\\n</td>\n",
       "      <td>-1</td>\n",
       "      <td>I hate her but    I love her songs Dammit    #ArianaGrande</td>\n",
       "    </tr>\n",
       "    <tr>\n",
       "      <th>8</th>\n",
       "      <td>Ariana Grande 【Right There ft. Big Sean】#アリアナ #arianagrande https://t.co/4rZOKYDnut\\n</td>\n",
       "      <td>0</td>\n",
       "      <td>Ariana Grande  Right There ft  Big Sean #     #arianagrande</td>\n",
       "    </tr>\n",
       "    <tr>\n",
       "      <th>9</th>\n",
       "      <td>which one would you prefer to listen to for a whole day? 😍🤘🏼; i could never choose #arianagrande #IntoYou #SideToSide #songs #Poll\\n</td>\n",
       "      <td>0</td>\n",
       "      <td>which one would you prefer to listen to for a whole day       i could never choose #arianagrande #IntoYou #SideToSide #songs #Poll</td>\n",
       "    </tr>\n",
       "  </tbody>\n",
       "</table>\n",
       "</div>"
      ],
      "text/plain": [
       "                                                                                                                                         tweet  \\\n",
       "0                               #ArianaGrande Ari By Ariana Grande 80% Full https://t.co/ylhCMETHHW #Singer #Actress https://t.co/lTrb1JQiEA\\n   \n",
       "1                                      Ariana Grande KIIS FM Yours Truly CD listening party in Burbank https://t.co/ClQIcx8Z6V #ArianaGrande\\n   \n",
       "2                                              Ariana Grande White House Easter Egg Roll in Washington https://t.co/jdjL9swWM8 #ArianaGrande\\n   \n",
       "3  #CD #Musics Ariana Grande Sweet Like Candy 3.4 oz 100 ML Sealed In Box 100% Authenic New https://t.co/oFmp0bOvZy… https://t.co/WIHLch9KtK\\n   \n",
       "4                     SIDE TO SIDE 😘 @arianagrande #sidetoside #arianagrande #musically #comunidadgay #lgbt🌈  #LOTB… https://t.co/tEd8rftAxV\\n   \n",
       "5                       Hairspray Live! Previews at the Macy's Thanksgiving Day Parade! https://t.co/GaFTqInolL #arianagrande #televisionnbc\\n   \n",
       "6    #LindsayLohan Is ‘Feeling Thankful’ After Blasting #ArianaGrande For Wearing ‘#TooMuch… https://t.co/Acf8ogvPxd https://t.co/EOSHtG9ay4\\n   \n",
       "7                                                                                 I hate her but... I love her songs Dammit ._.#ArianaGrande\\n   \n",
       "8                                                        Ariana Grande 【Right There ft. Big Sean】#アリアナ #arianagrande https://t.co/4rZOKYDnut\\n   \n",
       "9         which one would you prefer to listen to for a whole day? 😍🤘🏼; i could never choose #arianagrande #IntoYou #SideToSide #songs #Poll\\n   \n",
       "\n",
       "  label  \\\n",
       "0     0   \n",
       "1     1   \n",
       "2     1   \n",
       "3     1   \n",
       "4     1   \n",
       "5     1   \n",
       "6     1   \n",
       "7    -1   \n",
       "8     0   \n",
       "9     0   \n",
       "\n",
       "                                                                                                                             cl_tweets  \n",
       "0                                                                      #ArianaGrande Ari By Ariana Grande     Full  #Singer #Actress    \n",
       "1                                                      Ariana Grande KIIS FM Yours Truly CD listening party in Burbank  #ArianaGrande   \n",
       "2                                                              Ariana Grande White House Easter Egg Roll in Washington  #ArianaGrande   \n",
       "3                                         #CD #Musics Ariana Grande Sweet Like Candy     oz     ML Sealed In Box      Authenic New      \n",
       "4                                                  SIDE TO SIDE    #sidetoside #arianagrande #musically #comunidadgay #lgbt   #LOTB     \n",
       "5                                       Hairspray Live  Previews at the Macy s Thanksgiving Day Parade   #arianagrande #televisionnbc   \n",
       "6                                           #LindsayLohan Is  Feeling Thankful  After Blasting #ArianaGrande For Wearing  #TooMuch      \n",
       "7                                                                          I hate her but    I love her songs Dammit    #ArianaGrande   \n",
       "8                                                                        Ariana Grande  Right There ft  Big Sean #     #arianagrande    \n",
       "9  which one would you prefer to listen to for a whole day       i could never choose #arianagrande #IntoYou #SideToSide #songs #Poll   "
      ]
     },
     "execution_count": 15,
     "metadata": {},
     "output_type": "execute_result"
    }
   ],
   "source": [
    "my_data.head(10)"
   ]
  },
  {
   "cell_type": "markdown",
   "metadata": {},
   "source": [
    "### Tokenizing the tweets for Lemmatization"
   ]
  },
  {
   "cell_type": "code",
   "execution_count": 16,
   "metadata": {},
   "outputs": [],
   "source": [
    "tokenized_tweets= my_data['cl_tweets'].apply(lambda x: x.split())"
   ]
  },
  {
   "cell_type": "code",
   "execution_count": 17,
   "metadata": {},
   "outputs": [
    {
     "data": {
      "text/plain": [
       "0                             [#ArianaGrande, Ari, By, Ariana, Grande, Full, #Singer, #Actress]\n",
       "1    [Ariana, Grande, KIIS, FM, Yours, Truly, CD, listening, party, in, Burbank, #ArianaGrande]\n",
       "2              [Ariana, Grande, White, House, Easter, Egg, Roll, in, Washington, #ArianaGrande]\n",
       "3    [#CD, #Musics, Ariana, Grande, Sweet, Like, Candy, oz, ML, Sealed, In, Box, Authenic, New]\n",
       "4         [SIDE, TO, SIDE, #sidetoside, #arianagrande, #musically, #comunidadgay, #lgbt, #LOTB]\n",
       "Name: cl_tweets, dtype: object"
      ]
     },
     "execution_count": 17,
     "metadata": {},
     "output_type": "execute_result"
    }
   ],
   "source": [
    "tokenized_tweets.head()"
   ]
  },
  {
   "cell_type": "code",
   "execution_count": 18,
   "metadata": {},
   "outputs": [],
   "source": [
    "from nltk.corpus import wordnet\n",
    "\n",
    "wordnet_lemmatizer = WordNetLemmatizer()"
   ]
  },
  {
   "cell_type": "code",
   "execution_count": 19,
   "metadata": {},
   "outputs": [],
   "source": [
    "def get_wordnet_pos(word):\n",
    "    \"\"\"Map POS tag to first character lemmatize() accepts\"\"\"\n",
    "    tag = nltk.pos_tag([word])[0][1][0].upper()\n",
    "    tag_dict = {\"J\": wordnet.ADJ,\n",
    "                \"N\": wordnet.NOUN,\n",
    "                \"V\": wordnet.VERB,\n",
    "                \"R\": wordnet.ADV}\n",
    "    return tag_dict.get(tag, wordnet.NOUN)"
   ]
  },
  {
   "cell_type": "code",
   "execution_count": 20,
   "metadata": {},
   "outputs": [],
   "source": [
    "tokenized_tweets=tokenized_tweets.apply(lambda x: [wordnet_lemmatizer.lemmatize(i,get_wordnet_pos(i)) for i in x])"
   ]
  },
  {
   "cell_type": "code",
   "execution_count": 21,
   "metadata": {},
   "outputs": [
    {
     "data": {
      "text/plain": [
       "0                             [#ArianaGrande, Ari, By, Ariana, Grande, Full, #Singer, #Actress]\n",
       "1       [Ariana, Grande, KIIS, FM, Yours, Truly, CD, listen, party, in, Burbank, #ArianaGrande]\n",
       "2              [Ariana, Grande, White, House, Easter, Egg, Roll, in, Washington, #ArianaGrande]\n",
       "3    [#CD, #Musics, Ariana, Grande, Sweet, Like, Candy, oz, ML, Sealed, In, Box, Authenic, New]\n",
       "4         [SIDE, TO, SIDE, #sidetoside, #arianagrande, #musically, #comunidadgay, #lgbt, #LOTB]\n",
       "Name: cl_tweets, dtype: object"
      ]
     },
     "execution_count": 21,
     "metadata": {},
     "output_type": "execute_result"
    }
   ],
   "source": [
    "tokenized_tweets.head()"
   ]
  },
  {
   "cell_type": "code",
   "execution_count": 22,
   "metadata": {},
   "outputs": [],
   "source": [
    "for i in range(len(tokenized_tweets)):\n",
    "    tokenized_tweets[i]=\" \".join(tokenized_tweets[i])\n",
    "my_data['cl_tweets']=tokenized_tweets"
   ]
  },
  {
   "cell_type": "code",
   "execution_count": 23,
   "metadata": {},
   "outputs": [
    {
     "data": {
      "text/html": [
       "<div>\n",
       "<style scoped>\n",
       "    .dataframe tbody tr th:only-of-type {\n",
       "        vertical-align: middle;\n",
       "    }\n",
       "\n",
       "    .dataframe tbody tr th {\n",
       "        vertical-align: top;\n",
       "    }\n",
       "\n",
       "    .dataframe thead th {\n",
       "        text-align: right;\n",
       "    }\n",
       "</style>\n",
       "<table border=\"1\" class=\"dataframe\">\n",
       "  <thead>\n",
       "    <tr style=\"text-align: right;\">\n",
       "      <th></th>\n",
       "      <th>tweet</th>\n",
       "      <th>label</th>\n",
       "      <th>cl_tweets</th>\n",
       "    </tr>\n",
       "  </thead>\n",
       "  <tbody>\n",
       "    <tr>\n",
       "      <th>0</th>\n",
       "      <td>#ArianaGrande Ari By Ariana Grande 80% Full https://t.co/ylhCMETHHW #Singer #Actress https://t.co/lTrb1JQiEA\\n</td>\n",
       "      <td>0</td>\n",
       "      <td>#ArianaGrande Ari By Ariana Grande Full #Singer #Actress</td>\n",
       "    </tr>\n",
       "    <tr>\n",
       "      <th>1</th>\n",
       "      <td>Ariana Grande KIIS FM Yours Truly CD listening party in Burbank https://t.co/ClQIcx8Z6V #ArianaGrande\\n</td>\n",
       "      <td>1</td>\n",
       "      <td>Ariana Grande KIIS FM Yours Truly CD listen party in Burbank #ArianaGrande</td>\n",
       "    </tr>\n",
       "    <tr>\n",
       "      <th>2</th>\n",
       "      <td>Ariana Grande White House Easter Egg Roll in Washington https://t.co/jdjL9swWM8 #ArianaGrande\\n</td>\n",
       "      <td>1</td>\n",
       "      <td>Ariana Grande White House Easter Egg Roll in Washington #ArianaGrande</td>\n",
       "    </tr>\n",
       "    <tr>\n",
       "      <th>3</th>\n",
       "      <td>#CD #Musics Ariana Grande Sweet Like Candy 3.4 oz 100 ML Sealed In Box 100% Authenic New https://t.co/oFmp0bOvZy… https://t.co/WIHLch9KtK\\n</td>\n",
       "      <td>1</td>\n",
       "      <td>#CD #Musics Ariana Grande Sweet Like Candy oz ML Sealed In Box Authenic New</td>\n",
       "    </tr>\n",
       "    <tr>\n",
       "      <th>4</th>\n",
       "      <td>SIDE TO SIDE 😘 @arianagrande #sidetoside #arianagrande #musically #comunidadgay #lgbt🌈  #LOTB… https://t.co/tEd8rftAxV\\n</td>\n",
       "      <td>1</td>\n",
       "      <td>SIDE TO SIDE #sidetoside #arianagrande #musically #comunidadgay #lgbt #LOTB</td>\n",
       "    </tr>\n",
       "    <tr>\n",
       "      <th>5</th>\n",
       "      <td>Hairspray Live! Previews at the Macy's Thanksgiving Day Parade! https://t.co/GaFTqInolL #arianagrande #televisionnbc\\n</td>\n",
       "      <td>1</td>\n",
       "      <td>Hairspray Live Previews at the Macy s Thanksgiving Day Parade #arianagrande #televisionnbc</td>\n",
       "    </tr>\n",
       "    <tr>\n",
       "      <th>6</th>\n",
       "      <td>#LindsayLohan Is ‘Feeling Thankful’ After Blasting #ArianaGrande For Wearing ‘#TooMuch… https://t.co/Acf8ogvPxd https://t.co/EOSHtG9ay4\\n</td>\n",
       "      <td>1</td>\n",
       "      <td>#LindsayLohan Is Feeling Thankful After Blasting #ArianaGrande For Wearing #TooMuch</td>\n",
       "    </tr>\n",
       "    <tr>\n",
       "      <th>7</th>\n",
       "      <td>I hate her but... I love her songs Dammit ._.#ArianaGrande\\n</td>\n",
       "      <td>-1</td>\n",
       "      <td>I hate her but I love her song Dammit #ArianaGrande</td>\n",
       "    </tr>\n",
       "    <tr>\n",
       "      <th>8</th>\n",
       "      <td>Ariana Grande 【Right There ft. Big Sean】#アリアナ #arianagrande https://t.co/4rZOKYDnut\\n</td>\n",
       "      <td>0</td>\n",
       "      <td>Ariana Grande Right There ft Big Sean # #arianagrande</td>\n",
       "    </tr>\n",
       "    <tr>\n",
       "      <th>9</th>\n",
       "      <td>which one would you prefer to listen to for a whole day? 😍🤘🏼; i could never choose #arianagrande #IntoYou #SideToSide #songs #Poll\\n</td>\n",
       "      <td>0</td>\n",
       "      <td>which one would you prefer to listen to for a whole day i could never choose #arianagrande #IntoYou #SideToSide #songs #Poll</td>\n",
       "    </tr>\n",
       "  </tbody>\n",
       "</table>\n",
       "</div>"
      ],
      "text/plain": [
       "                                                                                                                                         tweet  \\\n",
       "0                               #ArianaGrande Ari By Ariana Grande 80% Full https://t.co/ylhCMETHHW #Singer #Actress https://t.co/lTrb1JQiEA\\n   \n",
       "1                                      Ariana Grande KIIS FM Yours Truly CD listening party in Burbank https://t.co/ClQIcx8Z6V #ArianaGrande\\n   \n",
       "2                                              Ariana Grande White House Easter Egg Roll in Washington https://t.co/jdjL9swWM8 #ArianaGrande\\n   \n",
       "3  #CD #Musics Ariana Grande Sweet Like Candy 3.4 oz 100 ML Sealed In Box 100% Authenic New https://t.co/oFmp0bOvZy… https://t.co/WIHLch9KtK\\n   \n",
       "4                     SIDE TO SIDE 😘 @arianagrande #sidetoside #arianagrande #musically #comunidadgay #lgbt🌈  #LOTB… https://t.co/tEd8rftAxV\\n   \n",
       "5                       Hairspray Live! Previews at the Macy's Thanksgiving Day Parade! https://t.co/GaFTqInolL #arianagrande #televisionnbc\\n   \n",
       "6    #LindsayLohan Is ‘Feeling Thankful’ After Blasting #ArianaGrande For Wearing ‘#TooMuch… https://t.co/Acf8ogvPxd https://t.co/EOSHtG9ay4\\n   \n",
       "7                                                                                 I hate her but... I love her songs Dammit ._.#ArianaGrande\\n   \n",
       "8                                                        Ariana Grande 【Right There ft. Big Sean】#アリアナ #arianagrande https://t.co/4rZOKYDnut\\n   \n",
       "9         which one would you prefer to listen to for a whole day? 😍🤘🏼; i could never choose #arianagrande #IntoYou #SideToSide #songs #Poll\\n   \n",
       "\n",
       "  label  \\\n",
       "0     0   \n",
       "1     1   \n",
       "2     1   \n",
       "3     1   \n",
       "4     1   \n",
       "5     1   \n",
       "6     1   \n",
       "7    -1   \n",
       "8     0   \n",
       "9     0   \n",
       "\n",
       "                                                                                                                      cl_tweets  \n",
       "0                                                                      #ArianaGrande Ari By Ariana Grande Full #Singer #Actress  \n",
       "1                                                    Ariana Grande KIIS FM Yours Truly CD listen party in Burbank #ArianaGrande  \n",
       "2                                                         Ariana Grande White House Easter Egg Roll in Washington #ArianaGrande  \n",
       "3                                                   #CD #Musics Ariana Grande Sweet Like Candy oz ML Sealed In Box Authenic New  \n",
       "4                                                   SIDE TO SIDE #sidetoside #arianagrande #musically #comunidadgay #lgbt #LOTB  \n",
       "5                                    Hairspray Live Previews at the Macy s Thanksgiving Day Parade #arianagrande #televisionnbc  \n",
       "6                                           #LindsayLohan Is Feeling Thankful After Blasting #ArianaGrande For Wearing #TooMuch  \n",
       "7                                                                           I hate her but I love her song Dammit #ArianaGrande  \n",
       "8                                                                         Ariana Grande Right There ft Big Sean # #arianagrande  \n",
       "9  which one would you prefer to listen to for a whole day i could never choose #arianagrande #IntoYou #SideToSide #songs #Poll  "
      ]
     },
     "execution_count": 23,
     "metadata": {},
     "output_type": "execute_result"
    }
   ],
   "source": [
    "my_data.head(10)"
   ]
  },
  {
   "cell_type": "markdown",
   "metadata": {},
   "source": [
    "#### Most Common Words in Positive Tweets"
   ]
  },
  {
   "cell_type": "code",
   "execution_count": 24,
   "metadata": {},
   "outputs": [],
   "source": [
    "my_data[\"label\"]=pd.to_numeric(my_data[\"label\"])\n",
    "all_non_words=\" \".join(my_data[my_data['label']==1].cl_tweets)"
   ]
  },
  {
   "cell_type": "code",
   "execution_count": 25,
   "metadata": {},
   "outputs": [
    {
     "name": "stdout",
     "output_type": "stream",
     "text": [
      "C:\\Users\\Beck\\projectDir\\venv\\Scripts\\python.exe\n"
     ]
    }
   ],
   "source": [
    "import sys\n",
    "print(sys.executable)"
   ]
  },
  {
   "cell_type": "code",
   "execution_count": 26,
   "metadata": {},
   "outputs": [],
   "source": [
    "#from wordcloud import WordCloud\n",
    "#wordcloud=WordCloud(width=800,height=500,random_state=21,max_font_size=110).generate(all_non_words)\n",
    "#fig=plt.figure(figsize=(10,7))\n",
    "#plt.imshow(wordcloud,interpolation=\"bilinear\")\n",
    "#plt.axis(\"off\")\n",
    "#plt.show()"
   ]
  },
  {
   "cell_type": "markdown",
   "metadata": {},
   "source": [
    "#### Most Common words in Negative Tweets"
   ]
  },
  {
   "cell_type": "code",
   "execution_count": 27,
   "metadata": {},
   "outputs": [
    {
     "ename": "NameError",
     "evalue": "name 'WordCloud' is not defined",
     "output_type": "error",
     "traceback": [
      "\u001b[1;31m---------------------------------------------------------------------------\u001b[0m",
      "\u001b[1;31mNameError\u001b[0m                                 Traceback (most recent call last)",
      "Input \u001b[1;32mIn [27]\u001b[0m, in \u001b[0;36m<module>\u001b[1;34m\u001b[0m\n\u001b[0;32m      1\u001b[0m all_racistwords\u001b[38;5;241m=\u001b[39m\u001b[38;5;124m\"\u001b[39m\u001b[38;5;124m \u001b[39m\u001b[38;5;124m\"\u001b[39m\u001b[38;5;241m.\u001b[39mjoin(my_data[my_data[\u001b[38;5;124m'\u001b[39m\u001b[38;5;124mlabel\u001b[39m\u001b[38;5;124m'\u001b[39m]\u001b[38;5;241m==\u001b[39m\u001b[38;5;241m-\u001b[39m\u001b[38;5;241m1\u001b[39m]\u001b[38;5;241m.\u001b[39mcl_tweets)\n\u001b[1;32m----> 2\u001b[0m wrd_cld\u001b[38;5;241m=\u001b[39m\u001b[43mWordCloud\u001b[49m(height\u001b[38;5;241m=\u001b[39m\u001b[38;5;241m500\u001b[39m,width\u001b[38;5;241m=\u001b[39m\u001b[38;5;241m800\u001b[39m,random_state\u001b[38;5;241m=\u001b[39m\u001b[38;5;241m21\u001b[39m,max_font_size\u001b[38;5;241m=\u001b[39m\u001b[38;5;241m110\u001b[39m)\u001b[38;5;241m.\u001b[39mgenerate(all_racistwords)\n\u001b[0;32m      3\u001b[0m fig\u001b[38;5;241m=\u001b[39mplt\u001b[38;5;241m.\u001b[39mfigure(figsize\u001b[38;5;241m=\u001b[39m(\u001b[38;5;241m10\u001b[39m,\u001b[38;5;241m7\u001b[39m))\n\u001b[0;32m      4\u001b[0m plt\u001b[38;5;241m.\u001b[39mimshow(wrd_cld,interpolation\u001b[38;5;241m=\u001b[39m\u001b[38;5;124m\"\u001b[39m\u001b[38;5;124mbilinear\u001b[39m\u001b[38;5;124m\"\u001b[39m)\n",
      "\u001b[1;31mNameError\u001b[0m: name 'WordCloud' is not defined"
     ]
    }
   ],
   "source": [
    "all_racistwords=\" \".join(my_data[my_data['label']==-1].cl_tweets)\n",
    "wrd_cld=WordCloud(height=500,width=800,random_state=21,max_font_size=110).generate(all_racistwords)\n",
    "fig=plt.figure(figsize=(10,7))\n",
    "plt.imshow(wrd_cld,interpolation=\"bilinear\")\n",
    "plt.axis(\"off\")\n",
    "plt.show()"
   ]
  },
  {
   "cell_type": "markdown",
   "metadata": {},
   "source": [
    "##### Checking the impact of Hashtags"
   ]
  },
  {
   "cell_type": "code",
   "execution_count": null,
   "metadata": {},
   "outputs": [],
   "source": [
    "## 1) Positive Tweets\n",
    "positive=[]\n",
    "for x in my_data[my_data[\"label\"]==1].cl_tweets:\n",
    "    all_hashtags=re.findall(r\"#[\\w]+\",x)\n",
    "    positive.append(all_hashtags)"
   ]
  },
  {
   "cell_type": "code",
   "execution_count": null,
   "metadata": {},
   "outputs": [],
   "source": [
    "positive=sum(positive,[])\n",
    "positive[:7]"
   ]
  },
  {
   "cell_type": "code",
   "execution_count": null,
   "metadata": {},
   "outputs": [],
   "source": [
    "## 2) Negative Tweets\n",
    "negative=[]\n",
    "for x in my_data[my_data[\"label\"]==-1].cl_tweets:\n",
    "    all_hashtags=re.findall(\"#[\\w]+\",x)\n",
    "    negative.append(all_hashtags)"
   ]
  },
  {
   "cell_type": "code",
   "execution_count": null,
   "metadata": {},
   "outputs": [],
   "source": [
    "negative[:6]"
   ]
  },
  {
   "cell_type": "code",
   "execution_count": null,
   "metadata": {},
   "outputs": [],
   "source": [
    "negative=sum(negative,[])"
   ]
  },
  {
   "cell_type": "code",
   "execution_count": null,
   "metadata": {},
   "outputs": [],
   "source": [
    "a= nltk.FreqDist(positive)"
   ]
  },
  {
   "cell_type": "code",
   "execution_count": null,
   "metadata": {},
   "outputs": [],
   "source": [
    "df_positive=pd.DataFrame({\"Hashtags\":list(a.keys()),\"Count\":list(a.values())})"
   ]
  },
  {
   "cell_type": "code",
   "execution_count": null,
   "metadata": {},
   "outputs": [],
   "source": [
    "df_positive.head()"
   ]
  },
  {
   "cell_type": "code",
   "execution_count": null,
   "metadata": {},
   "outputs": [],
   "source": [
    "b= nltk.FreqDist(negative)\n",
    "df_negative=pd.DataFrame({\"Hashtags\":list(b.keys()),\"Count\":list(b.values())})\n",
    "df_negative.head(10)"
   ]
  },
  {
   "cell_type": "code",
   "execution_count": null,
   "metadata": {},
   "outputs": [],
   "source": [
    "df_positive=df_positive.nlargest(columns=\"Count\",n=20)\n",
    "df_negative=df_negative.nlargest(columns=\"Count\",n=20)"
   ]
  },
  {
   "cell_type": "markdown",
   "metadata": {},
   "source": [
    "### Plotting the top 20 hashtags in Positive tweets"
   ]
  },
  {
   "cell_type": "code",
   "execution_count": null,
   "metadata": {},
   "outputs": [],
   "source": [
    "sns.set_theme(style=\"whitegrid\")\n",
    "fig=plt.figure(figsize=(20,8))\n",
    "sns.barplot(data=df_positive,x=\"Hashtags\",y=\"Count\", palette=\"Blues_d\")\n",
    "plt.title(\"Top 20 Hashtags for Positive Tweets\")\n",
    "plt.rc('font', size=16)\n",
    "plt.xticks(rotation=90)\n",
    "plt.show()"
   ]
  },
  {
   "cell_type": "code",
   "execution_count": null,
   "metadata": {},
   "outputs": [],
   "source": [
    "sns.set_theme(style=\"whitegrid\")\n",
    "fig=plt.figure(figsize=(20,9))\n",
    "sns.barplot(data=df_negative,x=\"Hashtags\",y=\"Count\", palette=\"Blues_d\")\n",
    "plt.title(\"Top 20 Hashtags for Negative Tweets\")\n",
    "plt.rc('font', size=14)\n",
    "plt.xticks(rotation=90)\n",
    "plt.show()"
   ]
  },
  {
   "cell_type": "markdown",
   "metadata": {},
   "source": [
    "##### Extracting Features using various approaches"
   ]
  },
  {
   "cell_type": "code",
   "execution_count": null,
   "metadata": {},
   "outputs": [],
   "source": [
    "from sklearn.feature_extraction.text import TfidfVectorizer, CountVectorizer\n",
    "import gensim"
   ]
  },
  {
   "cell_type": "markdown",
   "metadata": {},
   "source": [
    "#### Using Bag-of-Words Approach"
   ]
  },
  {
   "cell_type": "code",
   "execution_count": null,
   "metadata": {},
   "outputs": [],
   "source": [
    "bag_of_words=CountVectorizer(max_df=0.90,min_df=2,max_features=1000,stop_words=\"english\")\n",
    "bag_words=bag_of_words.fit_transform(my_data[\"cl_tweets\"])"
   ]
  },
  {
   "cell_type": "markdown",
   "metadata": {},
   "source": [
    "#### Using TF-IDF Approach"
   ]
  },
  {
   "cell_type": "code",
   "execution_count": null,
   "metadata": {},
   "outputs": [],
   "source": [
    "tfidf_vectorizer = TfidfVectorizer(max_df=0.90, min_df=2, max_features=1000, stop_words='english')\n",
    "tfidf = tfidf_vectorizer.fit_transform(my_data[\"cl_tweets\"])\n",
    "tfidf.shape"
   ]
  },
  {
   "cell_type": "markdown",
   "metadata": {},
   "source": [
    "#### Using Word2Vec Approach"
   ]
  },
  {
   "cell_type": "code",
   "execution_count": null,
   "metadata": {},
   "outputs": [],
   "source": [
    "tokenized_tweet = my_data[\"cl_tweets\"].apply(lambda x: x.split()) # tokenizing\n",
    "\n",
    "model_w2v = gensim.models.Word2Vec(\n",
    "            tokenized_tweet,\n",
    "            vector_size=200, # desired no. of features/independent variables \n",
    "            window=5, # context window size\n",
    "            min_count=2,\n",
    "            sg = 1, # 1 for skip-gram model\n",
    "            hs = 0,\n",
    "            negative = 10, # for negative sampling\n",
    "            workers= 2, # no.of cores\n",
    "            seed = 34)\n",
    "\n",
    "model_w2v.train(tokenized_tweet, total_examples= len(my_data[\"cl_tweets\"]), epochs=20)"
   ]
  },
  {
   "cell_type": "code",
   "execution_count": null,
   "metadata": {},
   "outputs": [],
   "source": [
    "def word_vector(tokens, size):\n",
    "    vec = np.zeros(size).reshape((1, size))\n",
    "    count = 0.\n",
    "    for word in tokens:\n",
    "        try:\n",
    "            vec += model_w2v[word].reshape((1, size))\n",
    "            count += 1.\n",
    "        except KeyError: # handling the case where the token is not in vocabulary\n",
    "                         \n",
    "            continue\n",
    "    if count != 0:\n",
    "        vec /= count\n",
    "    return vec"
   ]
  },
  {
   "cell_type": "code",
   "execution_count": null,
   "metadata": {},
   "outputs": [],
   "source": [
    "wordvec_arrays = np.zeros((len(tokenized_tweet), 200))"
   ]
  },
  {
   "cell_type": "code",
   "execution_count": null,
   "metadata": {},
   "outputs": [],
   "source": [
    "for i in range(len(tokenized_tweet)):\n",
    "    print(i, tokenized_tweet[i])\n",
    "    break"
   ]
  },
  {
   "cell_type": "code",
   "execution_count": null,
   "metadata": {},
   "outputs": [],
   "source": [
    "wordvec_arrays = np.zeros((len(tokenized_tweet), 200))\n",
    "vec = []\n",
    "for i in range(len(tokenized_tweet)):\n",
    "    #wordvec_arrays[i,:] = word_vector(tokenized_tweet[i], 200)\n",
    "    \n",
    "    vec += wordvec_arrays[i].reshape((1, 200))\n",
    "    \n",
    "wordvec_df = pd.DataFrame(vec)\n",
    "wordvec_df.shape "
   ]
  },
  {
   "cell_type": "code",
   "execution_count": null,
   "metadata": {},
   "outputs": [],
   "source": [
    " vec += model_w2v.wv[word].reshape((1, size))"
   ]
  },
  {
   "cell_type": "code",
   "execution_count": null,
   "metadata": {},
   "outputs": [],
   "source": [
    "from sklearn.linear_model import LogisticRegression\n",
    "from sklearn.model_selection import train_test_split\n",
    "from sklearn.metrics import f1_score,accuracy_score"
   ]
  },
  {
   "cell_type": "markdown",
   "metadata": {},
   "source": [
    "#### Building Model through Logistic Regression on Bag_Of_Words_Approach"
   ]
  },
  {
   "cell_type": "code",
   "execution_count": null,
   "metadata": {},
   "outputs": [],
   "source": [
    "\n",
    "#train_bow = bag_words[:31962,:]\n",
    "#test_bow = bag_words[31962:,:]\n",
    "\n",
    "# splitting data into training and validation set\n",
    "xtrain_bow, xvalid_bow, ytrain, yvalid = train_test_split(bag_words,my_data['label'],  \n",
    "                                                          random_state=42, \n",
    "                                                          test_size=0.3)\n",
    "lreg = LogisticRegression()\n",
    "lreg.fit(xtrain_bow, ytrain) # training the model\n",
    "\n",
    "prediction = lreg.predict_proba(xvalid_bow) # predicting on the validation set\n",
    "prediction_int = prediction[:,1] >= 0.4 # if prediction is greater than or equal to 0.4 than 1 else 0\n",
    "prediction_int = prediction_int.astype(np.int)\n",
    "\n",
    "\n",
    "print(\"Accuracy Score \",accuracy_score(yvalid,prediction_int))"
   ]
  },
  {
   "cell_type": "markdown",
   "metadata": {},
   "source": [
    "#### Building Model through Logistic Regression on TF-IDF Approach"
   ]
  },
  {
   "cell_type": "code",
   "execution_count": null,
   "metadata": {},
   "outputs": [],
   "source": [
    "xtrain_tfidf = tfidf[ytrain.index]\n",
    "xvalid_tfidf = tfidf[yvalid.index]\n",
    "lreg.fit(xtrain_tfidf, ytrain)\n",
    "\n",
    "prediction = lreg.predict_proba(xvalid_tfidf)\n",
    "prediction_int = prediction[:,1] >= 0.3\n",
    "prediction_int = prediction_int.astype(np.int)\n",
    "print(\"Accuracy Score\",accuracy_score(yvalid, prediction_int))"
   ]
  },
  {
   "cell_type": "markdown",
   "metadata": {},
   "source": [
    "#### Building Model through Logistic Regression on Word2Vec Approach"
   ]
  },
  {
   "cell_type": "code",
   "execution_count": null,
   "metadata": {},
   "outputs": [],
   "source": [
    "xtrain_w2v = wordvec_df.iloc[ytrain.index,:]\n",
    "xvalid_w2v = wordvec_df.iloc[yvalid.index,:]\n",
    "\n",
    "lreg.fit(xtrain_w2v, ytrain)\n",
    "\n",
    "prediction = lreg.predict_proba(xvalid_w2v)\n",
    "prediction_int = prediction[:,1] >= 0.3\n",
    "prediction_int = prediction_int.astype(np.int)\n",
    "print(\"Accuracy Score\",accuracy_score(yvalid, prediction_int))"
   ]
  },
  {
   "cell_type": "markdown",
   "metadata": {},
   "source": [
    "#### Building Model Through SVM on Bag Of Words Approach"
   ]
  },
  {
   "cell_type": "code",
   "execution_count": null,
   "metadata": {},
   "outputs": [],
   "source": [
    "from sklearn import svm\n",
    "svc = svm.SVC(kernel='linear', C=1).fit(xtrain_bow, ytrain)\n",
    "\n",
    "prediction = svc.predict(xvalid_bow)\n",
    "\n",
    "print(\"Accuracy Score\",accuracy_score(yvalid, prediction))"
   ]
  },
  {
   "cell_type": "markdown",
   "metadata": {},
   "source": [
    "#### Building Model Through SVM on TF-IDF"
   ]
  },
  {
   "cell_type": "code",
   "execution_count": null,
   "metadata": {},
   "outputs": [],
   "source": [
    "svc = svm.SVC(kernel='linear', C=1).fit(xtrain_tfidf, ytrain)\n",
    "\n",
    "prediction = svc.predict(xvalid_tfidf)\n",
    "\n",
    "print(\"Accuracy Score\", accuracy_score(yvalid, prediction))"
   ]
  },
  {
   "cell_type": "markdown",
   "metadata": {},
   "source": [
    "#### Building Model Through SVM on Word2Vec"
   ]
  },
  {
   "cell_type": "code",
   "execution_count": null,
   "metadata": {},
   "outputs": [],
   "source": [
    "svc = svm.SVC(kernel='linear', C=1).fit(xtrain_w2v, ytrain)\n",
    "\n",
    "prediction = svc.predict(xvalid_w2v)\n",
    "\n",
    "print(\"Accuracy Score\", accuracy_score(yvalid, prediction))"
   ]
  },
  {
   "cell_type": "markdown",
   "metadata": {},
   "source": [
    "#### Building Model through Random Forest On Bag Of Words Approach"
   ]
  },
  {
   "cell_type": "code",
   "execution_count": null,
   "metadata": {},
   "outputs": [],
   "source": [
    "from sklearn.ensemble import RandomForestClassifier\n",
    "rf = RandomForestClassifier(n_estimators=400, random_state=11).fit(xtrain_bow, ytrain)\n",
    "\n",
    "prediction = rf.predict(xvalid_bow)\n",
    "print(\"Accuracy Score \",accuracy_score(yvalid, prediction))"
   ]
  },
  {
   "cell_type": "markdown",
   "metadata": {},
   "source": [
    "#### Building Model through Random Forest On TF-IDF Approach"
   ]
  },
  {
   "cell_type": "code",
   "execution_count": null,
   "metadata": {},
   "outputs": [],
   "source": [
    "rf = RandomForestClassifier(n_estimators=400, random_state=11).fit(xtrain_tfidf, ytrain)\n",
    "\n",
    "prediction = rf.predict(xvalid_tfidf)\n",
    "print(\"Accuracy Score \",accuracy_score(yvalid, prediction))"
   ]
  },
  {
   "cell_type": "markdown",
   "metadata": {},
   "source": [
    "#### Building Model through Random Forest On Word2Vec Approach"
   ]
  },
  {
   "cell_type": "code",
   "execution_count": null,
   "metadata": {},
   "outputs": [],
   "source": [
    "rf = RandomForestClassifier(n_estimators=400, random_state=11).fit(xtrain_w2v, ytrain)\n",
    "\n",
    "prediction = rf.predict(xvalid_w2v)\n",
    "\n",
    "print(\"Accuracy Score \",accuracy_score(yvalid,prediction))"
   ]
  },
  {
   "cell_type": "markdown",
   "metadata": {},
   "source": [
    "#### Building Model through Naive Bayes on Bags of Word Approach"
   ]
  },
  {
   "cell_type": "code",
   "execution_count": null,
   "metadata": {},
   "outputs": [],
   "source": [
    "from sklearn.naive_bayes import MultinomialNB\n",
    "from sklearn.naive_bayes import GaussianNB\n",
    "nb=MultinomialNB().fit(xtrain_bow,ytrain)\n",
    "prediction=nb.predict(xvalid_bow)\n",
    "print(\"Accuracy Score \",accuracy_score(yvalid,prediction))"
   ]
  },
  {
   "cell_type": "markdown",
   "metadata": {},
   "source": [
    "#### Building Model through Naive Bayes on TF-IDF Approach"
   ]
  },
  {
   "cell_type": "code",
   "execution_count": null,
   "metadata": {},
   "outputs": [],
   "source": [
    "nb=MultinomialNB().fit(xtrain_tfidf,ytrain)\n",
    "prediction=nb.predict(xvalid_tfidf)\n",
    "print(\"Accuracy Score \",accuracy_score(yvalid,prediction))"
   ]
  },
  {
   "cell_type": "markdown",
   "metadata": {},
   "source": [
    "#### Building Model through Naive Bayes on Word2Vec Approach"
   ]
  },
  {
   "cell_type": "code",
   "execution_count": null,
   "metadata": {},
   "outputs": [],
   "source": [
    "nb=GaussianNB().fit(xtrain_w2v,ytrain)\n",
    "prediction=nb.predict(xvalid_w2v)\n",
    "print(\"Accuracy Score\",accuracy_score(yvalid,prediction))"
   ]
  }
 ],
 "metadata": {
  "kernelspec": {
   "display_name": "Python 3 (ipykernel)",
   "language": "python",
   "name": "python3"
  },
  "language_info": {
   "codemirror_mode": {
    "name": "ipython",
    "version": 3
   },
   "file_extension": ".py",
   "mimetype": "text/x-python",
   "name": "python",
   "nbconvert_exporter": "python",
   "pygments_lexer": "ipython3",
   "version": "3.9.5"
  }
 },
 "nbformat": 4,
 "nbformat_minor": 2
}
