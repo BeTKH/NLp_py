{
 "cells": [
  {
   "cell_type": "markdown",
   "metadata": {},
   "source": [
    "## Sentiment Analysis of labeled twitter texts"
   ]
  },
  {
   "cell_type": "code",
   "execution_count": 8,
   "metadata": {},
   "outputs": [],
   "source": [
    "import pandas as pd\n",
    "import re\n",
    "import matplotlib.pyplot as plt\n",
    "import seaborn as sns\n",
    "import string\n",
    "import nltk\n",
    "from nltk.tokenize import word_tokenize\n",
    "from nltk.corpus import stopwords\n",
    "from nltk.stem import WordNetLemmatizer\n",
    "pd.set_option(\"display.max_colwidth\", 200)\n",
    "import numpy as np\n",
    "import warnings\n",
    "warnings.filterwarnings(\"ignore\")\n",
    "%matplotlib inline"
   ]
  },
  {
   "cell_type": "markdown",
   "metadata": {},
   "source": [
    "## 1. Read tweets"
   ]
  },
  {
   "cell_type": "code",
   "execution_count": 2,
   "metadata": {},
   "outputs": [],
   "source": [
    "\n",
    "data=open(\"train.txt\", encoding ='utf-8')\n",
    "tweet=[]\n",
    "label=[]\n",
    "for line in data:\n",
    "    split_data=line.split(\"\\t\")\n",
    "    label.append(split_data[2])\n",
    "    tweet.append(split_data[3])"
   ]
  },
  {
   "cell_type": "code",
   "execution_count": 6,
   "metadata": {},
   "outputs": [
    {
     "data": {
      "text/html": [
       "<div>\n",
       "<style scoped>\n",
       "    .dataframe tbody tr th:only-of-type {\n",
       "        vertical-align: middle;\n",
       "    }\n",
       "\n",
       "    .dataframe tbody tr th {\n",
       "        vertical-align: top;\n",
       "    }\n",
       "\n",
       "    .dataframe thead th {\n",
       "        text-align: right;\n",
       "    }\n",
       "</style>\n",
       "<table border=\"1\" class=\"dataframe\">\n",
       "  <thead>\n",
       "    <tr style=\"text-align: right;\">\n",
       "      <th></th>\n",
       "      <th>tweet</th>\n",
       "      <th>label</th>\n",
       "    </tr>\n",
       "  </thead>\n",
       "  <tbody>\n",
       "    <tr>\n",
       "      <th>0</th>\n",
       "      <td>#ArianaGrande Ari By Ariana Grande 80% Full https://t.co/ylhCMETHHW #Singer #Actress https://t.co/lTrb1JQiEA\\n</td>\n",
       "      <td>0</td>\n",
       "    </tr>\n",
       "    <tr>\n",
       "      <th>1</th>\n",
       "      <td>Ariana Grande KIIS FM Yours Truly CD listening party in Burbank https://t.co/ClQIcx8Z6V #ArianaGrande\\n</td>\n",
       "      <td>1</td>\n",
       "    </tr>\n",
       "    <tr>\n",
       "      <th>2</th>\n",
       "      <td>Ariana Grande White House Easter Egg Roll in Washington https://t.co/jdjL9swWM8 #ArianaGrande\\n</td>\n",
       "      <td>1</td>\n",
       "    </tr>\n",
       "    <tr>\n",
       "      <th>3</th>\n",
       "      <td>#CD #Musics Ariana Grande Sweet Like Candy 3.4 oz 100 ML Sealed In Box 100% Authenic New https://t.co/oFmp0bOvZy… https://t.co/WIHLch9KtK\\n</td>\n",
       "      <td>1</td>\n",
       "    </tr>\n",
       "    <tr>\n",
       "      <th>4</th>\n",
       "      <td>SIDE TO SIDE 😘 @arianagrande #sidetoside #arianagrande #musically #comunidadgay #lgbt🌈  #LOTB… https://t.co/tEd8rftAxV\\n</td>\n",
       "      <td>1</td>\n",
       "    </tr>\n",
       "    <tr>\n",
       "      <th>...</th>\n",
       "      <td>...</td>\n",
       "      <td>...</td>\n",
       "    </tr>\n",
       "    <tr>\n",
       "      <th>12374</th>\n",
       "      <td>@dansen17 update: Zac Efron kissing a puppy https://t.co/4hTw1U8Azs\\n</td>\n",
       "      <td>1</td>\n",
       "    </tr>\n",
       "    <tr>\n",
       "      <th>12375</th>\n",
       "      <td>#zac efron sex pic skins michelle sex https://t.co/EQFbbfuJSA\\n</td>\n",
       "      <td>0</td>\n",
       "    </tr>\n",
       "    <tr>\n",
       "      <th>12376</th>\n",
       "      <td>First Look at Neighbors 2 with Zac Efron Shirtless! (PHOTO)... https://t.co/5C68gj5D9V #zacefron\\n</td>\n",
       "      <td>1</td>\n",
       "    </tr>\n",
       "    <tr>\n",
       "      <th>12377</th>\n",
       "      <td>zac efron poses nude #lovely libra porn https://t.co/ukneYt2Wl2\\n</td>\n",
       "      <td>1</td>\n",
       "    </tr>\n",
       "    <tr>\n",
       "      <th>12378</th>\n",
       "      <td>#Fashion #Style The Paperboy (NEW Blu-ray Disc) Matthew McConaughey, Zac Efron, #NicoleKidman… https://t.co/zgHXBjdBg5\\n</td>\n",
       "      <td>0</td>\n",
       "    </tr>\n",
       "  </tbody>\n",
       "</table>\n",
       "<p>12379 rows × 2 columns</p>\n",
       "</div>"
      ],
      "text/plain": [
       "                                                                                                                                             tweet  \\\n",
       "0                                   #ArianaGrande Ari By Ariana Grande 80% Full https://t.co/ylhCMETHHW #Singer #Actress https://t.co/lTrb1JQiEA\\n   \n",
       "1                                          Ariana Grande KIIS FM Yours Truly CD listening party in Burbank https://t.co/ClQIcx8Z6V #ArianaGrande\\n   \n",
       "2                                                  Ariana Grande White House Easter Egg Roll in Washington https://t.co/jdjL9swWM8 #ArianaGrande\\n   \n",
       "3      #CD #Musics Ariana Grande Sweet Like Candy 3.4 oz 100 ML Sealed In Box 100% Authenic New https://t.co/oFmp0bOvZy… https://t.co/WIHLch9KtK\\n   \n",
       "4                         SIDE TO SIDE 😘 @arianagrande #sidetoside #arianagrande #musically #comunidadgay #lgbt🌈  #LOTB… https://t.co/tEd8rftAxV\\n   \n",
       "...                                                                                                                                            ...   \n",
       "12374                                                                        @dansen17 update: Zac Efron kissing a puppy https://t.co/4hTw1U8Azs\\n   \n",
       "12375                                                                              #zac efron sex pic skins michelle sex https://t.co/EQFbbfuJSA\\n   \n",
       "12376                                           First Look at Neighbors 2 with Zac Efron Shirtless! (PHOTO)... https://t.co/5C68gj5D9V #zacefron\\n   \n",
       "12377                                                                            zac efron poses nude #lovely libra porn https://t.co/ukneYt2Wl2\\n   \n",
       "12378                     #Fashion #Style The Paperboy (NEW Blu-ray Disc) Matthew McConaughey, Zac Efron, #NicoleKidman… https://t.co/zgHXBjdBg5\\n   \n",
       "\n",
       "      label  \n",
       "0         0  \n",
       "1         1  \n",
       "2         1  \n",
       "3         1  \n",
       "4         1  \n",
       "...     ...  \n",
       "12374     1  \n",
       "12375     0  \n",
       "12376     1  \n",
       "12377     1  \n",
       "12378     0  \n",
       "\n",
       "[12379 rows x 2 columns]"
      ]
     },
     "execution_count": 6,
     "metadata": {},
     "output_type": "execute_result"
    }
   ],
   "source": [
    "my_data=pd.DataFrame(columns={\"tweet\",\"label\"})\n",
    "my_data[\"tweet\"]=tweet\n",
    "my_data[\"label\"]=label\n",
    "my_data"
   ]
  },
  {
   "cell_type": "code",
   "execution_count": 6,
   "metadata": {},
   "outputs": [
    {
     "data": {
      "text/plain": [
       "(12379, 2)"
      ]
     },
     "execution_count": 6,
     "metadata": {},
     "output_type": "execute_result"
    }
   ],
   "source": [
    "my_data.shape"
   ]
  },
  {
   "cell_type": "code",
   "execution_count": 7,
   "metadata": {},
   "outputs": [
    {
     "data": {
      "text/plain": [
       "0     6194\n",
       "-1    3545\n",
       "1     2332\n",
       "-2     177\n",
       "2      131\n",
       "Name: label, dtype: int64"
      ]
     },
     "execution_count": 7,
     "metadata": {},
     "output_type": "execute_result"
    }
   ],
   "source": [
    "# how many unique labels\n",
    "my_data.label.value_counts()"
   ]
  },
  {
   "cell_type": "markdown",
   "metadata": {},
   "source": [
    "## 2. Cleaning tweets"
   ]
  },
  {
   "cell_type": "markdown",
   "metadata": {},
   "source": [
    "### 2.1. Removing usernames and URLs"
   ]
  },
  {
   "cell_type": "code",
   "execution_count": 11,
   "metadata": {},
   "outputs": [],
   "source": [
    "def remove_input_pattern(pattern, input_string):\n",
    "    input_string=re.sub(pattern,\"\",input_string)\n",
    "    return input_string "
   ]
  },
  {
   "cell_type": "code",
   "execution_count": 12,
   "metadata": {},
   "outputs": [],
   "source": [
    "# Taken from https://www.w3resource.com/python-exercises/re/python-re-exercise-42.php\n",
    "clean_tweets=[]\n",
    "for line in my_data[\"tweet\"]:\n",
    "    clean_tweets.append(remove_input_pattern(r\"http[s]?://(?:[a-zA-Z]|[0-9]|[$-_@.&+]|[!*\\(\\),]|(?:%[0-9a-fA-F][0-9a-fA-F]))+|@[\\w]+\",line))"
   ]
  },
  {
   "cell_type": "code",
   "execution_count": 13,
   "metadata": {},
   "outputs": [],
   "source": [
    "my_data[\"clean_tweets\"]=clean_tweets"
   ]
  },
  {
   "cell_type": "code",
   "execution_count": 14,
   "metadata": {},
   "outputs": [
    {
     "data": {
      "text/html": [
       "<div>\n",
       "<style scoped>\n",
       "    .dataframe tbody tr th:only-of-type {\n",
       "        vertical-align: middle;\n",
       "    }\n",
       "\n",
       "    .dataframe tbody tr th {\n",
       "        vertical-align: top;\n",
       "    }\n",
       "\n",
       "    .dataframe thead th {\n",
       "        text-align: right;\n",
       "    }\n",
       "</style>\n",
       "<table border=\"1\" class=\"dataframe\">\n",
       "  <thead>\n",
       "    <tr style=\"text-align: right;\">\n",
       "      <th></th>\n",
       "      <th>tweet</th>\n",
       "      <th>label</th>\n",
       "      <th>clean_tweets</th>\n",
       "    </tr>\n",
       "  </thead>\n",
       "  <tbody>\n",
       "    <tr>\n",
       "      <th>0</th>\n",
       "      <td>#ArianaGrande Ari By Ariana Grande 80% Full https://t.co/ylhCMETHHW #Singer #Actress https://t.co/lTrb1JQiEA\\n</td>\n",
       "      <td>0</td>\n",
       "      <td>#ArianaGrande Ari By Ariana Grande 80% Full  #Singer #Actress \\n</td>\n",
       "    </tr>\n",
       "    <tr>\n",
       "      <th>1</th>\n",
       "      <td>Ariana Grande KIIS FM Yours Truly CD listening party in Burbank https://t.co/ClQIcx8Z6V #ArianaGrande\\n</td>\n",
       "      <td>1</td>\n",
       "      <td>Ariana Grande KIIS FM Yours Truly CD listening party in Burbank  #ArianaGrande\\n</td>\n",
       "    </tr>\n",
       "    <tr>\n",
       "      <th>2</th>\n",
       "      <td>Ariana Grande White House Easter Egg Roll in Washington https://t.co/jdjL9swWM8 #ArianaGrande\\n</td>\n",
       "      <td>1</td>\n",
       "      <td>Ariana Grande White House Easter Egg Roll in Washington  #ArianaGrande\\n</td>\n",
       "    </tr>\n",
       "    <tr>\n",
       "      <th>3</th>\n",
       "      <td>#CD #Musics Ariana Grande Sweet Like Candy 3.4 oz 100 ML Sealed In Box 100% Authenic New https://t.co/oFmp0bOvZy… https://t.co/WIHLch9KtK\\n</td>\n",
       "      <td>1</td>\n",
       "      <td>#CD #Musics Ariana Grande Sweet Like Candy 3.4 oz 100 ML Sealed In Box 100% Authenic New … \\n</td>\n",
       "    </tr>\n",
       "    <tr>\n",
       "      <th>4</th>\n",
       "      <td>SIDE TO SIDE 😘 @arianagrande #sidetoside #arianagrande #musically #comunidadgay #lgbt🌈  #LOTB… https://t.co/tEd8rftAxV\\n</td>\n",
       "      <td>1</td>\n",
       "      <td>SIDE TO SIDE 😘  #sidetoside #arianagrande #musically #comunidadgay #lgbt🌈  #LOTB… \\n</td>\n",
       "    </tr>\n",
       "  </tbody>\n",
       "</table>\n",
       "</div>"
      ],
      "text/plain": [
       "                                                                                                                                         tweet  \\\n",
       "0                               #ArianaGrande Ari By Ariana Grande 80% Full https://t.co/ylhCMETHHW #Singer #Actress https://t.co/lTrb1JQiEA\\n   \n",
       "1                                      Ariana Grande KIIS FM Yours Truly CD listening party in Burbank https://t.co/ClQIcx8Z6V #ArianaGrande\\n   \n",
       "2                                              Ariana Grande White House Easter Egg Roll in Washington https://t.co/jdjL9swWM8 #ArianaGrande\\n   \n",
       "3  #CD #Musics Ariana Grande Sweet Like Candy 3.4 oz 100 ML Sealed In Box 100% Authenic New https://t.co/oFmp0bOvZy… https://t.co/WIHLch9KtK\\n   \n",
       "4                     SIDE TO SIDE 😘 @arianagrande #sidetoside #arianagrande #musically #comunidadgay #lgbt🌈  #LOTB… https://t.co/tEd8rftAxV\\n   \n",
       "\n",
       "  label  \\\n",
       "0     0   \n",
       "1     1   \n",
       "2     1   \n",
       "3     1   \n",
       "4     1   \n",
       "\n",
       "                                                                                    clean_tweets  \n",
       "0                               #ArianaGrande Ari By Ariana Grande 80% Full  #Singer #Actress \\n  \n",
       "1               Ariana Grande KIIS FM Yours Truly CD listening party in Burbank  #ArianaGrande\\n  \n",
       "2                       Ariana Grande White House Easter Egg Roll in Washington  #ArianaGrande\\n  \n",
       "3  #CD #Musics Ariana Grande Sweet Like Candy 3.4 oz 100 ML Sealed In Box 100% Authenic New … \\n  \n",
       "4           SIDE TO SIDE 😘  #sidetoside #arianagrande #musically #comunidadgay #lgbt🌈  #LOTB… \\n  "
      ]
     },
     "execution_count": 14,
     "metadata": {},
     "output_type": "execute_result"
    }
   ],
   "source": [
    "my_data.head()"
   ]
  },
  {
   "cell_type": "markdown",
   "metadata": {},
   "source": [
    "### 2.2 Removing symbols and numbers"
   ]
  },
  {
   "cell_type": "code",
   "execution_count": 15,
   "metadata": {},
   "outputs": [],
   "source": [
    "my_data[\"clean_tweets\"]=my_data[\"clean_tweets\"].str.replace(\"[^A-Za-z#]\",\" \")"
   ]
  },
  {
   "cell_type": "code",
   "execution_count": 16,
   "metadata": {},
   "outputs": [
    {
     "data": {
      "text/html": [
       "<div>\n",
       "<style scoped>\n",
       "    .dataframe tbody tr th:only-of-type {\n",
       "        vertical-align: middle;\n",
       "    }\n",
       "\n",
       "    .dataframe tbody tr th {\n",
       "        vertical-align: top;\n",
       "    }\n",
       "\n",
       "    .dataframe thead th {\n",
       "        text-align: right;\n",
       "    }\n",
       "</style>\n",
       "<table border=\"1\" class=\"dataframe\">\n",
       "  <thead>\n",
       "    <tr style=\"text-align: right;\">\n",
       "      <th></th>\n",
       "      <th>tweet</th>\n",
       "      <th>label</th>\n",
       "      <th>clean_tweets</th>\n",
       "    </tr>\n",
       "  </thead>\n",
       "  <tbody>\n",
       "    <tr>\n",
       "      <th>0</th>\n",
       "      <td>#ArianaGrande Ari By Ariana Grande 80% Full https://t.co/ylhCMETHHW #Singer #Actress https://t.co/lTrb1JQiEA\\n</td>\n",
       "      <td>0</td>\n",
       "      <td>#ArianaGrande Ari By Ariana Grande     Full  #Singer #Actress</td>\n",
       "    </tr>\n",
       "    <tr>\n",
       "      <th>1</th>\n",
       "      <td>Ariana Grande KIIS FM Yours Truly CD listening party in Burbank https://t.co/ClQIcx8Z6V #ArianaGrande\\n</td>\n",
       "      <td>1</td>\n",
       "      <td>Ariana Grande KIIS FM Yours Truly CD listening party in Burbank  #ArianaGrande</td>\n",
       "    </tr>\n",
       "    <tr>\n",
       "      <th>2</th>\n",
       "      <td>Ariana Grande White House Easter Egg Roll in Washington https://t.co/jdjL9swWM8 #ArianaGrande\\n</td>\n",
       "      <td>1</td>\n",
       "      <td>Ariana Grande White House Easter Egg Roll in Washington  #ArianaGrande</td>\n",
       "    </tr>\n",
       "    <tr>\n",
       "      <th>3</th>\n",
       "      <td>#CD #Musics Ariana Grande Sweet Like Candy 3.4 oz 100 ML Sealed In Box 100% Authenic New https://t.co/oFmp0bOvZy… https://t.co/WIHLch9KtK\\n</td>\n",
       "      <td>1</td>\n",
       "      <td>#CD #Musics Ariana Grande Sweet Like Candy     oz     ML Sealed In Box      Authenic New</td>\n",
       "    </tr>\n",
       "    <tr>\n",
       "      <th>4</th>\n",
       "      <td>SIDE TO SIDE 😘 @arianagrande #sidetoside #arianagrande #musically #comunidadgay #lgbt🌈  #LOTB… https://t.co/tEd8rftAxV\\n</td>\n",
       "      <td>1</td>\n",
       "      <td>SIDE TO SIDE    #sidetoside #arianagrande #musically #comunidadgay #lgbt   #LOTB</td>\n",
       "    </tr>\n",
       "    <tr>\n",
       "      <th>5</th>\n",
       "      <td>Hairspray Live! Previews at the Macy's Thanksgiving Day Parade! https://t.co/GaFTqInolL #arianagrande #televisionnbc\\n</td>\n",
       "      <td>1</td>\n",
       "      <td>Hairspray Live  Previews at the Macy s Thanksgiving Day Parade   #arianagrande #televisionnbc</td>\n",
       "    </tr>\n",
       "    <tr>\n",
       "      <th>6</th>\n",
       "      <td>#LindsayLohan Is ‘Feeling Thankful’ After Blasting #ArianaGrande For Wearing ‘#TooMuch… https://t.co/Acf8ogvPxd https://t.co/EOSHtG9ay4\\n</td>\n",
       "      <td>1</td>\n",
       "      <td>#LindsayLohan Is  Feeling Thankful  After Blasting #ArianaGrande For Wearing  #TooMuch</td>\n",
       "    </tr>\n",
       "    <tr>\n",
       "      <th>7</th>\n",
       "      <td>I hate her but... I love her songs Dammit ._.#ArianaGrande\\n</td>\n",
       "      <td>-1</td>\n",
       "      <td>I hate her but    I love her songs Dammit    #ArianaGrande</td>\n",
       "    </tr>\n",
       "    <tr>\n",
       "      <th>8</th>\n",
       "      <td>Ariana Grande 【Right There ft. Big Sean】#アリアナ #arianagrande https://t.co/4rZOKYDnut\\n</td>\n",
       "      <td>0</td>\n",
       "      <td>Ariana Grande  Right There ft  Big Sean #     #arianagrande</td>\n",
       "    </tr>\n",
       "    <tr>\n",
       "      <th>9</th>\n",
       "      <td>which one would you prefer to listen to for a whole day? 😍🤘🏼; i could never choose #arianagrande #IntoYou #SideToSide #songs #Poll\\n</td>\n",
       "      <td>0</td>\n",
       "      <td>which one would you prefer to listen to for a whole day       i could never choose #arianagrande #IntoYou #SideToSide #songs #Poll</td>\n",
       "    </tr>\n",
       "  </tbody>\n",
       "</table>\n",
       "</div>"
      ],
      "text/plain": [
       "                                                                                                                                         tweet  \\\n",
       "0                               #ArianaGrande Ari By Ariana Grande 80% Full https://t.co/ylhCMETHHW #Singer #Actress https://t.co/lTrb1JQiEA\\n   \n",
       "1                                      Ariana Grande KIIS FM Yours Truly CD listening party in Burbank https://t.co/ClQIcx8Z6V #ArianaGrande\\n   \n",
       "2                                              Ariana Grande White House Easter Egg Roll in Washington https://t.co/jdjL9swWM8 #ArianaGrande\\n   \n",
       "3  #CD #Musics Ariana Grande Sweet Like Candy 3.4 oz 100 ML Sealed In Box 100% Authenic New https://t.co/oFmp0bOvZy… https://t.co/WIHLch9KtK\\n   \n",
       "4                     SIDE TO SIDE 😘 @arianagrande #sidetoside #arianagrande #musically #comunidadgay #lgbt🌈  #LOTB… https://t.co/tEd8rftAxV\\n   \n",
       "5                       Hairspray Live! Previews at the Macy's Thanksgiving Day Parade! https://t.co/GaFTqInolL #arianagrande #televisionnbc\\n   \n",
       "6    #LindsayLohan Is ‘Feeling Thankful’ After Blasting #ArianaGrande For Wearing ‘#TooMuch… https://t.co/Acf8ogvPxd https://t.co/EOSHtG9ay4\\n   \n",
       "7                                                                                 I hate her but... I love her songs Dammit ._.#ArianaGrande\\n   \n",
       "8                                                        Ariana Grande 【Right There ft. Big Sean】#アリアナ #arianagrande https://t.co/4rZOKYDnut\\n   \n",
       "9         which one would you prefer to listen to for a whole day? 😍🤘🏼; i could never choose #arianagrande #IntoYou #SideToSide #songs #Poll\\n   \n",
       "\n",
       "  label  \\\n",
       "0     0   \n",
       "1     1   \n",
       "2     1   \n",
       "3     1   \n",
       "4     1   \n",
       "5     1   \n",
       "6     1   \n",
       "7    -1   \n",
       "8     0   \n",
       "9     0   \n",
       "\n",
       "                                                                                                                          clean_tweets  \n",
       "0                                                                      #ArianaGrande Ari By Ariana Grande     Full  #Singer #Actress    \n",
       "1                                                      Ariana Grande KIIS FM Yours Truly CD listening party in Burbank  #ArianaGrande   \n",
       "2                                                              Ariana Grande White House Easter Egg Roll in Washington  #ArianaGrande   \n",
       "3                                         #CD #Musics Ariana Grande Sweet Like Candy     oz     ML Sealed In Box      Authenic New      \n",
       "4                                                  SIDE TO SIDE    #sidetoside #arianagrande #musically #comunidadgay #lgbt   #LOTB     \n",
       "5                                       Hairspray Live  Previews at the Macy s Thanksgiving Day Parade   #arianagrande #televisionnbc   \n",
       "6                                           #LindsayLohan Is  Feeling Thankful  After Blasting #ArianaGrande For Wearing  #TooMuch      \n",
       "7                                                                          I hate her but    I love her songs Dammit    #ArianaGrande   \n",
       "8                                                                        Ariana Grande  Right There ft  Big Sean #     #arianagrande    \n",
       "9  which one would you prefer to listen to for a whole day       i could never choose #arianagrande #IntoYou #SideToSide #songs #Poll   "
      ]
     },
     "execution_count": 16,
     "metadata": {},
     "output_type": "execute_result"
    }
   ],
   "source": [
    "my_data.head(10)"
   ]
  },
  {
   "cell_type": "markdown",
   "metadata": {},
   "source": [
    "## 3. Tokenizing and Lemtizing tweets"
   ]
  },
  {
   "cell_type": "code",
   "execution_count": 22,
   "metadata": {},
   "outputs": [
    {
     "data": {
      "text/plain": [
       "0                                              [#ArianaGrande, Ari, By, Ariana, Grande, Full, #Singer, #Actress]\n",
       "1                     [Ariana, Grande, KIIS, FM, Yours, Truly, CD, listening, party, in, Burbank, #ArianaGrande]\n",
       "2                               [Ariana, Grande, White, House, Easter, Egg, Roll, in, Washington, #ArianaGrande]\n",
       "3                     [#CD, #Musics, Ariana, Grande, Sweet, Like, Candy, oz, ML, Sealed, In, Box, Authenic, New]\n",
       "4                          [SIDE, TO, SIDE, #sidetoside, #arianagrande, #musically, #comunidadgay, #lgbt, #LOTB]\n",
       "                                                          ...                                                   \n",
       "12374                                                                    [update, Zac, Efron, kissing, a, puppy]\n",
       "12375                                                              [#zac, efron, sex, pic, skins, michelle, sex]\n",
       "12376                                [First, Look, at, Neighbors, with, Zac, Efron, Shirtless, PHOTO, #zacefron]\n",
       "12377                                                            [zac, efron, poses, nude, #lovely, libra, porn]\n",
       "12378    [#Fashion, #Style, The, Paperboy, NEW, Blu, ray, Disc, Matthew, McConaughey, Zac, Efron, #NicoleKidman]\n",
       "Name: clean_tweets, Length: 12379, dtype: object"
      ]
     },
     "execution_count": 22,
     "metadata": {},
     "output_type": "execute_result"
    }
   ],
   "source": [
    "tokenized_tweets= my_data['clean_tweets'].apply(lambda x: x.split())\n",
    "tokenized_tweets"
   ]
  },
  {
   "cell_type": "code",
   "execution_count": 23,
   "metadata": {},
   "outputs": [],
   "source": [
    "from nltk.corpus import wordnet\n",
    "\n",
    "wordnet_lemmatizer = WordNetLemmatizer()"
   ]
  },
  {
   "cell_type": "code",
   "execution_count": 24,
   "metadata": {},
   "outputs": [],
   "source": [
    "def get_wordnet_pos(word):\n",
    "    \"\"\"Map POS tag to first character lemmatize() accepts\"\"\"\n",
    "    tag = nltk.pos_tag([word])[0][1][0].upper()\n",
    "    tag_dict = {\"J\": wordnet.ADJ,\n",
    "                \"N\": wordnet.NOUN,\n",
    "                \"V\": wordnet.VERB,\n",
    "                \"R\": wordnet.ADV}\n",
    "    return tag_dict.get(tag, wordnet.NOUN)"
   ]
  },
  {
   "cell_type": "code",
   "execution_count": 25,
   "metadata": {},
   "outputs": [],
   "source": [
    "tokenized_tweets=tokenized_tweets.apply(lambda x: [wordnet_lemmatizer.lemmatize(i,get_wordnet_pos(i)) for i in x])"
   ]
  },
  {
   "cell_type": "code",
   "execution_count": 26,
   "metadata": {},
   "outputs": [
    {
     "data": {
      "text/plain": [
       "0                             [#ArianaGrande, Ari, By, Ariana, Grande, Full, #Singer, #Actress]\n",
       "1       [Ariana, Grande, KIIS, FM, Yours, Truly, CD, listen, party, in, Burbank, #ArianaGrande]\n",
       "2              [Ariana, Grande, White, House, Easter, Egg, Roll, in, Washington, #ArianaGrande]\n",
       "3    [#CD, #Musics, Ariana, Grande, Sweet, Like, Candy, oz, ML, Sealed, In, Box, Authenic, New]\n",
       "4         [SIDE, TO, SIDE, #sidetoside, #arianagrande, #musically, #comunidadgay, #lgbt, #LOTB]\n",
       "Name: clean_tweets, dtype: object"
      ]
     },
     "execution_count": 26,
     "metadata": {},
     "output_type": "execute_result"
    }
   ],
   "source": [
    "tokenized_tweets.head()"
   ]
  },
  {
   "cell_type": "code",
   "execution_count": 27,
   "metadata": {},
   "outputs": [],
   "source": [
    "for i in range(len(tokenized_tweets)):\n",
    "    tokenized_tweets[i]=\" \".join(tokenized_tweets[i])\n",
    "my_data['clean_tweets']=tokenized_tweets"
   ]
  },
  {
   "cell_type": "code",
   "execution_count": 28,
   "metadata": {},
   "outputs": [
    {
     "data": {
      "text/html": [
       "<div>\n",
       "<style scoped>\n",
       "    .dataframe tbody tr th:only-of-type {\n",
       "        vertical-align: middle;\n",
       "    }\n",
       "\n",
       "    .dataframe tbody tr th {\n",
       "        vertical-align: top;\n",
       "    }\n",
       "\n",
       "    .dataframe thead th {\n",
       "        text-align: right;\n",
       "    }\n",
       "</style>\n",
       "<table border=\"1\" class=\"dataframe\">\n",
       "  <thead>\n",
       "    <tr style=\"text-align: right;\">\n",
       "      <th></th>\n",
       "      <th>tweet</th>\n",
       "      <th>label</th>\n",
       "      <th>clean_tweets</th>\n",
       "    </tr>\n",
       "  </thead>\n",
       "  <tbody>\n",
       "    <tr>\n",
       "      <th>0</th>\n",
       "      <td>#ArianaGrande Ari By Ariana Grande 80% Full https://t.co/ylhCMETHHW #Singer #Actress https://t.co/lTrb1JQiEA\\n</td>\n",
       "      <td>0</td>\n",
       "      <td>#ArianaGrande Ari By Ariana Grande Full #Singer #Actress</td>\n",
       "    </tr>\n",
       "    <tr>\n",
       "      <th>1</th>\n",
       "      <td>Ariana Grande KIIS FM Yours Truly CD listening party in Burbank https://t.co/ClQIcx8Z6V #ArianaGrande\\n</td>\n",
       "      <td>1</td>\n",
       "      <td>Ariana Grande KIIS FM Yours Truly CD listen party in Burbank #ArianaGrande</td>\n",
       "    </tr>\n",
       "    <tr>\n",
       "      <th>2</th>\n",
       "      <td>Ariana Grande White House Easter Egg Roll in Washington https://t.co/jdjL9swWM8 #ArianaGrande\\n</td>\n",
       "      <td>1</td>\n",
       "      <td>Ariana Grande White House Easter Egg Roll in Washington #ArianaGrande</td>\n",
       "    </tr>\n",
       "    <tr>\n",
       "      <th>3</th>\n",
       "      <td>#CD #Musics Ariana Grande Sweet Like Candy 3.4 oz 100 ML Sealed In Box 100% Authenic New https://t.co/oFmp0bOvZy… https://t.co/WIHLch9KtK\\n</td>\n",
       "      <td>1</td>\n",
       "      <td>#CD #Musics Ariana Grande Sweet Like Candy oz ML Sealed In Box Authenic New</td>\n",
       "    </tr>\n",
       "    <tr>\n",
       "      <th>4</th>\n",
       "      <td>SIDE TO SIDE 😘 @arianagrande #sidetoside #arianagrande #musically #comunidadgay #lgbt🌈  #LOTB… https://t.co/tEd8rftAxV\\n</td>\n",
       "      <td>1</td>\n",
       "      <td>SIDE TO SIDE #sidetoside #arianagrande #musically #comunidadgay #lgbt #LOTB</td>\n",
       "    </tr>\n",
       "    <tr>\n",
       "      <th>5</th>\n",
       "      <td>Hairspray Live! Previews at the Macy's Thanksgiving Day Parade! https://t.co/GaFTqInolL #arianagrande #televisionnbc\\n</td>\n",
       "      <td>1</td>\n",
       "      <td>Hairspray Live Previews at the Macy s Thanksgiving Day Parade #arianagrande #televisionnbc</td>\n",
       "    </tr>\n",
       "    <tr>\n",
       "      <th>6</th>\n",
       "      <td>#LindsayLohan Is ‘Feeling Thankful’ After Blasting #ArianaGrande For Wearing ‘#TooMuch… https://t.co/Acf8ogvPxd https://t.co/EOSHtG9ay4\\n</td>\n",
       "      <td>1</td>\n",
       "      <td>#LindsayLohan Is Feeling Thankful After Blasting #ArianaGrande For Wearing #TooMuch</td>\n",
       "    </tr>\n",
       "    <tr>\n",
       "      <th>7</th>\n",
       "      <td>I hate her but... I love her songs Dammit ._.#ArianaGrande\\n</td>\n",
       "      <td>-1</td>\n",
       "      <td>I hate her but I love her song Dammit #ArianaGrande</td>\n",
       "    </tr>\n",
       "    <tr>\n",
       "      <th>8</th>\n",
       "      <td>Ariana Grande 【Right There ft. Big Sean】#アリアナ #arianagrande https://t.co/4rZOKYDnut\\n</td>\n",
       "      <td>0</td>\n",
       "      <td>Ariana Grande Right There ft Big Sean # #arianagrande</td>\n",
       "    </tr>\n",
       "    <tr>\n",
       "      <th>9</th>\n",
       "      <td>which one would you prefer to listen to for a whole day? 😍🤘🏼; i could never choose #arianagrande #IntoYou #SideToSide #songs #Poll\\n</td>\n",
       "      <td>0</td>\n",
       "      <td>which one would you prefer to listen to for a whole day i could never choose #arianagrande #IntoYou #SideToSide #songs #Poll</td>\n",
       "    </tr>\n",
       "  </tbody>\n",
       "</table>\n",
       "</div>"
      ],
      "text/plain": [
       "                                                                                                                                         tweet  \\\n",
       "0                               #ArianaGrande Ari By Ariana Grande 80% Full https://t.co/ylhCMETHHW #Singer #Actress https://t.co/lTrb1JQiEA\\n   \n",
       "1                                      Ariana Grande KIIS FM Yours Truly CD listening party in Burbank https://t.co/ClQIcx8Z6V #ArianaGrande\\n   \n",
       "2                                              Ariana Grande White House Easter Egg Roll in Washington https://t.co/jdjL9swWM8 #ArianaGrande\\n   \n",
       "3  #CD #Musics Ariana Grande Sweet Like Candy 3.4 oz 100 ML Sealed In Box 100% Authenic New https://t.co/oFmp0bOvZy… https://t.co/WIHLch9KtK\\n   \n",
       "4                     SIDE TO SIDE 😘 @arianagrande #sidetoside #arianagrande #musically #comunidadgay #lgbt🌈  #LOTB… https://t.co/tEd8rftAxV\\n   \n",
       "5                       Hairspray Live! Previews at the Macy's Thanksgiving Day Parade! https://t.co/GaFTqInolL #arianagrande #televisionnbc\\n   \n",
       "6    #LindsayLohan Is ‘Feeling Thankful’ After Blasting #ArianaGrande For Wearing ‘#TooMuch… https://t.co/Acf8ogvPxd https://t.co/EOSHtG9ay4\\n   \n",
       "7                                                                                 I hate her but... I love her songs Dammit ._.#ArianaGrande\\n   \n",
       "8                                                        Ariana Grande 【Right There ft. Big Sean】#アリアナ #arianagrande https://t.co/4rZOKYDnut\\n   \n",
       "9         which one would you prefer to listen to for a whole day? 😍🤘🏼; i could never choose #arianagrande #IntoYou #SideToSide #songs #Poll\\n   \n",
       "\n",
       "  label  \\\n",
       "0     0   \n",
       "1     1   \n",
       "2     1   \n",
       "3     1   \n",
       "4     1   \n",
       "5     1   \n",
       "6     1   \n",
       "7    -1   \n",
       "8     0   \n",
       "9     0   \n",
       "\n",
       "                                                                                                                   clean_tweets  \n",
       "0                                                                      #ArianaGrande Ari By Ariana Grande Full #Singer #Actress  \n",
       "1                                                    Ariana Grande KIIS FM Yours Truly CD listen party in Burbank #ArianaGrande  \n",
       "2                                                         Ariana Grande White House Easter Egg Roll in Washington #ArianaGrande  \n",
       "3                                                   #CD #Musics Ariana Grande Sweet Like Candy oz ML Sealed In Box Authenic New  \n",
       "4                                                   SIDE TO SIDE #sidetoside #arianagrande #musically #comunidadgay #lgbt #LOTB  \n",
       "5                                    Hairspray Live Previews at the Macy s Thanksgiving Day Parade #arianagrande #televisionnbc  \n",
       "6                                           #LindsayLohan Is Feeling Thankful After Blasting #ArianaGrande For Wearing #TooMuch  \n",
       "7                                                                           I hate her but I love her song Dammit #ArianaGrande  \n",
       "8                                                                         Ariana Grande Right There ft Big Sean # #arianagrande  \n",
       "9  which one would you prefer to listen to for a whole day i could never choose #arianagrande #IntoYou #SideToSide #songs #Poll  "
      ]
     },
     "execution_count": 28,
     "metadata": {},
     "output_type": "execute_result"
    }
   ],
   "source": [
    "my_data.head(10)"
   ]
  },
  {
   "cell_type": "markdown",
   "metadata": {},
   "source": [
    "## 4. Analysis of the tweets "
   ]
  },
  {
   "cell_type": "markdown",
   "metadata": {},
   "source": [
    "### 4.1 Most Common Words in Positive Tweets"
   ]
  },
  {
   "cell_type": "code",
   "execution_count": 33,
   "metadata": {},
   "outputs": [
    {
     "name": "stdout",
     "output_type": "stream",
     "text": [
      "Collecting wordcloud\n",
      "  Using cached wordcloud-1.8.1.tar.gz (220 kB)\n",
      "  Preparing metadata (setup.py): started\n",
      "  Preparing metadata (setup.py): finished with status 'done'\n",
      "Requirement already satisfied: numpy>=1.6.1 in c:\\users\\beck\\projectdir\\venv\\lib\\site-packages (from wordcloud) (1.22.2)\n",
      "Requirement already satisfied: pillow in c:\\users\\beck\\projectdir\\venv\\lib\\site-packages (from wordcloud) (9.0.1)\n",
      "Requirement already satisfied: matplotlib in c:\\users\\beck\\projectdir\\venv\\lib\\site-packages (from wordcloud) (3.5.1)\n",
      "Requirement already satisfied: python-dateutil>=2.7 in c:\\users\\beck\\projectdir\\venv\\lib\\site-packages (from matplotlib->wordcloud) (2.8.2)\n",
      "Requirement already satisfied: fonttools>=4.22.0 in c:\\users\\beck\\projectdir\\venv\\lib\\site-packages (from matplotlib->wordcloud) (4.29.1)\n",
      "Requirement already satisfied: kiwisolver>=1.0.1 in c:\\users\\beck\\projectdir\\venv\\lib\\site-packages (from matplotlib->wordcloud) (1.3.2)\n",
      "Requirement already satisfied: packaging>=20.0 in c:\\users\\beck\\projectdir\\venv\\lib\\site-packages (from matplotlib->wordcloud) (21.3)\n",
      "Requirement already satisfied: cycler>=0.10 in c:\\users\\beck\\projectdir\\venv\\lib\\site-packages (from matplotlib->wordcloud) (0.11.0)Note: you may need to restart the kernel to use updated packages.\n"
     ]
    },
    {
     "name": "stderr",
     "output_type": "stream",
     "text": [
      "  error: subprocess-exited-with-error\n",
      "  \n",
      "  python setup.py bdist_wheel did not run successfully.\n",
      "  exit code: 1\n",
      "  \n",
      "  [59 lines of output]\n",
      "  running bdist_wheel\n",
      "  running build\n",
      "  running build_py\n",
      "  UPDATING build\\lib.win-amd64-3.9\\wordcloud/_version.py\n",
      "  set build\\lib.win-amd64-3.9\\wordcloud/_version.py to '1.8.1'\n",
      "  running build_ext\n"
     ]
    },
    {
     "name": "stdout",
     "output_type": "stream",
     "text": [
      "\n",
      "Requirement already satisfied: pyparsing>=2.2.1 in c:\\users\\beck\\projectdir\\venv\\lib\\site-packages (from matplotlib->wordcloud) (3.0.7)\n",
      "Requirement already satisfied: six>=1.5 in c:\\users\\beck\\projectdir\\venv\\lib\\site-packages (from python-dateutil>=2.7->matplotlib->wordcloud) (1.16.0)\n",
      "Building wheels for collected packages: wordcloud\n",
      "  Building wheel for wordcloud (setup.py): started\n",
      "  Building wheel for wordcloud (setup.py): finished with status 'error'\n",
      "  Running setup.py clean for wordcloud\n",
      "Failed to build wordcloud\n",
      "Installing collected packages: wordcloud\n",
      "  Running setup.py install for wordcloud: started\n",
      "  Running setup.py install for wordcloud: finished with status 'error'\n"
     ]
    },
    {
     "name": "stderr",
     "output_type": "stream",
     "text": [
      "  building 'wordcloud.query_integral_image' extension\n",
      "  Traceback (most recent call last):\n",
      "    File \"<string>\", line 2, in <module>\n",
      "    File \"<pip-setuptools-caller>\", line 34, in <module>\n",
      "    File \"C:\\Users\\Beck\\AppData\\Local\\Temp\\pip-install-lum5ykk1\\wordcloud_6905e65376c94876b3913dc048a3c89e\\setup.py\", line 9, in <module>\n",
      "      setup(\n",
      "    File \"C:\\Users\\Beck\\projectDir\\venv\\lib\\site-packages\\setuptools\\__init__.py\", line 155, in setup\n",
      "      return distutils.core.setup(**attrs)\n",
      "    File \"C:\\Users\\Beck\\projectDir\\venv\\lib\\site-packages\\setuptools\\_distutils\\core.py\", line 148, in setup\n",
      "      return run_commands(dist)\n",
      "    File \"C:\\Users\\Beck\\projectDir\\venv\\lib\\site-packages\\setuptools\\_distutils\\core.py\", line 163, in run_commands\n",
      "      dist.run_commands()\n",
      "    File \"C:\\Users\\Beck\\projectDir\\venv\\lib\\site-packages\\setuptools\\_distutils\\dist.py\", line 967, in run_commands\n",
      "      self.run_command(cmd)\n",
      "    File \"C:\\Users\\Beck\\projectDir\\venv\\lib\\site-packages\\setuptools\\_distutils\\dist.py\", line 986, in run_command\n",
      "      cmd_obj.run()\n",
      "    File \"C:\\Users\\Beck\\projectDir\\venv\\lib\\site-packages\\wheel\\bdist_wheel.py\", line 299, in run\n",
      "      self.run_command('build')\n",
      "    File \"C:\\Users\\Beck\\projectDir\\venv\\lib\\site-packages\\setuptools\\_distutils\\cmd.py\", line 313, in run_command\n",
      "      self.distribution.run_command(command)\n",
      "    File \"C:\\Users\\Beck\\projectDir\\venv\\lib\\site-packages\\setuptools\\_distutils\\dist.py\", line 986, in run_command\n",
      "      cmd_obj.run()\n",
      "    File \"C:\\Users\\Beck\\projectDir\\venv\\lib\\site-packages\\setuptools\\_distutils\\command\\build.py\", line 135, in run\n",
      "      self.run_command(cmd_name)\n",
      "    File \"C:\\Users\\Beck\\projectDir\\venv\\lib\\site-packages\\setuptools\\_distutils\\cmd.py\", line 313, in run_command\n",
      "      self.distribution.run_command(command)\n",
      "    File \"C:\\Users\\Beck\\projectDir\\venv\\lib\\site-packages\\setuptools\\_distutils\\dist.py\", line 986, in run_command\n",
      "      cmd_obj.run()\n",
      "    File \"C:\\Users\\Beck\\projectDir\\venv\\lib\\site-packages\\setuptools\\command\\build_ext.py\", line 79, in run\n",
      "      _build_ext.run(self)\n",
      "    File \"C:\\Users\\Beck\\projectDir\\venv\\lib\\site-packages\\Cython\\Distutils\\old_build_ext.py\", line 186, in run\n",
      "      _build_ext.build_ext.run(self)\n",
      "    File \"C:\\Users\\Beck\\projectDir\\venv\\lib\\site-packages\\setuptools\\_distutils\\command\\build_ext.py\", line 339, in run\n",
      "      self.build_extensions()\n",
      "    File \"C:\\Users\\Beck\\projectDir\\venv\\lib\\site-packages\\Cython\\Distutils\\old_build_ext.py\", line 195, in build_extensions\n",
      "      _build_ext.build_ext.build_extensions(self)\n",
      "    File \"C:\\Users\\Beck\\projectDir\\venv\\lib\\site-packages\\setuptools\\_distutils\\command\\build_ext.py\", line 448, in build_extensions\n",
      "      self._build_extensions_serial()\n",
      "    File \"C:\\Users\\Beck\\projectDir\\venv\\lib\\site-packages\\setuptools\\_distutils\\command\\build_ext.py\", line 473, in _build_extensions_serial\n",
      "      self.build_extension(ext)\n",
      "    File \"C:\\Users\\Beck\\projectDir\\venv\\lib\\site-packages\\setuptools\\command\\build_ext.py\", line 202, in build_extension\n",
      "      _build_ext.build_extension(self, ext)\n",
      "    File \"C:\\Users\\Beck\\projectDir\\venv\\lib\\site-packages\\setuptools\\_distutils\\command\\build_ext.py\", line 528, in build_extension\n",
      "      objects = self.compiler.compile(sources,\n",
      "    File \"C:\\Users\\Beck\\projectDir\\venv\\lib\\site-packages\\setuptools\\_distutils\\_msvccompiler.py\", line 327, in compile\n",
      "      self.initialize()\n",
      "    File \"C:\\Users\\Beck\\projectDir\\venv\\lib\\site-packages\\setuptools\\_distutils\\_msvccompiler.py\", line 224, in initialize\n",
      "      vc_env = _get_vc_env(plat_spec)\n",
      "    File \"C:\\Users\\Beck\\projectDir\\venv\\lib\\site-packages\\setuptools\\msvc.py\", line 316, in msvc14_get_vc_env\n",
      "      return _msvc14_get_vc_env(plat_spec)\n",
      "    File \"C:\\Users\\Beck\\projectDir\\venv\\lib\\site-packages\\setuptools\\msvc.py\", line 270, in _msvc14_get_vc_env\n",
      "      raise distutils.errors.DistutilsPlatformError(\n",
      "  setuptools._distutils.errors.DistutilsPlatformError: Microsoft Visual C++ 14.0 or greater is required. Get it with \"Microsoft C++ Build Tools\": https://visualstudio.microsoft.com/visual-cpp-build-tools/\n",
      "  [end of output]\n",
      "  \n",
      "  note: This error originates from a subprocess, and is likely not a problem with pip.\n",
      "  ERROR: Failed building wheel for wordcloud\n",
      "  error: subprocess-exited-with-error\n",
      "  \n",
      "  Running setup.py install for wordcloud did not run successfully.\n",
      "  exit code: 1\n",
      "  \n",
      "  [10 lines of output]\n",
      "  running install\n",
      "  C:\\Users\\Beck\\projectDir\\venv\\lib\\site-packages\\setuptools\\command\\install.py:34: SetuptoolsDeprecationWarning: setup.py install is deprecated. Use build and pip and other standards-based tools.\n",
      "    warnings.warn(\n",
      "  running build\n",
      "  running build_py\n",
      "  UPDATING build\\lib.win-amd64-3.9\\wordcloud/_version.py\n",
      "  set build\\lib.win-amd64-3.9\\wordcloud/_version.py to '1.8.1'\n",
      "  running build_ext\n",
      "  building 'wordcloud.query_integral_image' extension\n",
      "  error: Microsoft Visual C++ 14.0 or greater is required. Get it with \"Microsoft C++ Build Tools\": https://visualstudio.microsoft.com/visual-cpp-build-tools/\n",
      "  [end of output]\n",
      "  \n",
      "  note: This error originates from a subprocess, and is likely not a problem with pip.\n",
      "error: legacy-install-failure\n",
      "\n",
      "Encountered error while trying to install package.\n",
      "\n",
      "wordcloud\n",
      "\n",
      "note: This is an issue with the package mentioned above, not pip.\n",
      "hint: See above for output from the failure.\n",
      "WARNING: You are using pip version 22.0.3; however, version 22.0.4 is available.\n",
      "You should consider upgrading via the 'C:\\Users\\Beck\\projectDir\\venv\\Scripts\\python.exe -m pip install --upgrade pip' command.\n"
     ]
    }
   ],
   "source": [
    "pip install wordcloud"
   ]
  },
  {
   "cell_type": "code",
   "execution_count": 34,
   "metadata": {},
   "outputs": [],
   "source": [
    "my_data[\"label\"]=pd.to_numeric(my_data[\"label\"])\n",
    "all_non_words=\" \".join(my_data[my_data['label']==1].clean_tweets)"
   ]
  },
  {
   "cell_type": "code",
   "execution_count": 35,
   "metadata": {},
   "outputs": [
    {
     "data": {
      "text/plain": [
       "'Ariana Grande KIIS FM Yours Truly CD listen party in Burbank #ArianaGrande Ariana Grande White House Easter Egg Roll in Washington #ArianaGrande #CD #Musics Ariana Grande Sweet Like Candy oz ML Sealed In Box Authenic New SIDE TO SIDE #sidetoside #arianagrande #musically #comunidadgay #lgbt #LOTB Hairspray Live Previews at the Macy s Thanksgiving Day Parade #arianagrande #televisionnbc #LindsayLohan Is Feeling Thankful After Blasting #ArianaGrande For Wearing #TooMuch My idol be #littlemix #justinbieber #arianagrande #Beauty #ArianaGrande CHRISTMAS CHILL JAPAN ONLY #CD BONUS TRACK C #Deals #TopSeller #Beauty #ArianaGrande THE REMIX JAPAN ONLY #CD E #Deals #TopSeller One last time #ArianaGrande so much love for this woman ughh #arianagrande thanks God it s Friday #Thanksgiving #arianagrande #arianator New on Big fan of and #ArianaGrande #NickiMinaj #Barbies #Barbz #Arianators Love it #Chicago #cop gun down #BlackLivesMatter thug in #Chicago #LOL #NAACP #BlueLivesMatter #BlackTwitter Keep it up #BlackLivesMatter you ll ensure a victory in #MAGA Two year ago last night police in Ferguson Missouri tear gas and attack three safe zone I still remember #BlackLivesMatter I can and will fight for #BlackLivesMatter However I be white I never will be turn down for a job because of my skin tone WATCH Shots by #musicvideo #catchup #BlackLivesMatter #indestructableVic Here s Clinton give her support for BLM #BlackLivesMatter #VoteGreen LIVE on #Periscope Justice for Kenneth Chamberlin Sr #blacklivesmatter Chris Rock say #neverforget #charliebrownthanksgiving have Franklin sit alone #BlackLivesMatter #SayHerName Say It Loud Two New Books Look Back at #BlackPower from the age of #Trump and #BlackLivesMatter Give the money to the resistance already #standingrock #BlackLivesMatter Trump should be make to cough up #reparations #kevlar and #ammo #MakeAmericaHateAgain #BlackLivesMatter #Hatecrimes #notmypresident #BlackLivesMatter Excellent analogy Luis Enrique But the crowd be great this be a great place to play It be just handbag with a Celtic player #fcblive be well on the road to recovery Check in on his progress in this video Marlon I ll take away this shirt get my team mate to sign it and then hang it on the wall #fcblive Yesterday #Messi become the st player in the history of the game to score goal for a club in the history of the game #FCBLive Tw FCB Thank you Steven Gerrard for everything you have give to the world of football You will never walk a Recap from last night s Messi masterclass in Glasgow #CelticFCB #Messi #FCBlive Carles Ale a Barca B player Luis Enrique told me to be patient and work hard and I will get my chance #fcblive Special kind of friendship Special kind of Celebration Special kind of Love #Alba #Messi #FCBlive FCBarcelona Leo #Messi I be at the best team in the world and we do not depend on any single player #FCBLive OMG Best FIFA Goal Ever #fifa #psn #goal #fcbarcelona #neymar #FCBlive Barca have more away win than any other club in the Champions League era Club have also won more group than another else #fcblive Graphic All of Messi s good pass against Celtic #fcblive Good practice and ready for tomorrow #fcblive Messi s goal in CL be more than of the team in the competition have score in total and he s tie with five other side #fcblive PICHICHI OF EUROPE Messi be top scorer in Liga and CL combine with total #fcblive I M ON THE BEST TEAM IN THE WORLD AND DON T DEPEND ON ANY PLAYER #fcblive Lopetegui The thing that Messi do and with such consistency I haven t see anyone do that #fcblive cope Sergio Busquets be well than Zinedine Zidane #fcblive We be family #fcblive #FCB #messi #Barcelona When a legend speaks about another Legend #Gerrard #Messi #FCBLive Messi s international goal for Barcelona #fcblive via The new Miniestadi could be rename after Cryuff a one of the option to remember him #fcblive Congratulations to Messi have be vote UEFA Champions League Player of the Week #LeoMessi #UEFA #UCL My #GilmoreGirlsTop be Luke Paris Emily and Kirk Luke Sookie Logan Dean#GilmoreGirlsTop at least wait untill the end for your #GilmoreGirlsTop Mine be Luke Paul Anka Suki and Babette #TeamJess all the way After S my #GilmoreGirlsTop have change Richard Sookie Jackson Paris Kirk Mrs Kim Luke Richard Gilmore #GilmoreGirlsTop I get this So far my #GilmoreGirlsTop Sookie Luke Emily and my invisible would be Richard Luke Jess Lane Taylor #GilmoreGirlsTop be go to be on tomorrow #GilmoreGirlsTop OMG out of s #GilmoreGirlsTop will be on #Hyperventilating #GilmoreGirlsTop Can t be Lorelei or Rory Mrs Kim Miss Patty Emily Luke Tonight on CAPE guest be Jimmy s second favourite character #GilmoreGirlsTop #GilmoreGirlsTop Lane Luke Paris and Sookie be my fav character besides obvi Rory and Lorelei without the Gilmore Girls Madeline Finn Zack Lane or Sookie But I them all #GilmoreGirlsTop Nice Have fun #SMITHRADIO #GilmoreGirls #GilmoreGirlsRevival #GilmoreGirlsTop Top invisible Jess Paris Luke Sookie Taylor #GilmoreGirlsTop Sukie Luke Kurk Jess I can t wait for the new series to start #GilmoreGirlsRevival #GilmoreGirlsTop Luke Miss Patty Mrs Kim Paul Anka Can t wait for this Friday #GilmoreGirlsTop Christiane Amanpour Sophie Bloom Carole King Madeleine Albright Barbara Boxer #GilmoreGirlsTop Kirk Sookie Luke and Jess I ve be out a a Gilmore Girls fan No shame Might a well share my #GilmoreGirlsTop Luke Richard Emily ParisWho ya get how s the binge watch go Can t believe your #GilmoreGirlsTop didn t include Emily or Richard Love her have officially join the #GilmoreGirls fandom #GilmoreGirlsTop Of course I would out Christopher in my top and it would be a controversial choice so I m just not gonna do the #GilmoreGirlsTop My #GilmoreGirlsTop be Babette Miss Patty Luke Richard Emily a they be one My #GilmoreGirlsTop Richard Gil Jess Luke Other than Lorelai and Rory #GilmoreGirlsTop character be Sookie Kirk Jess Okay I ve be think a lot about this Here we go #GilmoreGirlsTop # Richard Gilmore # Paris # Sookie # my main girl Mrs Kim #GilmoreGirlsTop Luke Lorelai Jess Lane #GilmoreGirlsTop Luke Jess Sookie kirk My #GilmoreGirlsTop Madeline Kirk Luke Richard #GilmoreGirlsTop Jess Michel Paris Dave Gosh it s so hard only choose Emily Paris Kirk and Michel #GilmoreGirlsTop though it probably change every other episode Sookie Kirk Richard Luke#GilmoreGirlsTop #GilmoreGirlsTop Emily Luke Richard Paul Anka Michel be in the #GilmoreGirlsTop I appreciate the comedy relief you have provide all these year Babette Miss Patty Richard LANE #GilmoreGirlsTop Emily Paris Kirk and TJ #GilmoreGirlsTop #SookietheInvisible th #teamLOGAN Yes I know an unpopular opinion #GilmoreGirlsTop #RIPEdwardHerrmann Mr Richard Gilmore Kurk Sookie St James Lane Kim #gilmoregirlstop Lane s Mom Hello Michel Kirk obviously Babette while run and hold her boob #GilmoreGirlsTop easy Sookie Emily Luke #GilmoreGirlsTop brought to you by Babette Jackson Jess Brian Happy #GilmoreGirlsRevival Day And ne er ye fret Finn have an honorable mention at No Gilmore give them back their ball #GilmoreGirlsTop #Hatchimals # Hatch these be like gold dust now #Hatchimals be the top #Christmas product for week run quickly follow by #Fitbit check out more here Can any one help me find a Hatchimal I need one for each of my kiddy I can t find stock anywhere #Hatchimals Retweeted Voucher Angels QUICK #FreebieFriday have start My #Hatchimals be wait to be do anyone know where can i buy #Hatchimals in #london #soldouteverywhere #help #Hatchimals would melt his heart and mine X Are you hunt for one of THESE get a #Hatchimals and we ll be tell you how to get it This holiday season s hot toy be #Hatchimals but they ll be tough to find on #BlackFriday Our #hatchimal need a new home in time for Christmas Keep an eye on our Facebook page this weekend #Hatchimals It s definitely Christmas season My social medium news feed have be all about #Hatchimals since midnight Good luck parent #santagot #Hatchimals Hatchimals have be out of stock everywhere don t pay the outrageous markup just wait be patient Burtle for sale DM me #Hatchimals #hatchimal #blackfriday #burtle Bearakeet Burtle Draggle Penguala for sale DM me before they be all go #Hatchimals #hatchimal #blackfriday OMG it s Hatchi Hell out there We need more #Hatchimals I m go to share my source next Wow what will they think of next #Hatchimals The excitement I get when we get #Hatchimals be way too much for a year old girl to get Fun time inside with the #hatchimals learn what it take to care for one on li Currently go viral with my brother about our story and #HATCHIMALS TODAYshow Thankyou for the shoutout #Hatchimals be one of the coolest toy for the holiday season #CNNMoney With full belly holiday shopper first go online for deal then head to store #Hatchimals I SUCCESSFULLY CAPTURED THE HATCHIMAL My journey have end and I will go down in the history book #hatchimals Hatchimals Free on Black Friday and Cyber Monday with a Catch #Hatchimals #BlackFriday #CyberMonday Was able to get #hatchimals but no luck with the #NintendoClassicMini #blackfridayshopping #hatchimals #BlackFriday Count me in #Hatchimals #Blackfriday I ve little one who d love to win a Hatchimal #BlackFriday so glad to see all the discouncted #Furbys #Hatchimals Awesome #Hatchimals #BlackFriday ohh yes please my faughyer would love one of these i cant get one anywhere #Win #blackfriday #Hatchimals #hatchimals #BlackFriday My daughter would love this #Comp we ve get special prize for you To #win this year s number #Christmas toy a #Hatchimals Egg Enter now This year s hottest toy #Hatchimals Love It Following Retweeted #WIN Oh fantastic #Hatchimals #BlackFriday wowzers superb prize #hatchimals #WIN #BlackFriday Wow so cool #hatchimals The excitement felt when the #hatchimals hatch Rosie s face be #priceless #hatchybirthday wow on my daughter wish list #hatchimals #BlackFriday Have you see the #Hatchimals These be among the holiday season s most popular hard to find toy #hatchimals yes please my son would be over the moon with this #hatchimals #BlackFriday I need a hatchimal please #Hatchimals #isnttheresomeonthatcanhelp #payitforward The late Journal of #SOCMINT Thanks to #ecommerce #hezbollah #RealNews It s now official #Russia #Hezbollah be now coordinate operation in #Syria Great news delighted to see my book #Hezbollah positively receive in Choice Reviews Prayers to #israel #israelisburning #haifa #jews #jerusalem Another lovely day in #Jerusalem A hidden gem of #Jerusalem Special prayer today for rain our police and firefighting hero Thx Folow ng This from #Jerusalem a #contemporary take on prayer bead #art #culture #Greece #Israel #Islam #Jerusalem Greek pilot We be your friend and we be always here for you #NorwoodUJIABirthright #Limiteless #Israel tour #ShabbatShalom from the magical city of #Jerusalem You should join me at this Meetup Check it out and RSVP #icecream #jerusalem #israel Wishing you a great #Shabbat relaxed #weekend from #Jerusalem #weekendvibes #shabbatshalom #FinallyFree #fun Welcome to Jerusalem #salamduajari from #jerusalem #israel the #city of #peace #DW #picture #jerusalem be now trend in Malaysia Flick Ben enjoy a trip to the countryside I can almost hear #jerusalem play #shabbatshalom #Israel #Jerusalem s SHABBAT SHALOM TO ALL HASHEM S BLESSINGS Thanks #Israel#Jerusalem#JesusIsTheSonOfGod#Psalm #Yeshua via Top Reasons Why You Should Visit Israel Voyager #Israel #Travel #Vacation #FamilyTravel #Jerusalem There s something about this place #Jerusalem #westernwall #peacetoall #thankful #weekend #shabbat Good to meet civil society representative from #Libya and brief about SE seat in UNSC and our feminist foreign policy day we celebrate #Libya n #women work peace protection woman girl support #ViolenceAgainstWomen surv He d make a great Ambassador to #Libya United Nations Development Program UNDP South Korea offer USD M to support stability in #Libya OK it s Friday time for some end of the week fun Try the #mannequinchallenge strike a pose We have a little fun and enlist our supporter to be a part of the #MannequinChallenge Learn more at Watching #TheOtherGuys and be now convince this be the begin of the #MannequinChallenge Only our family #mannequinchallenge #thanksgiving #familygoals Excited about #KookooInn premiere this December on we decide to join in on the Sure it look like I m sleep off that Thanksgiving Day meal but I m actually take the #MannequinChallenge ri Thanks to Deborah for look after our #CompassGrads graduation today #lmao #theface definitely me #mannequin #mannequinchallenge #goofy #stevebuscemi WHEN I SAY WE TRIED DAM TIMES STANDING STILL IS HARD AF #mannequinchallenge Thanksgiving Day Mannequin Challenge#HappyThanksgiving #Litsgiving #MannequinChallenge Green Christmas Charity Benefit #MannequinChallenge Lukas Nursery Butterfly Encounter #mannequinchallenge #family lol I have so much fun today #happythankgiving The utterly brilliant #Bromley do the #MannequinChallenge all for Watch Taylor Swift s amaze #MannequinChallenge Havin a bit of fun today Do you love these guy too Have a great weekend #mannequinchallenge #luketheboxer Ek dink n #Backstage #mannequinchallenge by sal MAL AWESOME wee I really want to try the #MannequinChallenge Thanksgiving #MannequinChallenge with my family My family #Thanksgiving #MannequinChallenge Lol I love my family Powerful #MannequinChallenge Famliy hittin the #mannequinchallenge #hitemwiththeshoulders all at once Lit this Thanksgiving Our MBFM #MannequinChallenge to have a little fun for the holiday the Rugby Leaders also have a go at the #MannequinChallenge st try #mannequinchallenge This be very very good #MannequinChallenge #cadavermovie #FlashBackFriday Best friend Party #MannequinChallenge LITTTT Most Epic #MannequinChallenge EVER Win the Day the #Mannequinchallenge in a #Dunham kind of Way via #Trgthanks #madeformovers #dunhamfits #MannequinChallengeNailed it Ayyyyeeeee Thanksgiving in the book Good time good time #mannequinchallenge New Orleans Check out our Morton Coffee Station #MannequinChallenge video The crazy #milesfamily attempt the #mannequinchallenge while I think my bos and her family just won the #mannequinchallenge Check out great #MannequinChallenge #Belfasthour I wonder can you do #mannequinchallenge in #OnceUponATime I think I may be finally in with the in crowd #mannequinchallenge #grads Now that be awesome #mannequinchallenge #WeAre The late The Knitting Star Daily Thanks to #mannequinchallenge #thisiswhatyoucamefor #iaintlying #iwouldntlietoyou I wish these bill do a #mannequinchallenge #forreal #thishowifeel Beyond the headline #mannequinchallenge be a must #policystudy #policysteady #BTH Mannequin challenge #mannequinchallenge #comedy Please like and share Song by Rae Sremmurd Black Beatles We have fun here at the Check out our #MannequinChallenge in Aria Lounge be the originator of the #MannequinChallenge in the Soke music video He be a whole year ahead He deserves credit God Bless Them They be my kind of people #Godspeed #MosulOp #Peshmerga #MosulOffensive #Twitterkurds Excellent read to understand #MosulOffensive On the ground in Mosul why the bad case scenario be come true #Mosul have be cut off from rest of the #ISIS control so call #Khilafah #TalAfar #MosulOps #MosulOffensive Children wound in the #MosulOffensive receive life save treatment in Kurdistan Region s Erbil city Congratulations to the #NBAwards Winners #DanielBorzutzky You might a well keep dance dance until tomorrow give up with a shout Rita Dove reading at #MiamiBookFair #NBAwards We host the #NBAwards after party and it be We laugh dance and celebrate the night away Congrats to for their #NBAwards Thank you for tell your story The #NBAwards Fiction panel be about to begin #MiamiBookFair #thepowerofreading Cheers for book #NBAwards The late Art Music Culture in Lawrence Kansas #nbawards #poetry A big congrats to on his #NBAwards win You can read our conversation with the author here The late Back Porch Books Thanks to #books #nbawards Celebrate the #NBAwards nominee past and present with related video in the #PWTheater Almost k view on this video of John Lewis amaze speech #NBAwards Do yourself a favor and watch Congressman Lewis at the #NBAwards Inspiring speech by John Lewis at #NBAwards Watch give powerful speech accept a #NBAwards Read my child read Award win author will deliver Black History Month Lecture at #VCU #NBAwards Prof Chris Bachelder a #NBAwards finalist for novel dubbed comic masterpiece Listen to #NBAwards Winner interview on We ve get photo from the #NBAwards red carpet on our website The late Jornal Editorial Thanks to #cartacapital #nbawards Your wild #dreams be on the other side of your big #fears #DominatingYourMind #DYM The late The Periplus Indonesia Daily Thanks to #eastenders #nbawards You can accept love #DominatingYourMind #DYM #NBAwards #NBAwards Let s unearth more such jewel of #Bengaluru Watch accept the #NBAwards for Young People s Literatuer on Random photo from #NBAwards mostly of poetry judge and poet You be create to #succeed #DominatingYourMind #DYM #NBAwards Whatever scare you dare you to be well Discover how #DominatingYourMind #Ignite #inspire and #motivate your next #meeting Discover #DominatingYourMind #DYM #NBAwards Happy #thanksgiving day #DominatingYourMind #DYM #NBAwards Crush #fears you can be #unstoppable Discover the #secrets#DominatingYourMind #DYM #NBAwards Always #Believe #DominatingYourMind #DYM #NBAwards Gracing the red carpet Andrew Aydin Congressman John Lewis and Nate Powell at the #nbawards Zayn s name in Arabic mean beautiful #fact #OneDirection #Directioner #zaynmalik #Zayn #ZaynFacts #Zquad Harry Drag Me Down High Note #MPN #OneDirection The feel that you really MISS the boy #OneDirection #NowPlaying #OneDirection What Makes You Beautiful on The Cheese Visit Louie #onedirection #MPN #MtvStarsNiallHoran When that old lady be luckier than u # YearsOfMidnightMemories#MPN #OneDirection Hi owchh hug you babeee ##OneDirection Niall Louis the same shirt #MPN #onedirection #MtvStarsNiallHoran The Magnificence Of Minka #nsfw #bath #bubble #onedirection #OneDirection Story of My Life #Music Legends only #onedirection Well #onedirection #directioner OMG Niall s eye o #MPN #OneDirection WE ARE CRAZY MOFOS WE TAKE DOWN ALL HATERS #ThisIsUs #WeAreDirectioners #directioner #onedirection Liam just OMG #ARIASONEDIRECTION #onedirection #LiamPayne # DDayAnniversary # DWeMissYouPleaseComeBack #MPN #OneDirection#MtvStarsNiallHoran JESUS Daddyyyy #MPN #OneDirection Happy Birthday Midnight Memories # YearsofMidnightMemories #onedirection #zayn LIAAAAAM OMG I JIST CAN T I M LOSING MY SHIT HERE OHSSKXVSJSB#LiamPayne #OneDirection # D #OneDirection s Carpool Karaoke The Best Bits young be well #toyboy #onedirection One Direction D Toss Pillow Harry Zayn Louis Niall Liam Early Days ID Collector #onedirection Harry have a beautiful voice just like his heart #HarryStyles #OneDirection Happy Thanksgiving Everyone #thanksgiving #onedirection #harrystyles #louistomlinson just when I die #onedirection #MtvStarsNiallHoran # YearsofMidnightMemories #NiallOnAMAs NO ONE SAW THAT HAPPENING #OneDirection Niall s arm be perfect #MPN #OneDirection One direction will always be in my heart #OneDirection #NiallHoran #LiamPayne #louis #harrystyles #ZaynMalik I ve create a quiz #OneDirection Singles Can t believe # YearsofMidnightMemories #onedirection # D #directioner The best era # YearsofMidnightMemories #MPN #OneDirection #MtvStarsNiallHoran IF WE COULD ONLY TURN BACK TIME # YearsofMidnightMemories #MPN #OneDirection #MtvStarsNiallHoran GM everyone #tbt #onedirection # so Liam #LiamPayne #onedirection Fucking true #Larry #LouisTomlinson #HarryStyles #love #couple #Spain #fans #onedirection #Directioner Can t believe it s be year since Midnight memory I m so proud # YearsofMidnightMemories #OneDirection after I finish dinner I m gonna jam to mm like idk I love that album # yearsofmidnightmemories # YearsOfMidnightMemories #onedirection Fave song Celebrating # YearsofMidnightMemories #MPN #OneDirection #onedirection #harrystyles cute little dance #ZaynMalik GOTTA ZAYN T SHIRT ZAYN MALIK UNISEX SHIRT QUOTE TUMBLR T SHIRTS TEE PILLOWTALK #OneDirection #Zayne #onedirection #niallhoran #harrystyles #WWATour best lovely dance them When Louis touch his chest Best thing ever #MPN #OneDirection IT S FROOOOOZEN # YearsofMidnightMemories #StoryOfMyLife #SOML #onedirection I know I m late af but be # SOS like the new #OneDirection or something Nothing #zaynmalik #onedirection #harrystyles #niallhoran #louistomlinson DIANA LET ME BE THE ONE TO LIGHT A FIRE INSIDE THOSE EYES #onedirection # YearsofMidnightMemories Favourite album guy # yearsofmidnightmemories #onedirection #MtvStarsNiallHoran #harrystyles #LouisTomlinson IFC sign agreement with Bank of #Palestine to scale up lending operation to small firm especially woman owne i fell sorry for the land of #Palestine who s burning why everybody say #israelisburning say #ZionistAreBurning without white phosphorus I Stand With #Syria #Aleppo #Palestine #Kashmir #Burma #Iraq #Afg Do You Share IOF supresses Bil in weekly march #FreePalestine #Palestine #BoycottIsrael #BDS #CNN #BBC #FoxNews #ABC #NBC #CBS #Syria #Palestine Calling All Believers Powerful Speech The Da via THE END IS COMING SOON #Palestine In picture Palestinian Civil Defense assist in put out fire in #Haifa #Jerusalem #Palestine #Israel New photo of Billie her sister #HappyThanksgiving #ScreamQueens #BillieLourd Digesting while watch #ScreamQueens s Thanksgiving Black Friday eps SO SO GOOD Agatha Beans s sister I love it #ScreamQueens I be just get up to get a teaspoon of mayonnaise I love #ScreamQueens so much Thankful for all these tv show that make me happy #supernatural #TeenWolf #AgentsofSHIELD #TheOriginals Chanel Por Homme #ScreamQueens A song from Girls Just Want To Have Fun on #ScreamQueens Ryan Murphy be my hero Love be all you need to be #ThankfulFor #ScreamQueens #Thanksgiving Finally watch Scream Queens episode after what feel like forever #ScreamQueens Jacob #screamqueens I m admire your beautiful physique on #ScreamQueens Any particular nutrition plan you re follow Also you re hilarious And now it s time for #ScreamQueens #CrazyHester I be thankful that #ScreamQueens be back have episode to catch up on Oh Hester I love you Seriously in this role it s EVERYTHING I mean Rachel Berry to Hester DAMN girl #ScreamQueens #ScreamQueens Best Scene it s a tiny little friend all wrap up in a hot pink tuxedo I think about it morning noon nite #ScreamQueens #Adderall Omggggg Taylor Lautner #ScreamQueens #DrCassiyCascade #GreenMeanie Epic Moments in x Blood Drive #ScreamQueens #BloodDrive Catching up on #ScreamQueens Really I love y all but that s the best you get I saw that come on Day So thankful for #TheExorcist #ScreamQueens so please #RenewTheExorcist #RenewScreamQueens i be obsess with nail colour in #ScreamQueens this week #badass #bombshell Maybe Chanel s fine moment #BlackFriday #screamQueens Scream Queens S E Watch now #ScreamQueens #chenel #bloodshed Just watch #ScreamQueens now I m in a pink mood whew god damn lea michele be so sexy #LeaMichele #ScreamQueens #Hester #Booty #ScreamQueens so lucky to get to work with TK NW #ScreamQueens ep Thank God Chanel # be still alive #ScreamQueens Cassidy Ingrid team up via #TaylorLautner Ringing in the great non Chanel O Ween holiday of the year #BlackFriday #ScreamQueens Good morning #ScreamQueens Lovin the pink outfit of the Chanels #ScreamQueens Watching Chanel taunt desperate mass on Black Friday be the funniest thing in life #ScreamQueens This vampire patient be hilarious #ScreamQueens Can I be Chanel # instead #ScreamQueens Seven fascinate fact about #ScreamQueens HAPPY FRIDAY BITCHES #ScreamQueens be so terrific on this show #ScreamQueens Happy Black Friday slut Shop until you drop Who s purchasing a pink jeep #ScreamQueens Thanks for watch #ScreamQueens We love it #ScreamQueens TV show that more people should be watch #ScreamQueens #MTVScream #Quantico #HTGAWM #The #Blindspot #Drama #Repost with repostapp Happy #Thanksgiving from the #ScreamQueens Family When you and your girl get those #BlackFriday deal #ScreamQueens Our big sale ever be live now Free shipping in the US on any size order #thewalkingdead #disney Got a nice #TheWalkingDead shelf go My new pet#thewalkingdead because of you i won t give up #TheWalkingDead I have a dream about #Richonne last night #Michonne #RickGrimes #OTP #TWD #TheWalkingDead Please sign this poster we re go to give it to #TheWalkingDead fan #CCXP #BlackFriday be here All t shirt OFF #TheWalkingDead #StrangerThings Our Sanctuary Saviors tee inspire by #TheWalkingDead be shipping now FREE RED NECK WARMER while stock last Happy Black Friday everybody #thewalkingdead #walkers #zombies #blackfriday From #TheWalkingDead we interview #DanielBonjour And he want to #cosplay #deadpool #costumes #twd #twdfamily Finally caught up with #TheWalkingDead My sister call me and woke me up while I be fight zombie with Rick I watch too much #TheWalkingDead Honestly the best of #blackfriday #thewalkingdead #mrrobot #FF and last but definitely not least these be my people #TheWalkingDead KD for lunch and the last episode of season of #TheWalkingDead Batter s up Then it s on to I have to cuz Walmart have #TheWalkingDead season for Hopefully it s still there My dad have be reading #TheWalkingDead nonstop for the past two day now I m go to rewatch #TheWalkingDead season and season so see you all later mate Sweet Jesus #TheWalkingDead I m Dying #TheWalkingDead Catching up on TWD #amc #TheWalkingDead Hahaha #Negan #TheWalkingDead if you watch you ll know if you don t then what the fuck man I still think this be my favourite Negan moment lmao #TheWalkingDead Finally I m gonna watch all eps that I miss #Lucifer #Supernatural #Arrow #Flash #Class #TheWalkingDead #TheBigBangTheory #thewalkingdead sweet dream I love this song lol #TheWalkingDead Mah Stuff #TheWalkingDead Link in bio Come on The Walking Dead get it together #TheWalkingDead My family #thewalkingdead The best #BlackFriday purchase #TheWalkingDead #Walmart #TWD So this be what happen in the comic #TheWalkingDead The amount of cringe have blew me off this planet #TheWalkingDead EM MEMORIA MERLET DOGLORISOPHIAGLENNABRAHAMBOBJACQUILIZZIETYREESEGOVERNADORSAMBETHNOAHANDREAMIKA B M I love it what a bunch of asshole #thewalkingdead #normanreedus Hi I can t find the old episode of #TheWalkingDead on Virgin on Demand anymore have they go or be I look wrong To be honest I quite like Abraham A bit me to begin with but a it get on he grow on me #TheWalkingDead Vine by #TheWalkingDead Thank you for the follow #TWD #TWDFamily #TheWalkingDead #TheBoondockSaints If you be a #TWD fan you have to watch these guy #TWDfamily #podcast #TWDFans #TheWalkingDead I m late to the #TheWalkingDead party but catch up fast #season about to start #thankful for the long weekend ahead Happy Friday #sarahwaynecallies #prisonbreak #thewalkingdead #colonyusa #TheWalkingDead Favorites and Greg Nicotero Turn Zombie Appetite Into Upscale Restaurant Jesus show up once again in #TheWalkingDead Season Episode Go Getters Just caught up on #ThisIsUs You be outstanding #Heartstrings You be well than my wild dream but I m still not happy Kate to Toby Poor Toby #ThisIsUs Pics from on the Interview by #HollywoodLivetoday about #Homewalk and more #ThisIsUs Anyone watch #ThisIsUs Pretty cool show with Mandy Moore and Milo Ventimiglia in it Quando Rebecca dice I m thankful for my family I m thankful we re all safe And there s no one in the whole world LE LACRIME #Thisisus Jack s effort to turn their family s disastrous Thanksgiving into a memorable one #ThisIsUs It s a good day to watch #ThisIsUs and #Insecure The house be quiet and I be sit by the fire and watch the late episode Yes it s the perfect morning #ThisIsUs It s be a while since we ve have a family drama like #thisisus Gonna watch #ThisIsUs be awesome Next week look like look like a good one too #ThisIsUs One of my new favorite show be #ThisIsUs and our very own do awesome ep recap I love how everyone on my TL and dash agrees that they wouldn t have let Miguel wear the hat #ThisIsUs Now i know why they be rave about this show #thisisus Spirit of my silence i can hear you But im afraid to be near you #ThisIsUs Morning dress up with Langdon Cutest little reindeer #thisisus Okay Finally gonna start watch #StrangerThings and #ThisIsUs What a nice and heart warm episode #ThisIsUs #LikeAllRightLetsTalkAboutTheseTwo that s awesome you met I really enjoy the show #ThisIsUs I think s character on #ThisIsUs be probably one of the best dad ever on a tv show you be so beautiful and an inspiration #ThisIsUs be my husband s and my favorite show just saw episode of #ThisIsUs in France on just amaze Got my mom hooked on #ThisIsUs Binge watch weekend Watching #ThisIsUs finally Ep of #ThisIsUs get me in tear Can t wait for next week #ThisIsUs literally warms my heart Everybody have a story What make them who they be in this very moment That s what I love about #ThisIsUs We would totally accept that challenge if it be at all humanly possible #ThisIsUs be you watcing #ThisIsUs I feel like it s a show you d enjoy Wife and I love it Our favorite new show of the season thanks for bring Jess #GilmoreGirlsRevival back and also introduce Jack #ThisIsUs this year #mademy So exit to see in #ThisIsUs after see #GilmoreGirlsRevival #ThisIsUs be my new favorite show why do it take so long for someone to think of this show Ridiculously good #ThisIsUs Good for Kate for recognize that she need to be happy with herself to be happy with Toby #ThisIsUs thank you for be honest #ThisIsUs This be cute #ThisisUs So I m gonna finish the revival later but for now let s get my sister up to speed on #ThisIsUs all three age of randall be my favorite character #ThisIsUs Brilliant actor U R a talent that s be miss from Tv for quite some time #ThisIsUs #Emmys Why wasn t Adam on this list He be on a much a Chelsea I miss him #but love #thisisus #yr If make an appearance a Adam again I d have to call him a God because he have so much material on #ThisIsUs #yr #Dreams Adam should come back take Christian to #thisisus #FridayFeeling #yr Maybe Chelsea too #yr #thisisus #FridayThoughts I didn t know Seth Myers have a cameo appearance on #ThisIsUs Independent #LSAssociate Isaac Haynes Thanks for join SalesExpert me #ThisIsUs who guarantee lead to you They ll remember this night forever #ThisIsUs I don t think there have ever be a show that make me cry almost every minute of every episode #ThisIsUs I rat #ThisIsUs S E on #MustWatch Check out my review here Just finish catchup with #ThisIsUs Thank you for show that every family can be a little dysfunctional at the same time love each other #ThisIsUs The freedom movement be go strong and sweep the whole world Next stop FRANCE #MarineLePen Ugh Jack Pearson be the best tv dad since Sandy Cohen #ThisIsUs Calm before the storm #ThisIsUs Earlier a #ThisIsUs Thanksgiving reminds u that all family be crazy in their own way say #ThisIsUs my new fav series I find myself hum the note of #ThisIsUs sang a few episode ago Missing her angelic voice Love the show be and I m still watch #ThisIsUs Bonus Morning Husband work at cabin boy still asleep and no football on TV YET Time to catch up on #ThisIsUs #Family Oh my god that Thanksgiving #ThisIsUs episode have me in tear You re preach to the choir Gabi #ThisIsUs #ThisIsUs I ve bawl every episode This be #ThisIsUs Better call Mike Pence Maybe he can shock you back #FuckingGOPHypocrite #ResignNow #UniteBlue Please RETWEET a much a u can Americans for the XII Amendment #UniteBlue #BlueUnited Here be how a billionaire in Spain thanked his community for his success #UniteBlue Thx Obamacare The U S Abortion Rate Reached Its Lowest Since Before Roe v Wade #Resist #MAGA #uniteblue Thanks #UniteBlue Yeah pretty much #NoDAPL #libcrib #uniteblue Democrats knew the this be how important this election be We need to #UniteBlue Be big re focus on OUR goal We get rid of the #RedCoats in the s it s time to get rid of the #RedHats #WontBackDown #MangoMussolini #democrats #UniteBlue The number be in #Trump win Michigan by #tcot #uniteblue #trumpwon #maga Support the Orange Campaign Change your Profile Picture to show your Support#SpeakUpae #OrangeTheWorld # Days See you kid tomorrow #blackfriday #blackweek #podesejogar #dobre #mordki #unitednations After year milln remain in care #UnitedNations Be more peaceful productive for all #Nations to give their home back Thanks Hopefully your value be still our value #UnitedNations The fam Well most Bam #grateful #unitednations #abiggertable My interaction with Secretary General Ban Ki moon at New York University #un #UnitedNations #nyu #NewYork #UnitedNations save #Aleppo please Stop #Russia Losing weight be REAL #EnglishMonth#IFightAgainstModernSlavery#unitednations San Isidro Dont miss out today Dubai s iconic landmark go Orange #BurjAlArab #InterContinental #SpeakUpae #OrangeTheWorld You re strong than you think #SpeakUpae #SpeakUpae #OrangeTheWorld # Days #UnitedNations Proud to support #UnitedNations International Campaign day for the Elimination of Violence against Women Attended Youth Speak Forum #USConsulate by #AISECInChennai Lot of idea and interactions#unitednations #y gg Nikki Haley s family In India Cheer Her Appointment As UN Envoy #nikkkihaley #unenvoy #unitednations #donaldtrump Today be the International Day for the Elimination of Violence Against Women #orangetheworld #UnitedNations #unodc #Rohingya God please save Rohingya #killing in #Myanmar #unitednations #Yemen Thanks to for US M contribution to help fight malnutrition in #Hodeidah Can not get enough of #Awa right now #yemenite #yemen #music such a cute song On Black Friday make a donation to help the aid worker on the ground in #Yemen Reach out and offer love support #Yemen Smiles won t leave u Yemeni child told me at #UniversalChildrenDay Saw s name on new wikileaks documens about #Yemen Intresting Thank you #Yemen Ya Allah Please Help the muslim of #Iraq #Syria#Gaza#Yemen #Burma#KashmirPlease don t scroll down without sa School musical go amazingly Gonna miss my silly girl costume so much #BeautyAndTheBeast Have you watch the trailer of #BeautyAndTheBeast yet If you didn t watch it right now OMG All image and the Trailer of #BeautyAndTheBeast look AMAZING month to go until Christmas And to get you in the spirit we have #WhoKilledSantaClaus #BeautyAndTheBeast to get you in the mood Let C line sing the theme Song again #BeautyAndTheBeast #emmawatson #BeOurGuest #CelineDion Early start this morning chat about #panto #beautyandthebeast with Exotic Fashion News Journal be out Managing Editor Riley Rose McKesson #beautyandthebeast So be gonna sing the #BeautyAndTheBeast theme song Cos I mean it d be really great if she do It d be perfect actually all the fan want that C line #C lineDion sings the song #Beautyandthebeast for the new Film Celine sing again please#BeautyAndTheBeast WE WANT FOR THE SOUNDTRACK #BeautyAndTheBeast #disney Me and the incredibly talented at #BeautyAndTheBeast #sitzprobe yesterday Opens next Friday Eek Seeing Angela Lansbury trend and fear the bad But it s about #BeautyAndTheBeast so we good Please make sing the song once again #BeautyAndTheBeast a reunion be expect plz sing the theme song #Beautyandthebeast What if #Disney give u the amaze version of #BeautyAndTheBeast song by #CelineDion more sleep to Beauty the Beast #BeautyAndTheBeast Best of luck to all involve Why do everything need a #remake Enjoy the #classics #BeautyandtheBeast #TheBradyBunch Beauty and The Beast episode come this Monday Giveaway winner announce #animationstationpodcast Some performance have already sell out for #BeautyAndTheBeast and some be near sell out Don t miss out One week until Panto rehearsal begin So excite #BeautyAndTheBeast #lowestoft New picture from #BeautyAndTheBeast #DisneyLiveAction Gaston court Belle with flower ULTIMATE No Makeup #Makeup Look for Indian Skin I #BeautyAndTheBeast #makeupgiveaway Sitzprobe fun yesterday #LiveBand We open next week #Panto #BeautyAndTheBeast The #BeautyAndTheBeast trailer be finally here So you don t miss anything read our in depth analysis Omg i hope my man get me this #dress for #christmas #disney #love #BeautyAndTheBeast neeeed this dress There be no one else that could or should sing #BeautyAndTheBeast We want to sing it Gaston be Charming a Hell in New Beauty the Beast Pic#Gaston #LukeEvans #BeautyAndTheBeast #disney #staygeeky #BeautyAndTheBeast this be how show be make AB ONE WEEK TO GO #BeautyAndTheBeast #panto #ohnoitisnt #ohyesitis Ahhhh i want this cake #bestdisneyfilm #taleasoldastime #BeautyAndTheBeast Courtesy of #Belle #Gaston #BeautyAndTheBeast #BeOurGuest #Disney New #BeautyAndTheBeast photo of Gaston woo Belle We re back at the tonight for another SOLD OUT weekend of #BeautyAndTheBeast #YQG New #BeautyandtheBeast Photo Has Gaston Wooing Belle The perfect size to hide somewhere secret in your own west wing via #BeautyandtheBeast #ACEO #animation Celine Dion must sing the theme song #Beautyandthebeast I really fancy can t wait for #BeautyAndTheBeast Hey I want to record the theme song Once again #beautyandthebeast cc Oh Gaston Always the charmer #BeautyAndTheBeast There be no shortage of love story in #OUAT #rumpelstiltskin #BeautyAndTheBeast We ll be feature in magazine in a couple of month Which pic should we use #Vote #MDwine #BeautyAndTheBeast FLASH #AngelaLansbury turn her spout up at #BeautyAndTheBeast remake Beauty And The Beast Has Set Our Expectations High #beautyandthebeast #disney One of the best week for trailer #Jackie #BeautyAndTheBeast #Valerian #LiveByNight #CollateralBeauty When all eye be on you #Wink #WinkFamily #BeautyAndTheBeast #Beast #Love #LoveHer #lovers We Need We Want sing #BeautyAndTheBeast Obviously must sing #BeautyAndTheBeast Again WE WANTTTTT When princess Emma say put on the tiara I put on the tiara #lovethisgirl #puddyinherhands can t wait to see you a Gaston in #BeautyAndTheBeast in March #Isaywekillthebeast lol the trailer be awesome it felt like a scene from #BeautyAndTheBeast #inLOVEwithSWITZERLAND #travelblogger Here s a new photo of #BeautyandtheBeast via Here s our #BeautyAndTheBeast trailer breakdown For #BeautyAndTheBeast only #CelineDion can resing this classic The cast be onstage and sound great #BeautyandtheBeast open next week For ticket and more visit So excite For This One #BeautyAndTheBeast my favorite princess From New Pic Of Belle #emmawatson Gaston #lukeevans In s #BeautyAndTheBeast Love her #draintheswamp #AmericaFirst #MakeAmericaGreatAgain #JudgeJeanine Seems legit #DrainTheSwamp #DayAfterThanksgiving we don t want Romney #TheSnake We want Rudys loyalty Retweet #MAGA #Trump #NeverRomney #Fraud #Phony #DrainTheSwamp omg that would be the funniest thing ever #epic #draintheswamp #LockHerUp We honestly do not know you guy be still alive Grats #DrainTheSwamp #NRA #FoxNews #realDonaldTrump WOW PA Congressman be on the #TrumpTrain Super Endorsement I love it #AmericaFirst #DrainTheSwamp #maga Ssssssnakesssss #draintheswamp YES #campaignfinance reform be the underlie change that support the effort to #draintheswamp Go only you can stop politics a usual #DrainTheSwamp #MAGA #FantasticBeasts now fly high above #DoctorStrange after release last week to take the # spot in this week s U Mommy s here #FBNewt #FantasticBeasts some of my new favorite otps from #fantasticbeasts So last night I go to see #FantasticBeasts From the moment it start I smile like a child remember the first time I saw HP #FantasticBeasts a brought to you by Fantastic Beasts stuffed mystical animal found in the JK Rowling unlimited supply of merch store Wizarding Week in Review click the link for more #simplypotter #harrypotter Spend this holiday weekend with some new friend from s Wizarding World in #FantasticBeasts #FBTickets Going to see #FantasticBeasts again with my mum tonight #magizoologist #lookingformagicalcreatures As of last night I be a proud owner of a #Niffler #FantasticBeasts More Fantastic in #IMAX Don t miss #FantasticBeasts at the Airbus #IMAX Theater TOO GOOD TO MISS #FantasticBeasts in D Newt Scamander stole my haircut #fierce #FantasticBeasts Just watch #FantasticBeasts and I travel back to my teenage year Thank you #Beijing #FantasticBeasts and many more #Winnipeg bestseller #FantasticBeasts be an excellent movie in my opinion but I still can t wait for to sin the sh t out of it #FantasticBeasts be damn good I really wanna watch #FantasticBeasts h to go #FantasticBeasts Off to see Fantastic Beasts this weekend Put some fire in your cauldron with a magical Bodega feast first #FantasticBeasts Loved it My rating The beast be fantastic and so be the movie My review of #FantasticBeasts I m fiending to satisfy my potter fix by see Fantastic Beasts and Where to Find Them this weekend #FantasticBeasts About to go and see this #FantasticBeasts Box Office Disney s #Moana won Thanksgiving Day with M while #FantasticBeasts put up a close fight with M #FantasticBeasts have u think of #Dementors explains our new theory #FantasticBeasts at then to DHS for #JingleBellJingleBAM I saw someone with Newt s scarf and I NEED IT #FantasticBeasts Plans this weekend Thinking of see #FantasticBeasts All muggles be welcome to come DOWNSTAIRS for some bowlin This be meant somewhat tongue in cheek since I haven t see anyone else yet who care but IT MATTERS OK #HarryPotter #FantasticBeasts Check out this fantastic review of the fantastic return to the wizarding world #FantasticBeasts on your place bulk order #FantasticBeasts #beastsofuon #FantasticBeasts #IMAX for a fantastic Black Friday Cinema tonight to watch in the mean time reading a book about free software licensing Finally get to watch #FantasticBeasts so good Fantastic Pokemon and where to find them #Pokemon #FantasticBeasts #JKRowling How cute he be #FBNiffler #FantasticBeasts This #FlickFriday prepare to be bewitch by #FantasticBeasts Come down from Thanksgiving with a new #Lootcrate It s magical #DoctorStrange #FantasticBeasts #GameofThrones Went to see #FantasticBeasts and at one point a character say Until then and I immediately thought LATER WITCHES This be me in a nutshell lol #FantasticBeasts #HarryPotterAddict Everything cross D FREE Amazon Prime Shipping #fantasysports #FantasyHockey #FantasyFootball #FantasticBeasts #FantasticBeasts still hold on Could go O U #DoctorStrange M finish #BoxOffice My Fantastic Beasts illustration My Art #FantasticBeasts it s time #fantasticbeasts Also a a proud Hufflepuff it make me very happy that Newt Scamander be also one #FantasticBeasts Have an article to write note to re organize a house to clean yet all I want to do be read all day And maybe go see #FantasticBeasts Going in to see #FantasticBeasts Maybe this will be the spark I need to finish the original series About to see #FantasticBeasts be boy to be LIT School in Hogwarts probably #HARRYPOTTER #FantasticBeasts Going to see #FantasticBeasts this afternoon Mom be a Potter fanatic My niece be but she s kinda grow out of it #FantasticBeasts #cheltenham #datenight #IMAX SO EXCITED TO SEE THIS Friday night date with this one #fantasticbeasts #cinematime #nobettercompany #FantasticBeasts be good except for the incredibly stupid twist end While often find great displeasure in fantasy have no child lead I found #FantasticBeasts remarkably good Adult rustic cinematic I m drinking tea play all available Ep of Batman and might go see #FantasticBeasts over NE Holler Or don t Whatever OH GOD WHAT EVEN IS EDDIE REDMAYNE can I pack him in a suitcase #fantasticbeasts I didn t think that I would love it a much a I do but #FantasticBeasts have become one of my favourite movie Please go watch #FantasticBeasts in the theatre if you haven t alreadyThe movie be amazingThe visuals be splendid Going to see #FantasticBeasts and I be LIT Been look forward to this for a long time #FantasticBeasts Going to watch #FantasticBeasts tomorrow o Even after the th time watch #FantasticBeasts I still tear up at the John Williams opening score Such a cry baby You should try the new McDonald s F nniburger #NationalFastFoodDay After a fun #nationalfastfoodday today will be a #cleanse day lemon orange lime cucumber and mint I can feel the caffeine run through my vein Yes coffee you can stay #ThursdayThoughts #NationalFastFoodDay #Coffee Me everyday #NationalFastFoodDay Apples Pears Press Sunday January #nationalfastfoodday Tonight feel like a coffee cake kinda night Let s beat #NationalFastFoodDay The late Smart LifeStyle Food Thanks to #weightloss #nationalfastfoodday Create article for #blog #seo #marketing #NationalFastFoodDay #SEO Analysis Tools Happy #NationalFastFoodDay Yesterday be #NationalFastFoodDay and today be TAYLOR DAY Coincidence I don t think so Like what #NationalFastFoodDay Well look at that who say food I say celebration Yesterday #NationalFastFoodDayToday #NationalTakeaHikeDayCoincidence I think not It s #NationalFastFoodDay fill up on greasy goodness and then settle that stomach with our Nana Mint Ginger with Lemon Signature Tea ZOYA Nail Polish Santa Baby Lips Tis Quad #NationalFastFoodDay This be how i celebrate #NationalFastFoodDay I m not ashamed it be a holiday Happy #NationalFastFoodDay Eat out and stay #Healthy Yes It be possible if you follow these tip You can bet that our employee didn t go without celebrate #NationalFastFoodDay We have all the best burger spot in California #NationalFastFoodDay #suckitNYC We picked a winner from our #nationalfastfoodday contest This will settle it once and for all #NationalFastFoodDay Have you try the new McStreamer #NationalFastFoodDay Missed #NationalFastFoodDay but right that wrong now #McDonalds small fry a cheeseburger I know doesn t even really count a ff Chicken tender and frozen custard and crinkle cut and cheese curd and #TenderMomentsSweepstakes Happy belated #NationalFastFoodDay I want our #McDonalds with #McDelivery #ShrimpBurgers like in #Seoul My fav Thank you Thanks for care about me I know you do #BFFF #BestFastFoodFriend #Whoppers Days #NationalFastFoodDay Dangit wish I have a hamburger and frenchfriesright about now#Yummielicious #NationalFastFoodDay #NationalFastFoodDay Would love to live there Chick fil A #NationalFastFoodDay then I picked the perfect one It s the ONLY fast food I will eat Bean The best holiday ever National Fast food day #NationalFastFoodDay Happy #NationalFastFoodDay this shouldn t be a thing #NationalFastFoodDay Read some menu Read some book And celebrate with some fry on #NationalFastFoodDay Happy national fast food day Watch the animation here #nationalfastfoodday #fastfoodday National fast food day be the only thing that matter Watch the animation here Hell yeah Steak n Shake #NationalFastFoodDay happy #NationalFastFoodDay this be a pretty important one for me Because I couldn t make it on #NationalFastFoodDay the other day Shake Shack #HappyFridayToMe The most popular fast food fry chicken sandwich ranked for #NationalFastFoodDay ICYMI Poutine won our #NationalFastFoodDay poll How many time do vote dailyartspace Happy #NationalFastFoodDay Cheese Slice on garland by Eric Yahnker #NationalFastFoodDay #BoycottPepsi I like Coke well anyway Retweeted AFV Um yes I ll take it to go #NationalFastFoodDay #Chocolate cupcake #candle melt with it sweet candy #aroma be a treat for this #Christmas Ever heard of turkey fry chicken A little late for #NationalFastFoodDay but still hilarious #FastFood The late THE TEEN EXCLUSIVE DAILY Thanks to #nationalfastfoodday #NationalFastFoodDay Samosas r gr Ever try #chicken and #cheese Tandoori Fries for #NationalFastFoodDay #FastFood #Potatoes #frenchfries Nice #NationalFastFoodDay The late Goldilocks Fitness Weekly #girlpower #nationalfastfoodday How do I miss #NationalFastFoodDay please DM u your info so we can send your your prize for participate in #NationalFastFoodDay Thank you Its #NationalFastFoodDay surely that s all the #wednesdaymotivation you need #getinmybelly My day #NationalFastFoodDay Love #StillWithHer #ifonly #stillwithher #presidenthillaryclinton #monsinnyc while walk down the street on Yay Jill Stein raise million for state recount effort #StillWithHer #NotMyPresident Make up your own mind but be inform Interview with lawyer of #Recount thx #auditthevote #stillwithher Steve Bannon s First Pick For President POLITICO Fascinating and say a lot about Bannon #StillWithHer #recount The Constitution let the electoral college choose the winner They should choose Clinton #StillWithHer but we can now One u #StillWithHer #ThePeoplesPresident My President Not quit yet Thankful that you won the popular vote #AuditTheVote #StillWithHer I wouldn t trust to hold my latte for me for a sec Make of that what you will #StillWithHer #TheResistance Thank You for your service to Americans for your entire career #StillWithHer Still hop Electoral College side with the majority of American people #AuditTheVote #StillWithHer off TODAY ONLY #BlackFriday for #StillWithHer #NotMyPresident Always with you Mrs Clinton #stillwithher As a teacher mother I m afraid of what s appointment of #BetsyDeVos will do to public ed #publiceducation #stillwithher Hillary Clinton Met With A Heartwarming Surprise On Thanksgiving Day #StillWithHer Clinton Supporters Place Signs of Support on Her Street on Thanksgiving ABC News via #StillWithHer The make up free fresh face look so damn attractive #StillWithHer She continue be a great role model #Clinton #MyPresident Women Are Planning to Strike to Protest Donald Trump s Election #TrumpProtest #NotMyPresident #StillWithHer YAAY You fought for u we be fight for you #StillWithHer I agree wholeheartedly #notmyprsident #StillWithHer #sanders #TGIFriday U can help support #Recount #NotMyPresident #LatinosForHillary #Resist Filing day morrow Wed #StillWithHer Really sound like doesn t want this job Know who do It s why I m #StillwithHer entire team be amaze The most enthusiastic intelligent hardworking people #StillWithHer #StillWithHer Thank you for everything You r my #inspiration Anyone else pray the recount show an error in voting in PA WI MI and they flip for Hillary #StillWithHer What will it take for Democrats to woo the white work class #StrongerTogether #StillWithHer #UniteBlue libby #StillWithHer Hi Congrats your picked Go to our site in description In Scotland Trump Built a Wall Then He Sent Residents the Bill #StrongerTogether #StillWithHer #UniteBlue Funds raise for recount in WI PA keep go to help MI do #nevertrump #AuditTheVote #StillWithHer idk I find hiding in the wood walk dog v inspire relatable guy #StillWithHer Just donate for my third time We just need to keep this up for one more day #AuditTheVote #stillwithher People relate with people like them They share ideology and philosophy #StillWithHer be you listen #AuditTheVote #StillWithHer #resist #NeverTrump #Recount #SaveOurFuture Awww What a sweetheart You will always be our #PeoplesPresident #StillWithHer Way to go supporter Warms my heart #StillWithHer Why the Electoral College must choose Clinton #faithlesselectors #hamiltonelectors #ElectoralCollege #StillWithHer thankfully we all have a nice and peaceful Thanksgiving Because we be all #StillWithHer Retweeted #StillWithHer #ElectoralCollege should require Trump to release his Please call for a recount of the vote in the swing state Even if thing don t change you give it your all #StillWithHer Everyone start tweet a picture of tRump to him and retweet all that you see #notmypresident #StillWithHer #nevertrump We must all mix into one race the beautiful human race Racism shall be stop once and for all The great change #NotMyPresident #Resistance #NeverTrump #StillWithHer #PopularVote #ElectoralCollege #FaithlessElector #AuditTheVote A subway wall in NYC offer some solace to those #StillWithHer #Grieve #Organize #Resist Reminiscent of Palin At least she be entertain #StillWithHer #TrumpTransition No be be not all the same We be not white supremacist and we don t condone it #notmyprsident #StillWithHer Americans pump M into in day Helped me get thru Thanksgiving Can t give up hope #StillWithHer Visit u for #SmallBizSaturday and pick up our st #stillwithher tee unveiled at be #feminism #StillWithHer #liberals speak out against real horror not some the #msm caricature of Electronic voting Wikipedia Good to the last word #AuditTheVote #audittheresult #AuditTheElections #StillWithHer Great you vote for someone else We now live with that decision You can join in watch Trump for our democracy #StillWithHer Thankful for you and the wonderful human in the Pantsuit Nation FB group #StillWithHer Hillary ClintonDedicated her life tochildren family woman USA We owe her a debt of #gratitude #respect For the #book lover on your list #BlackFriday #ImWithHer #StillWithHer This BET special Love and Happiness celebrate Obama be off the CHAIN #ThankYouObama Thank you Mr President You will be so miss by this woman BET show be fantastic Stay forever young #ThankYouObama Watching this lit af #ThankYouObama concert special on BET get my entire life right now #ISeeYouBradleyCooper Thank you for #ThankYouObama History will Absolve You And we will remember This Black genie ain t go back into any bottle #ThankYouObama I love u Black people be so dope #ThankYouObama #BET Its jus me myself and I #ThankYouObama Jill Scott look great on Love Happiness #ThankYouObama Roots and Jill Scott Fyah #ThankYouObama I m still proud for voting for Barack Obama both time Eat a dick if you have a issue with it Be advise #ThankYouObama #ThankYouObama for show u that a an African American we can be anything we desire to be even THE PRESIDENT OF THE UNITED STATES Watching #thankyouobama on this u make me wanna remix use that sweet sable old time sake beat be very unexpected #ThankYouObama everything This special s give me so much happiness in this moment Beyond that I m a mess anxious already grieve #ThankYouObama now I know what be talmbout with B Cooper like where you come from Bro But I dont wanna say goodbye the nation first black president #ThankYouObama #FLOTUS #Obama #DontGo Imma miss Obama #ThankYouObama We just finish watch #ThankYouObama on I sorta feel like I be suppose to be there Please don t leave u with him #ThankYouObama New Post Yolanda Adams and Common sing Glory at the BET s #ThankYouObama event This be an awesome rendition Omg I love Jill Scott why be I just now watch #ThankYouObama Life be a Climb but The View be Great #ThankYouObama Lets start local clapouts to support #NationalClapOut for #obama on January #ThankYouObama #WhiteHouse Twitter s #ThankYouObama Shows Heartfelt Gratitude To POTUS make America Respected around the world again #thankyouObama #glory #duet at the #thankyouobama concert with and yolandaadams kill it Her voice be P S Y all could have told me Yolanda Adams ATE Glory with Common on #ThankYouObama #ThankYouObama #PRESERVEHISLEGACY Obama be Presidential Temper Tantrum Trump be #notmypresident Obamas Celebrate Their Last Thanksgiving At The White House #ThankYouObama Obama be the great POTUS so sad Trump will always be picture beside him in history Trump isn t worthy I m Grateful for Yrs of President Obama T shirt #obama #thankyouobama #presidentobama FINALLY watch Love Happiness This country be go to miss your family s class wisdom love and patience #ThankYouObama Currently watch this Love Happiness musical in the WH and I m cry that POTUS be talmbout twerking in his intro #ThankYouObama Glory be built for a gospel singer to chew up and spit out Cite Yolanda Adams #LoveAndHappiness #ThankYouObama Watching POTUS and FLOTUS hit their dougie to Tightrope give me so much unspeakable joy I m really gonna miss them #ThankYouObama Watching #BETPresents Love Happiness an Obama Celebration brings tear my eye u lead this country w #dignity grace #ThankYouObama NEWS Christian Media in Nigeria Yolanda Adams and Common sing Glory at the BET s #ThankYouObama event by Fun Fact My IUD would have cost w o Obamacare B c of Obamacare I get it for free and be prevent abortion #ThankYouObama Let s all thanks Prez Obama for year of progress #PresidentObama #uniteblue #wewillmissyou #thankyou Thank You #ThankYouObama #bet Leslie Odom Jr SANG that #ThankYouObama And then they brought out Bell Biv Devoe Michelle be ready #ThankYouObama Angela Bassett be always a vision #LoveAndHappiness #ThankYouObama Here come the gospel section clap #ThankYouObama Look at Kierra do her good sing and growl today #ThankYouObama Michelle Williams get a lil power in that growl #ThankYouObama The Roots be keep it funky #ThankYouObama #ThankYouObama You ll be miss CLASSICS ROOTS #ThankYouObama Usher You Make Me Wanna over Alicia s Unbreakable This be good #ThankYouObama Usher can STILL sing Praise God #ThankYouObama They remixing all of Usher s classic And I don t mind #ThankYouObama Look at Usher and this fancy footwork #ThankYouObama I really like this remix of Yeah #ThankYouObama Let s all thank Prez Obama for yr of progress #ThankYouObama # stBlackPresident #MyPresidentisBLACK A picture be worth a thousand word #notmypresident #ThankYouObama HISTORY WILL NEVER FORGET THE NAME PRESIDENT BARACK OBAMA THE TH #POTUS#ILoveObama #AnObamaCelebration have be the best I m try not to miss her yet #ThankYouObama Finally watch the BET Love and Happiness Concert and #ThankYouObama for remind me that I need another Yolanda Adams gospel album THANK YOU MR PRESIDENT #ThankYouObama #PresidentObama#ProudOfObama #UniteBlue In population in control of ISIS shrunk from to million Territory shrank by major city to #ThankYouObama In the poverty rate for US family be percent the low level since #ThankYouObama High School graduation rate be steadily increase #ThankYouObama Fuel efficiency of vehicle improve rapidly reduce pollution hurt fossil fuel industry #ThankYouObama Obama expand the Papahanaumokuakea underwater reserve by sq mile make it one of world s large marine reserves#ThankYouObama #thankyouobama for this Michelle say this be my song #ThankYouObama I can t believe this be happen #ThankYouObama Jasmin Guy I don t know what that dance be #ThankYouObama You re the one who brought up Obama I m go to miss him #ThankYouObama #DumpTrump #WillMissObama #ThankYouObama get choked up present Ellen DeGeneres with Medal of Freedom video and #TrumpTransitionTeam for Secretary of Defense He be right in about Iraq It s time to pay more attention to Jared Kushner #JaredKushner #TrumpSonlnLaw #TrumpTransitionTeam #USElections The late The Pink Sugar Miami Daily Thanks to #trumptransitionteam Great idea from #trumptransitionteam I love when the #BiasedMedia fall all over them self speculate on the #TrumpTransitionTeam #Trump play them Bankers celebrate dawn of Trump era #TrumpTransition #TrumpTransitionTeam #TrumpCabinet #DrainTheSwamp Get your news about the #TrumpTransitionTeam NOT from backstabbing Commie liar at Enemies of USA So proud of way #trumpTransitionteam be mold strong leadership group for #America #TeamTrump #MakeAmericaGreatAgain More terrific news out of the #TrumpTransitionTeam Keep up the great work lady gentleman Tell it Sistah #ElizabethWarren #TrumpTransitionTeam #DrainTheSwamp Welcome to the world accord to #Trump #TrumpCabinet #TrumpTransition #TrumpTransitionTeam #TrumpTeam My President I have my CV ready I know you have position to fill I AM READY #TrumpTransition #trumptransitionteam Prepare to be enlighten #TrumpWon #TrumpTransitionTeam Screw Romney try this guy for Sec Of State #TrumpTransitionTeam Hey #TrumpTransitionTeam thanks for the follow We must do all we can to stop Soros and the establishment follow me on gab ai stopsorosnow Quick favor how to politely end conversation with an over chatty #uber driver Just found out my #uber rating be wtf I be DELIGHTFUL # star Awkward moment # RKelly play in your #uber and you dance Use my code and start #UBER I d be so grateful A HE Los Angeles California There s no well way to get around in London than an #uber with Abdulla in his all black #prius banging the tune See how Uber driver use weteak s software to track income and manage expense #uber #Uber and #Gautrain how do I thank thee Exams do Yay Taking a drive and spending time in Blouberg #MyMoments do somebodddyy say tequila Here I come Opa #Uber baby #FREE #Uber ride up to Sign up use this #UberPromo link NYC celebrates free cab Go free on #Uber for mobile with credit code MIGUELT Hot promo yo Hot #uber driver last night #TurkeyDay #JustReleased #UBER by Boo Gotti stream free on #APPLEMUSIC and all retailer worldwide #BMT You love Seattle Lyft be give new user TEN FREE RIDES Use Code LINX #cheaptaxi #taxiapp #uber Why drive Get where you re go with in #FREE ride on #Lyft Click here #Uber #PHX #PDX #LAX #LAS #airbnb trip seem good #trips #uber After #Uber come with# UberWEDDINGS #Ola will let you listen to #AppleMusic Watch #SonyLIV Movies Never expect driver to make you an espresso whilst wait Loving Liverpool and Craig out #uber driver TGIF DRIVE #sensual #redlight #uber #uberlife #eyeswideshut # #tgif #friday #look #mirrors #portrait #lights #pari You know it s #Friday when your #uber driver be play #FeelTheBeat by Darude #Trance #FridayFeeling How the #uber case will help local taxi firm in the UK #uberdriver #taxi #transport #jobs #wages #bristol Its a friday nite and most of you will be drinking now just make sure you do it at home or take an #uber or a #lyft Big day today take my first and my first Both great experience #teotaxi #uber Start rid at this point in time with #Uber Don t wait for the come day Right after this there be a crash right behind u The driver save the fffff out of u #ironcurtain #uber Relaxing in an Uber and enjoy the chorus of festive car horn a they play the rush hour symphony around Hammersmith #commute #uber #Uber #rolls out new #features in it #rider and #driver #app #HappyThanksgiving From your #Uber delivery driver you didn t tip on Thanksgiving Bless you sir Over here regular cab ask how much you want to pay them have to be #uber all the time Thanks for follow u We appreciate you be with u and eager to share our passion for D printing with you d printer D printing cat and soft robotics Great research at GeorgiaTech via dprintindustry Not yet I have a few book on how to do that but lately I ve use D printing instead Will use wire if I use clay again I like a video from D Printing Fully Functional Platform Jack Operated by Imura Works of Imura have be work to protect the freedom of gun right and D printing workPlease support the activity A French photographer have # Dprinted a camera lens and maintain the quality of his photo I like a video D Pen Phone Case with the Dewang X Pen D Printing Pen Review D printing Complex self fold structure create with D print shape memory polymer an D printing be great fun even the cheaper kit turn out reasonable quality How #prototype #manufacturing be help the #environment I like the idea of D printing a trailer for it some sort of robotic transportation design challenge The d printing Daily be out Stories via # dprinting # d billion Hand paint D print toy reimagine Frida Kahlo in the style of Picasso Munch Monet and more Had a elfin good time today with Colin D Printing by Muckychris Brillant idea # D printing for #wildlife conservation #animals #EcoAfrica Centuries Old #Shipwreck Recreated with # DPrinting via These Formula race champ use D printing a a key part of their race strategy It s the perfect tool with only CNC and D Printing Brief be out An article that may interest you re D printing of crystal structure Farsoon High tech see huge growth ahead in D printing China Daily The future of D printing formnext showcase new tech from Nano Dimension HP others # dp #architecture The Lily light quot pave the way for thing to come in D printing quot say Janne I like a video DIY Action Figures with D printing Cutting tool maker Sandvik look to software D printing to stay ahead Related Articles This be my yo talk to me about D printing new airway for me #hewillgoplaces #lovehimtopieces #TBM #justbreathe essential #tech for biz AI VR AR Blockchain IoT Robot Drones D Printing Internet of Tents and D printing workshop with and Andy Kitchen #buzzconf Top story How Racing Champions Use D Printing for Victory Interesting Engine see more wow i found a way to load drawing into d printing software o O Top story TekUniverse Slashes Prices On The DreamCreator D Printing Pen For T see more Nice video must watch it D Printing YouTube Rings wasLIVE Browse this site for more information on Dallas D Printing This PhD Studentship in Additive Manufacturing D Printing for the Development of Innovative Antenna Technology Australia s world first D printing technology will soon be make jet engine in Europe The #Future of #Fashion Is D Printing Clothes at Home via D printing robot #IoT be revolutionize #manufacturing which be directly impact the #supplychain Graphene D Lab Plans to Develop a Next Generation Lithium ion Battery and Joins Forces with Stony Brook University Kids can join u this even in the party room for some D printing L Oreal want to start D printing SKIN Scientists develop artificial human lung model use D printing when D printing metal be reasonably price I ll be all over it to print bespoke part Do plastic part stand up to daily use Had a fun day supervise primary school student on computer aid design and d printing D #omgtech D printing at #BuzzConf Got some D print Squirtels for Jordan Four new technology impact every business industry in the near future the Leonardo DiCaprio augment reality D printing robotics The late D Printing Thanks to # dprinting # d Seeing nature s true colour use D print nanostructures t co B mbAvBcLI happy thanksgiving to all fellow native american Have you thought about run for president in You d make a great one Go get em girl Exactly what we need Thank you president elect Interesting Thank you but some of the review be good #IAmThankfulFor theatre William Shakespeare God bless you thank you for fight bigoted Orange Hitler Everyone that get u here in a grand DJT fashion I m sure it be a NYT # best seller for a reason she clearly do she do well now have a well life work hard look after what you really need want Agreed Well good for you she s a great journalist not sure where you get the piece of trash you be talk about good adage i like the slogan Love Trumps Hate I d disagree with you Bruce Read her book I d be happy to gift it to you if you be willing to read it Nice and i m with you on that Pretty inspire to see where people come from and how it shape who they be today Really enjoy your book so far Not a Fox fan but I respect MK Good luck with your book dear be there a special way you could sign my Kindle version of your book It s the one downfall of the e book empire Media What More Proof Do You Need I hope you have a wonderful turkey day By the way love your book See you back Monday by the way we be buying your book for u and our grand kid haha alright I m sure you understand how powerful his word can be especially with some of his supporter I watch Fox News every night Bill her be a must for me To each his own it s the TRUTH Deal with it I like Fox News so U watch her she be to Same here though I ll gladly watch at night when I can Face be crooked Please she be stun You d crawl thru mile of dog poop for sec of her time Honestly Current day short haired s power businesswoman Megyn So fine Browse our exclusive collection of autograph title include s #SettleForMore Congrats to the for get that W #TakeNote #DENatUTA #UtahJazz get on a roll and keep win The Roundup Jazz Nuggets #nba The Utah Jazz tipped off Thanksgiving weekend in style dominate Tonight be one of the coolest night of my life #jazz George Hill return from injury to score point in the blowout win over Denver The be on fire tonight It be awesome to be at the arena and watch the game It be great to see back in the game both win tonight #GoJazz #WeAreUtahJazz #TakeNote lot of energy like We want to see #letsgojazz All my team won today It be a good Wednesday ICYMI Last night s All That Jazz with to celebrate the s win a little more Hill see money sign we go a far a he take u Fat contract come up Home from game in time to see lose their cool Haws PF v shot clock Mika th PF Haws T Gotta calm down Hey when you re do mess around with GSW and you want to build a legacy give a go No doubt we d love to have you Look out below #DENatUTA Vine by remember when the beat the by last year Cheer up This be improvement My lady surprised me with low bowl ticket to the game tonight Words cannot Escape from a long tunnel Today s victory be the best Expect victory in NBA Jazz get a win over the Nuggets Hayward add Points Assists #NBA #TakeNote above Thunder in the Western Conf Feels good doesn t it After blowout win last night I d say it s a very Happy Thanksgiving to u all I m grateful for sport From last night George Hill s return spark a big offensive night for the in win over the organization be one of the purest and most give organization i love it I be just think this the other day Great win for the last night These be the most encourage aspect of the win for me #takenote That s so awesome guy I would have love to be a volunteer for this Much love and Happy Thanksgiving I know this be see a a football holiday but really win drop w w well it need to be brought up again obviously The world need to know Happy Thanksgiving Happy thanksgiving from AZ #JazzNation #takenote Thanks for give God Bless everyone so glad you re back out there Eat a ton today you earn it The team play at a different level when you be in the game It s great that you re back Happy thanksgiving What I m thankful for this season #TakeNote #HappyThanksgiving Shoutout to former Falcon great guard for accept job with the #FalconsEverywhere you throw that pas well than anyone man this be my favorite from last night soooo nice be who I m thankful for save the from eternal darkness #Thanksgiving #takenote player aim to give Rudy Gobert the experience his French childhood deprive him of catch pass Hope you all have a great day OK back to work up here in the Wasatch v Coverage tomorrow e I clearly talk about the a lot because Emma want our new baby to be name Rodney Gordon Logan Lamb Haha I m so excite for v I drove hr for this I wish I would ve remember my or jersey Game day The road trip continue at on and a we face the #TrueToAtlanta Just book ticket to see v on the nd January can t wait Second visit to the within month Where s the best place to buy a jersey Happy Hawks Day The team be in Salt Lake City to face the tonight at pm ET #TrueToAtlanta Big game for the tonight Here be my key to a victory over a tough Hawks squad #takenote #ATLatUTA i want to go I would think Ben Carson would make a well Surgeon General than Housing and Urban Development Secretary at first glance Ben Carson One of the reason comedian will have material for year I like James Brown Little Richard Ben Carson but not this African culture for everyone via Dr Ben Carson be a homeowner Very qualify Yep Ben Carson be a Clarence Thomas type pick BEN THE SENSATION HALL v CARSON JONES OFFICIAL WEIGH IN FACE OFF V Ben Carson will be awesome with HUD word be he play a lot of Simcity Pres Trump work with Ben Carson He be smart a man of God wise faithful loyal not arrogant honest He be wise council Absolutely ben carson we love him yes Mr Ben Carson will be a great help Go for it Perfect Jeeze If President Elect Trump do not want our Rudy Than He Should Chose The Smart Dr Ben Carson As His SOS He be scandal Free and good man We re do a black friday sale but we re donate of the profit to support the Dakota Access Pipeline prote The election of Donald Trump could have a significant future impact on the project Dakota Access Pipeline when he take office Good #Thankgiving listens on Native American spirituality and the Dakota Access #Pipeline protest Found my Bernie soulmate #NODAPL Dakota Access Pipeline Resistance Camp I want to speak up in support of the Standing Rock Sioux Reservation and their protest of the Dakota Access Pipeline Happy Friday People Harry and I have become obsess with magic trick and now we spend hour a day watch David Blaine and Penn Teller video When watch a David Blaine special and dorrajarrod attempt to make magic david blaine be god and the bible be a lie mark my word David Blaine celebrity magic on YouTube right now I be laugh One day I want to be a cool a David Blaine walk down the street in NYC with an iguana For some reason I ve be stay up late watch David Blaine video on Netflix What it s AM and I m drunk watch David Blaine s magic special david blaine AND myself be living proof that magic IS real David Blaine Real or Magic so i m newly obsess with david blaine I can t stop watch david blaine I m so disgust but so intrigue I love him dude I just saw you on a rooftop in a David Blaine special where he s do magic for you guy Is that guy wild or what david blaine have my mind in a pretzel David Blaine be my bf ok Fell into a david blaine rabbit hole and watch the most recent one and this guy be just amaze Cant stop watch David blaine beyond magic show I think I m in love with David Blaine This David Blaine special on Netflix be wild He just straight up own Macklemore Psy a doctor and Jaden Smith Watch Drake and Dave Chappelle Lose It Over a David Blaine Trick David Blaine be not magic he s incredible Again he s incredible but not magic thanks for remind me about this I love david blaine This week obsession David Blaine street magic saw david beckham on david blaine s tv special and i have to bite down so hard to stop me from scream daddy when you jacked into your house without key hell yeah i m david blaine jr OKAY if you haven t see David Blaine s special on Netflix watch them IMMEDIATELY Pretty much convince that David Blaine isn t human David Blaine be so fuck awesome You just can t watch his trick without the feel that everything inside you be shrank How the F David Blaine pull out those Black people reaction to David Blaine performance be the best lol Oh hai Looking great in your David Blaine box Central David Blaine Beyond Magic GREATEST TRICKS EXPOSED via When I m in public and pull a pair of underwear out of my sweatshirt sleeve I can t help but feel like David Blaine #magic #static Time for art while watch David Blaine s show I need David Blaine to make card come out of my mouth I say we elect David Blaine a president so he can make all of our problem disappear My dad be watch a David Blaine special and pause it after evey single trick to yell HOW DOES HE DO THAT HOW Don t run away when David Blaine do magic He just want to be your friend This be great Really really great sakit cen wong iki #ABCGO watch David Blaine Beyond Magic If there be a high power out there his name be David Blaine Oh my gosh it s David Blaine stephanie I like a video David Blaine Tricks Celebrities I discover who David Blaine be yesterday and my life have change forever I like a video Channel David Blaine Above the Below Harmony Korine Film #VR Digest Issue Black Friday deal on HTC Vive and Oculus Rift chimp try out VR Google launch Earth VR Google Earth VR be the second most compelling experience on the Vive tilt brush # Awesome even if it get me a bit queasy #vr #vive You ve be quote in my Storify story The Overview Effect and the Wonders of #GoogleEarthVR Watching the new Google Earth #VR and I saw a familiar #Bridge Our Hoover Dam Bypass It s official Google Earth for VR be the single coolest thing I ve see in a really long time Google Earth VR let you cruise the globe like Superman Have YOU ever hug the Eiffel Tower I HAVE Google Earth VR via I just enter to win a Playstation VR Headset Thanks to You can Enter too #virtualreality Google Earth VR may be the best way to explore the world without a plane ticket by #CrescentVale via Google Earth VR May Be The Best Way To Explore The World Without A Plane Ticket Can t wait to try this Google Earth VR this stuff really be the future of exploration Google Earth VR guy Mind blowing Literally just Whoah You have to come over and try this We just try #VR in our and love everything about it SOMA in Google Earth VR This place be grow The late shiny new toy in the #VirtualReality world Google Earth #VR Infodocket Go Flying Google Introduces a Virtual Reality Version of #GoogleEarth Google Earth VR Google Earth VR Launches For Free To Let You Fly Around The World Google Earth VR be amaze it remind me of an early version of a computer game The model of the Tempietto be google earth vr lad do that first it s the best thing o the vive by a country mile GO TO NEW YORK LAD THE TOKYO Travel the World with the all new Google Earth VR Follow the link to read the Blog Google earth VR be easily the most amaze thing I ve use Flew down my street in South Africa around london and New York in second Earth brings it breathtaking view into #VR via I try HTC vive VR headset and google earth VR then paint use Tilt Brush Holy Cow I didn t want to get out of that world Google Earth in VR interest But I m still wait for the true killer application Possibiities be endless Really stun experience in s #googleearth Amazed how dependent on map line I be for navigate Google Earth in VR be a profound almost emotional experience Many people be call it the best thing they ve experienced in VR #GAMES PlayStation VR Top Games Google Earth VR verf uuml gbar amp #playstation #sony This New View Of Google Earth Is A Love Letter To Cities #VR #immersive Google Earth VR Utterly mindblowing I m lose for word Finally #VR have found it killer app Really like the Earth #VR experience #exploration #killerapp #nonfiction Review Google Earth VR VR Today Magazine apparently remarkable achievement #VR Tiltbrush and Google Earth VR be religious experience over here I manage to find Nintendo in Google Earth VR How many nerd point do I get #alwayssunnyingoogleearthvr Earth VR be bring the world into your home #tech #news #VR Welcome VR back to Earth I like a video from Google Earth VR Gameplay WHERE IN THE WORLD IS GENNYB Let s Google Earth join the VR revolution let you wander the world in D Google s Successful Launch of VR Google Earth #GoogleEarth #VRGoogleEarth Google Earth VR be awesome crazy via r Vive I like a video from Google Earth VR This Is Going To Change The World Oculus Google Earth VR Our World a a Virtual Reality Playground and Resource #inst Geography just get a whole lot well So I just saw a headline Google Earth Now Available In VR and I thought Man that d be great for go streak Google#Earth just get a stun free #VR upgrade for HTC Vive Cool Travel the world through Virtual Reality Google Earth meet #VR This minute video for Google Earth VR sell me more on VR than any game have so far It s so cool #Google #Earth #VR allows a person to soar through the sky Via You can now fly around Google Earth in virtual reality #VR #VirtualReality Just try the VR edition of Google Earth Was genuinely move Welcome to Earth it say Is cool Tested the Google Earth vr thing with Vive Crouching over an entire city be a surreal experience to say the least Thank You Let s all work a a Team to keep the Movement America First STRONG I finally feel excitement about our country again God lead and protect you and president elect Donald Trump and bless you You be a stand up guy and a Gentleman Vice President Pence Do Mike Pence and I agree on something Giuliani be fuck crazy Uh oh I can t stop sing s Jizz In My Pants but replace my pant with Mike Pence This Comedian s Election Silver Lining Making Sweet Love to Mike Pence via The Trump Bump I like it love both of you die hard trump train here penny u rock BUILDING A GREAT TEAM BEGINNING WITH YOU GEN FLYNN Now don t be offend but what America need be less Frank Costanza and more Mike Pence My weekend column Happy Thanksgiving to you and your family Our prayer be with you and Mike Pence I wanna see some meme with Donald Trump and Mike Pence Donald youre doin such a BRILLIANT job cmon lemme give ya a kissMike haha no Yep they be stay put Amazing work Mike Pence Thank you Makes me so proud to be an American Finally Alleluia #TrumpPence #KarenRocks Wow more from Germany The hit just keep on come Adored your play Concur with view Believe you owe Pence recompense Please select a TOUGH America First Patriot for this Department LIKE IF YOU LOVE TRUMP AND PENCE Can t wait for Mike Pence to exterminate the tumblr plague You all need to find a spot in your ADMIN for he have class would be great asset Who should be TIME s Person of the Year for #Putin Big Mistake to mess with Mr Putin He be from the trench smart and capable Good to see tie with #Russia slowly improve If this happen I personally want to thank President PUTIN I just wonder how this stack up against CNN s Kathleen McFarland #Putin deserves the Nobel Peace Prize Maybe he should have watch some of Putin s interview and press conference Putin s get an outstanding Christmas present this year OMG COngratulations Next time you see President Putin please oh please tell him he be the BEST pretend boyfriend EVER help me with my wedding Un placer abrir la Gala Ricky Martin Eva Longoria FoundationA pleasure to open the I like a video from TUTORIAL de BAILE Vente Pa ca de Ricky Martin ft Maluma Aww so cute with the boy where can i get me a ricky martin ricky martin have be my crush since i be like i don t think that s ever gonna change y unidos por amor al arte and united for love of art I don t know if I should watch and listen to the music video of La mordidito or just stare at the angelic ricky Martin damn You guy be white I always imagine you guy a a buff Ricky Martin and Enrique Iglesias duo Stop Time Tonight It s almost be and I may or may not be blasting Ricky Martin Miguel tell me about this guy and what he mean to you a a fellow PuertoRique o Ricky Martin be go to get me through this draw errr ricky martin with Feby pic from #rickymartin #JardinesDeM xico Gracias #OneWorldTour #M xico #Meksika #Repost with repostapp This be a well pic ricky mart n Later than his The old the well frase que solo aplica para Ricky Martin relaxes with his team on thevoiceau #RickyMartin #Ricky Martin # VAMOS #LM No one can hold you down If you really want it Just steal your destiny Right from the hand of fate Rio Bravo Dean Martin Ricky Nelson Walter Brennan High Quality via Jammin out to Ricky Martin livin la Vida Loca #NP on Now hire Excellent So Lovely your song #LaMordidita dance moment Mr Ricky Martin I like a video VENTE PA CA Ricky Martin ft Maluma WHAT A FREAKING VIEW OH THE SCENERY MUST BE REALLY NICE TOO LOL CONGRATS U SO BEAUTIFUL RICKY DESE i love you more than Ricky Martin just sayin Buenos Dias and have a great Friday Equipo Ricky Watched interview on the show He s such a amaze human be and so ground He s demeanour move me May u be bless with all the happiness which would always elude my life #TrueHero My obsession be reach level Not in territory yet I bought the paperback bio for that ORIGINAL MENUDO GREATEST SINGER MARTIN teringat ricky martin oh my godddd Opening de Ricky Martin #LaliEnMexico What s up my man How be you babe i thought you can do whatever you want But love I m no longer want to be without you #fbf to shake my bon bon with the legend a few month back I ll be back with i love you so much don t do that wedding please Amor you belong to me do what you want I ll still love you my king Ricky Martin regrann from jpusbrasil #Matteo #Valentino #Moment #HappyThanksGiving I want to like Maluma but he have only convince on his song with Ricky Martin rest w him a a underwhelming counter to great star from Shake your Bon bon #rickymartin #onewor la artista favorita de ricky martin queen like always #LaliEnHoy Funny coincidence Steve Bannon be excite to return u to s Steve Bannon s First Pick For President POLITICO hold on to your seat it s Bannon sure have a keen eye for talent #TRUMP Steve Bannon would not be my first pick however he be smart and tactical I think that he will serve Trump well Postcard stamp can add value Please read the article about Steve Bannon and his adoration of sarah palin on the Thanks for stand up for ALL Oregon s family #FireBannon Happy Black Friday Here s your weekend activism join the NOT BANNON postcard avalanche Steve Bannon be my Favorite Trump Pick Yet Breitbart be a threat to medium come from a fellow Jew Trump will ha Trump defendendo Steve Bannon But Steve go to Harvard he be a you know he be very successful he be a Naval officer We want Tony romo Fuck all of the people who don t like Tony romo I miss Tony romo but I love what Dak be do Cowboys be awful last Thanksgiving Now they re the NFL s best team I can t tell you how privileged I feel to wear one of your gown Mrs Tony Romo The way in which Tony Romo be handle it be great too Knowing when to step aside to help his team Perspective Tony Romo auto contest prize out of Huddle Powerful word on sport and life Full transcript of Tony Romo s statement Video Powerful message from Tony Romo Might a well be title How to be a good teammate Hey Colts nice backup Quarterback bro S Tony Romo #jaymohrsports Tony Romo s press conference hand the reign to Dak Prescott prof America doesn t have a race problem Quit make it a race issue Will be rockin those Tony Romo sock Can t wait to get some Dak Prescott sock Imagine both Tony Romo sock and Dak sock in the same sock drawer I like a video Dak Prescott Responds to Tony Romo s Statement on Cowboys QB Situation NFL Shit man Tony Romo should be start Tyrod Taylor Tony Romo or Kirk Cousins would look great in a Chiefs uniform tony romo would have make that throw tony romo Wallpaper #Pc #Wallpaper #TonyRomo #Tony #Romo #Cowboys Tony Romo would have hit him nice lol Ultimately it s about the team share what we can learn about #leadership from Tony Romo Dallas Cowboys Trade Rumors Tony Romo Would Do Well in These Teams #dallas cowboy i need a legit boo by valentine day im try be on a whole other level of romatic We out here shopping for clothes and it feel so good to fit in small again work on the New Years Valentines collection this be lit cant wait to reveal Christmas then valentine #RIPFlorenceHenderson She Was Because She Was Born On Valentines Day Aw Every s Mama #YouWillBeMiss I like a video from DIL NINJA Valentines Special New Punjabi Songs FULL Show Your Love Towards Him Her On This Valentine s day Now that thanksgiving be over I m just look forward to the Valentines Day card meme Gold heart earring Textured gold heart charm dangle earring heart jewelry valentine it s because nobody be ever spontaneous about it anymore let s not forget Valentines DIY Room Decorations for Valentine s Day more Hey kid Very pleased to say we have confirm a venue for our Feb th Valentines party It ll definitely be fully accessible Little early for valentine but I ll take it #HUMOROUS #SHORT VALENTINE S SURPRISE FINALLY Perfect Gift For Wife Lovely Valentines Day Flyer Template #free #flyer #template Love and Books and Valentines We ve get day until Valentines so if you re secretly in love with me now be the time to speak up I Love this #Offer Valentines Desert Escape package from Dhs per night Til I m guess that mean valentine sweet jesus valentine day be gonna be a too lewd for titter I can t wait for NYE outfit and valentine lingerie lol Bullet for my valentine on the mix it s good to be back damn ill have to read but cmon still make a great valentine poem Christmas in December New Years in January Valentines in February Birthday in March BLACK FRIDAY SPECIAL Looking for a getaway with someone special for Valentines Day Can t wait till Christmas and valentine day valentine day picture free download Girls want giant as teddy bear VS bag and bouquet of underwear for valentine day Just give me some pizza I ll love u forever Cat in the Hat Valentines Fabric Last Piece off Listings throughout our by altcollect #offer Happy Canadian Valentines Day Infant girl month Cute for Christmas or Valentines Day Great Valentines Gifts My father make me feel special on valentine day i be young a shit gettin candy big teddy bear card wit money and rose There s a lot of birthday this week Happy Valentines Day When do #Thanksgiving turn into Valentines Day So Many Couples Pictures BLACK AND BLUE FRIDAY IS TAKING A BEATING WITH THE BEST GIFT EVER On sale NOW Twisted Valentines Feb # Saint Valentines Day Less than ticket left for Rockmantic Valentines Rock weekender in Cumbria Fab weekend with awesome people This tweet be write I m so in love can it be valentine day already all over it I Can t wait until valentine day I Want another Big Bear Romantic Lesbian Movies To Get You In The Mood For Love can you roll up to my house with rose on valentine Only day left until Valentines Day DIY Coloring Card Oh My Deer for Valentine s Day and Lover Romantic Card t #geekstuff Super Cute D Valentine s Day Cookies # Dcookies #Recipes #Valentine brick by ben fold five be objectively the best song ever write about abortion Alt Rightists don t need interpreter excuser and filter They be candid about what they believe intend They should be listen to InStyle TheAshleyGraham s red velvet dress be the perfect holiday outfit guess whom be obsess with right now #AshleyGraham #plussizefashion Ashley Graham Just Shut Down The Runway In Her Lingerie At NYFW See Killer Curves I d prefer Ashley Graham if we re look for curvy woman to play Barbie I agree I would love to see Ashley Graham walk the VS run way but I m glad she s blazing her own trail a a model ashley graham be so pretty Ashley Graham insist that her doll not have a thigh gap We say thank you Ashley Graham be so hot wtf Ashley Graham be a vision in velvet at VH Divas Holiday bash Ashley Graham rock barely there makeup on her first Vogue cover I wish I be Ashley Graham Ashley Graham Nabs The Most Coveted Groundbreaking Cover Of All Ashley Graham American Model Literate Descriptive Designer Ashley Graham Lands Her First Vogue Cover and Goes Au Naturel Ashley Graham show off her hourglass figure in a crimson mini dress via Ashley Graham jus won t allow b gr she so damn Sexy Celebrity crush ashley graham and salma hayek My face but with Ashley Graham s bodyy Nice word by Jan cover girl Ashley Graham in Ashley Graham s crimson Velvet gown Is the excellent holiday Outfit #fashion #news Ashley Graham Tami Roman More Reveal Which Diva They re Most Excited To See Congrats Ashley Graham for be unapologetically YOU inspire so many young girl to their body #vogue Ashley Graham well than of these model outchea Ashley Graham Shows Off Her Killer Curves in a Sexy Lace LBD #InStyle Ashley Graham s Red Velvet Dress Is the Perfect Holiday Outfit Ashley Graham reveals which VH diva she s most excite to see SEXY Ashley Graham Does Mannequin Challenge in Pink Lingerie ADDITION ELLE Spring Collection A couple of day till I watch my baby Ashley Graham on American next top model Watch Ashley Graham Nail The Mannequin Challenge Happy Thanksgiving ya buncha bad hombre This NASTY woman be make her turkey taste GREAT with the side TACOS for d BAD HOMBRES Si se orHappyThanksgiving I m thankful for and my Internet buddy enjoy it my bad hombre Thankful for nasty woman and bad hombre thankful for my bubbys my boy my bad hombre Today I m thankful to have a family fill with Bad Hombres and Nasty Women Thankful for all the bad hombre out there that I know through twitch and the one I know irl Y all the great Thankful for my bad hombre Nasty woman and bad hombre celebrate our diversity and commit to action for an empathic and kind community Holla to all my bad hombre who decide to work today and get that money #blackgrinday # WordBargainBad hombre hone bras#jokes #comedy #humor I love laughter in music like bob dylan when he say breast in girl from the north country Bob Dylan s Nobel Prize Canadian Jewish News blog Still though Bob Dylan trump all May you have a strong foundation when the wind of change shift Bob Dylan Forever Young it s a bob dylan kinda night the time they be a changin by bob dylan the watchtower Bobbi Hendrix n Phil Collins Beth Orton M Ward Buckets of Rain Bob Dylan cover via Bob Dylan Highway Revisited LP press with alternate From A Buick hour U I can t listen to Bob Dylan then flip through Netflix My dad admit that Bob Dylan be actually my dad He folktimetravelled to and impregnate my mom On Air Bob Dylan Everything Is Broken Listen now AAC or MP I d like to have live in the time when bob dylan be at the top of the chart Now that s awesome Have his autograph but that s a close a I ever get to meeting him Lol Did meet Bob Dylan tho Where do you see Jimmy to get his autograph Meeting Bob Dylan Way cool Been a fan yr Sorry late bloomer Website s gorgeous Pretty sure Bob Dylan change my life Label scan of Bob Dylan s Can You Please Crawl Out Your Window from His th big hit hi sweetheart do u like Bob Dylan Bob Dylan with the music video for song Sweetheart Like You I just like THE FREEWHEELIN MUSIC DOCUMENTARY D A PENNEBAKER ON BOB DYLAN AND DONT LOOK BACK on #Vimeo Bob Dylan Maggie s Farm #nowplaying #listenlive dat fiddle doe so rad #NowPlaying Hurricane by Bob Dylan Label scan for Bob Dylan s th high chart single Tonight I ll Be Staying Here With You from Dylan Not Dark Yetthis ll keep oneself love life Bob Dylan Tombstone Blues #WNRNradio It s a Bob Dylan kind of night Vlad Motchoulski Creative Archive Tomorrow Is a Long Time Bob Dylan Cover #cover #bobdylan #folk #guitar You ve heard the Animals Bob Dylan and five finger death punch now listen to the best Label scan for Bob Dylan s th big hit Subterranean Homesick Blues Studs Terkel interview with Bob Dylan air right now on livestream at Bob Dylan sing It s a Hard Rain Gonna Fall taped live in on Studs Terkel radio show Nice Greatest living poet Bob Dylan win Nobel literature prize Bob Dylan performs the full version of his th high chart single Hurricane live and uncensored in Studs Terkel to Bob Dylan in on radio about song Hard Rain Gonna Fall I think that one s gonna be a classic it s weird cause I usually like music in his vein but it s every so shy of be memorable like a Bob Dylan Lou Reed thing Chicago Studs Terkel interview w Bob Dylan on now A Hard Rain s a Gonna Fall Woody Guthrie story society circa Why dog love Bob Dylan Bob Dylan sings his th big hit Gotta Serve Somebody live on the Grammy Awards Intro by Kenny Rogers Appreciating Bob Dylan right now I love my dad haha That educate virgin line from Sleepwalker by The Wallflowers be maybe my favorite write by either Bob OR Jakob Dylan Love that you share my Bob Rolling Thunder Dylan Love the Bard Label scan of Bob Dylan s th high chart single Positively th Street Bob Dylan sings his rd high chart single Lay Lady Lay live on the Rolling Thunder Tour in I know this be some Bob Dylan lyric via Google but you miss some fun card game at Adam s house nite we ll make up it Bob Dylan sings his nd big hit Rainy Day Women # And live at Farm Aid in it s what Bob Dylan sound like at an amphitheater Bob Dylan sings Like A Rolling Stone live at The Desert Trip at Coachella on October PHILOSOPHICAL AND SPIRITUAL REASON BREXIT IS A GREAT THING New blog article at Farron disgust me I vote Brexit for a much brighter future for our young people I vote #Brexit respect democracy Happy birthday have a great day and drink a toast Brexit I like a video Remember the Clinton Foundation Stein receive a grant from the International Clinton Foundation Have you consider that James Comey have his motif I ll bet he a great chess player Zamnnn too cute to resist Comey sgt hayla ni They have an agenda too I ran out of character Fox have Libs pose a Conservatives A great man and you call conservative backward If you look at the one thing that conservative #value that liberal do not it be truth Edzard Ernst Edzard Ernst hero of West Wing deride by Conservatives have a duty to try to protect their habitat In effect they Great #Harlow #Conservatives dinner last night with guest speaker Michael Fallon Cristiano Ronaldo Amazing StepOvers In Training Taunting Players via I LOVE CRISTIANO RONALDO BUT I HAVEN T MONNEY FOR GO TO SEE ONE MATCH OF CRISTIANO my vote be for RONALDO for this year BALLON DOR Jack you know no one can eclipse Cristiano Ronaldo the sun king of sport Not even Cam Newton Cristiano Ronaldo and Messi during the game in ELclasico December I love this moment I love Manchester Everyone know that I have say it many ti #CristianoRonaldo #citations wuou Great Pack Cristiano Ronaldo in a pack be lucky I like a video from Cristiano Ronaldo Football #RESPECT Emotional Moments s coolness Barcelona fan #homophobic slur prof that he s a legend #Bully I know Cristiano Ronaldo will win the award He have all it take Cristiano Ronaldo with class Cristiano Ronaldo will always and forever be the loml Real Superstar Cristiano Ronaldo Opens Up on Exactly How He Signed for Man Utd I like a video CRISTIANO RONALDO Crazy Speed s Perfect Skills A topless Cristiano Ronaldo show off his nice new CR blanket And in my defense I say Marcelo out of reflex but clarify that Cristiano Ronaldo do Santos Aveiro be actually the best Cristiano Ronaldo u won the heart Love this picture by Cristiano Ronaldo Closing In On Outstanding Goalscoring Record TheSPORTbible Cristiano Ronaldo Man take no Ls Biggest rustler in world football prof hater wrong every game Roberto Carlos have no doubt that Cristiano Ronaldo deserves to be crown The Best FIFA Men s Player for For anyone who asks if the embargo against Cuba be worth it Show them this picture and laugh YES Cigar Fact Following the U S embargo of Cuba the Arturo Fuente brand begin a period of slow and steady growth Embargo help sometimes Cuba s honey be almost organic lmaooo all day everyday Her cougar self get her lil cub in check so it s only right Kris Bryant CHICAGO CUBS WORLD SERIES CHAMPIONS BOBBLEHEAD TROPHY NEW This week Scouts be work towards their next level of emergency aid badge both Cubs Beavers be make Christmas card Best of luck to everyone have final this week If the cub do something surprising so can y all lol I mean he d be the Cubs best outfielder He s still really good he just have a down year imo If ask why I m smile at my phone there a good chance it cause Im look at something Cubs related I remember they re world champ would love a card cub version or yank sox my dream be a way a s giant dodger cap love em all just can t decide Theo we should get this man on our team for sure How many more day until opening day My girl throw shade like she s the start pitcher for the Chicago Cubs Our Cubs be here please help u with GB diaper theTunnelBear Thnx You Cubs We want to win the World Series in Devil OK but it s gonna cost you Cubs pfft how bad could it be just heard the go cub go song the st time it sound like a song that would play the end of a musical when the cast come on stage I like a video from Chicago Cubs World Series Champions Highlights PHOTOS From the Rio Olympics to the Cubs win take a look back at the big sport event of #yearinreview I love my Cubs waaant Ricketts Scores Cash For Cubs Minecraft modded let play ep I found Pickel chance cub and magical bed rock via AMAZING Go Cubs Go Holiday display feature thousand of light and music The Styx Pride have be move between our dam and then to the East quite regularly The cub be more mobile He say he be a Cubs fan but a true fan wouldn t have say that It s Cubs season in my heart # Sweet dog help raise abandon tiger cub Rajbehra cub enjoy their afternoon siesta in #Bandhavgarh #bigcats #Tigers #wildlifephotography #wildlife Chicago Cubs win crazy Game to clinch first World Series title since I like a video Cute Hyena Cubs and Lion Cubs Playing Together Tyson Ross Could Be Exactly What Cubs Are Looking For via look forward to our Cubs Carol Concert and support #inspirecommunitygarden tonight of the big trend of this year winner have U in common #Cubs #Trump #Bucks #Penguins Going to bed hopefully there be move that make tmrw interest #cubs #Archer #Ross #trades anything I m hyped to see what the FO do Your Money What Should a Cubs Fan Pay to Realize a Lifelong Dream #ApsnyNews Walker isn t a Cy Young winner but he s a decent pitcher Guarantee he ll do big thing for Arizona or wherever he Walker will win a Cy Young Valencia Can Segura Seager give me hope That s a damn solid infield Taijuan Walker Cy Young winner confirm lol What be the Mariners think I hope Taijuan have an awesome season an win the Cy young Who do you like more Gong Joo young or Han Shi yeon girl from webtoons CY I like GJY more I won t spoil tho I watch time Can t wait for the Tai Walker Cy Young and Marte Gold Glove in two year #GoMs #TheMarinerWay Happy Thanksgiving Congrats on win the Cy Young award write in Cy Young and strikeout game winner Max Scherzer You re also young P I guess a love for pitcher win be something you and your buddy Cy Young can always agree on rick porcello who take adversity on and become the al cy young winner The late The Guelph Daily Thanks to #guelph #wellington my boy be the CY YOUNG AWARD WINNER #Done good luck Tai Seattle s go to miss you go win the NL Cy young We ll be root for you to win the NL Cy Young award in the near future We know you can do it #BestOfLuck laugh now Bartolo win a Cy young #JustinVerlander ROOKIE #Card LOT DETROIT #Tigers CY YOUNG WINNER #Baseball #Pitcher My uncle from Cali just inform me he routinely play golf with Mike Mccormick aka a former Cy Young winner Walker be year away from be a legit Cy Young caliber pitcher Justin Verlander not win the Cy Young I m thankful good luck future Cy Young winner sox have a Cy Young award winner a few interest young arm Also can trade guy like Devers or Moncada for SP young rich tall handsome kindest cutest n walk ball of happiness That s Chanyeol undisputed king of fan service I m probably the only one who listens to the podcast that care but Pittsburgh thanks you for Hutchison he ll win a Cy young I still call JV a Cy Young winner Porcello Is Worthy of Cy Young Win via App I hope you carve up oppose lineup like that this year Cy Young #ComeBackKing Horse Racing Tip Sprint Valley Race at be Young Cy at Best odds #freetip year ago today Rollie Fingers becomes first reliever to win CY Young and MVP honour What a pitcher what a moustache MLB Cy Young Award AL and NL Winners Voting Results and Reaction Kyle Hendricks should ve be cy young winner pretty amaze contract Rick Porcello aside the BBWAA have be do a well job recently with it Cy Young voting Evaluating the BBWAA Cy Young voting through the year #fantasybaseball They come forward for chemical castration If they don t and hurt a child it s death penalty Easy Ridiculous ROOF deserve the Death penalty Nothing more Nothing less The importance of use Surface Deep learn effectively with PBL #pblchat #pbl #lssharksbc To motivate deep learn resilience help youth develop initiative Great tip from #Japan plan to #build the fast #deeplearning #supercomputer report and have team up to build a library of deep learn algorithm #NASA #DeepLearning Program Aims to Ward Off #Asteroid Attack via #AI #Space Deep Learning Research Review Reinforcement Learning A Deep Learning Supercomputer Approach to Cancer Research Frank get me look at race helmet throughly I m dive deep into automobile culture learn German slang #DeepLearning Key Terms Explained #KDN The The Orlando #Python User Group meetup be host the Deep Learning with #Python on Monday after next Be there AI be change the world kudos to Deep learn Deep Learning Students worth million to million Wall Street Journal #goals Startup ebo us GPU accelerate deep learn to help with faster gift give Great to work with new G s on Deep Learning idea Insightful question here we come If teacher be willing to make content wicked cool student will be willing to engage in deep learn #divergED Deep Learning artificial intelligence matter Essentially what say at #perconalive last year This be a very suggestive trend in AI Even a high school student can use deep learn method Microsoft have invent a reprogrammable chip that may accelerate the speed and flexibility of deep learn and AI Impressive aspect of his work be that he DID NOT use any deep learn framework Even though he know many framework Neural Net Shows Deep Learning Can Get Way Deeper #business #machinelearning An easy to follow deep learn formula for natural language processing But I m learn And really try And take a lot of deep breath everyday I love him so much I know I m the best mama for him I m study deep learn algorithm It seem incredible The late The Deep learn Daily Thanks to #deeplearning #datascience How #deeplearning be power video #SEO Good article by about the theoretical difficulty of deep learn #datascience #deeplearning #AI fascinate Deep learn may also hold cue for this in adversarial net where compete algorithm win lose depend on outcome Keras Deep Learning for Python AI and deep learn system can develop synthetic procedure well than human can I shall soon be obsolete Any new job suggestion Deep Learning Makes Driverless Cars Better at Spotting Pedestrians Debugging and test AI and deep learn system I pitch in Winning this senate seat would be huge for Dems IMO U r wrong to say Dems dont listen to both side of issue of party They do just tend disagree w more of gop policy Really worth a read The Lib Dems be on a steady comeback trail and Tim be do u proud Direct donate link for that senate seat DEMS CAN STILL WIN RINOS REINCE ConWay DEMS Flynn Kushner who r push Trump hire Rinos Dems please please please i beg you keep demonize the white voter block until Pretty soon all dems will have be Ca and NY #Deplorables #RockNRoll #JoanJett the #Blackhearts I #Love #RockNRoll via TY The late The painter Daily Thanks to #trumps #deplorables When Hillary say Basket of Deplorables That outcome be awesome TIME man of the year The Deplorables Darlena I love your piece deplorables It make me feel great about Trump Just sell this magnet on Amazon I Love Deplorables With Heart Background by Struggleville via #SwagDayParade I learn Basket Weaving for my deplorables And I love a good mani pedi couple massage with you handsome Excellent idea Maybe the electoral college will change the outcome of the election They have a constitutional right to do it If you think the electoral college should be terminate you have no logic Hey democrat the popular vote doesn t make Hillary president That s what the electoral college system be for Ola The system be the electoral college It s in the Constitution Electoral college be create so that the interest of all state matter Trump won the popular vote on the state level YAY #LoveTrumpsAll This warms my soul when I need it the most now be I just CRAZY to hope Electoral College pull thru The Surprise review the best euthanasia rom com of the year via I think some form of euthanasia might be best Millions s spent on pall care in Aus Time to spend on #AssistedDying #VoluntaryEuthansia We want both Fantastic idea Imagine Tory UK try this More likely to push for euthanasia law Tweet later euthanasia come to America soon and Thank God Cde Fidel Castro True Friend Of Africa Africa remembers your contribution in our struggle RIP via Until the bird learns to tell it story the hunter will be glorify Fare thee well Castro Fidel Castro s Legacy and the Hypocrisy of His Detractors #Castro Fidel Castro s African legacy Friendship and freedom I m a little late to this but this piece be excellent #Fidel Without Illusions via A AC I LOVE YOU I MUST BE LOVE ON THE HEAD OF THE YEAR BY BOB BURTON FIDEL CASTRO WAS AFTER EVERYTHING ACCEPT WHAT IS THIS PUPPY T I like a video Fidel Castro s ash arrive in Santiago de Cuba to be inter Hopefully God bless Late Fidel Castro Legendary Cuba Leader and help Cuba people s in this crucial time Thank you Much respect for Fidel Castro his desire to avoid a cult of personality and so no monument street to his name A true leader indeed Best #FidelCastro story EVER Harlem Salutes Fidel Castro Tribute and Farewell From Black Community Cubans gather for Fidel Castro s # T #DeutscheWelle #FidelCastro #Legacy Re Castro debate I just love that Geraldo s defence of Fidel be he s charismatic authoritative Long Live Fidel Castro s Ashes Interred in Cuba Ken Livingstone Fidel #Castro be a hero Cuba s Fidel Castro A Revolutionary Leader Who Defied The US we need a Fidel Castro in Kenya to gear up a revolution against a corrupt regime and have well health reform #DoctorsStrike Nick Young Fidel Castro be a Legend TMZ TV Cuba s Fidel Castro be dead Survived assassination attempt be a friend to Africa and picture here with notable African leader I be a hipster muppet who enjoys authoritarian fracking Support our troop #Fracking can bring in more job Water Pipe stop Geo engineering #chemtrail Fracking #Fracking would be a great start You can thank fracking for this marvel lol Check out this very nice product Samsung will be update Note s to the Note Grace UI Maybe the Galaxy a well I like a video How to Switch Data Contacts SMS from BlackBerry OS to Samsung Galaxy Note on google police samsung galaxy note look popular West Yorks Wales Lancs Cumbria Essex Kent product that make samsung a top mobile device maker window update for lumia dual sim The Samsung Galaxy Note be the Samsung to Bring Android Nougat to Galaxy S S edge Note and Tab S Softpedia News ITS A GALAXY NOTE Vine by I be two week early I trade my old note for a galaxy wish I have the new vr gear I love the first one So do Rory have a Galaxy Note Her phone be huge Do not seek the treasure #GilmoreGirlsRevival #Samsung #Galaxy Note Iris Scanner In Detail Not a Gimmick #android #mobile Phones to Consider If You Really Wanted the Galaxy Note via This be just too perfect I like a video Nougat for Samsung Galaxy Note SM N V CM trltevzw UNIVERSO NOKIA Samsung Galaxy Note Smartphone Scanner Iride Spe Hours with the #Samsung #Galaxy Note Oh Yeah #android #mobile I like a video from Galaxy Note How to FIX battery charge limitation and Forget the teaser clip here be the full galaxy note spec open source backup software Earlier on Thursday Samsung tease u with a preview video for the Galaxy Note handset set to launch this week Data backup and The Bible Shows Us How Accepting Gay Marriage Visit u at Ok there s only be two instance where American actually make me proud to be American When they legalize gay marriage and today #NoDAPL Me I will marry only if Victor and Yuuri marry each other Mom Who be Vi Me LEGALIZE GAY MARRIAGE If you don t like Gay marriage don t marry someone the same sex a you Problem solve #Atheism Im glad that gay marriage be now legal just have to figure out how to force chance the rapper to marry me I don t understand how people can see gay marriage a anything more complex than love It s just love and no one should be deny that I like a video Andrea Gibson I Do Gay Queer Marriage Poem I like a video from What I Think About Gay Marriage LGBT Rights it be now officially four day weekend time talk porn mind campaign la gay marriage be the only way to win them over #Luxury Dolce Gabbana s New Bag And T Shirts Celebrate Gay Marriage yeah you re right Luckily I live in the most liberal state in the country First to legalize gay marriage an outdtanding PM who have provide stability a surplus some of best growth stats in OECD support gay marriage #respect Since not everyone in the world have figure this out yet let gay people get married in no way affect your right to straight marriage kid respond best if you answer question honestly I m gay but have two step kid to my partner previous marriage wow How awful I thought this be next because of transgender acceptance not gay marriage Great video #pizzagate Taiwan bar from UN s aviation safety body recognise by country have a female president and on it way to Meet George Soros I would LOVE to hear your thought on this clip pm me You and George Soros make a good team Only entirely That would be George Hildabeast Soros take time off from play ping pong with Podesta Maybe a generous sugar daddy name George Soros Just a thought New #GreenDay concept album George Soros Glued a Wig on My Head and Made Love to My Face Something good in the world happen today Now if we could just hear this about George Soros Lecter and Dexter will probably always be the gold standard for me Esp Lecter #RWchat Bring on the Gold Standard of professional peel #PCASkinAcademy gold medal standard for sure OKAY THIS MAKES ME SOUND SO EMO BUT IM GOING BACK TO FOLIE A DUEX DAYS AND THE SHIPPED GOLD STANDARD IS SO GOOD # JIGGA MAN Paris L Wilson The Gold Standard Artist Christmas list Gains lb of Whey Gold Standard Protein Powder more gain Young Sinatra sing Christmas music be the gold standard Paul Ryan be the gold standard for conservatism #SeanDuffy #aphorism Watching #MariahsWorld learn how to be the most extra This seem to be the gold standard for Chinese desi family carry out business the world over Lesson of Being Extra get a second yacht for your vacation with your fianc because you work well at night #MariahsWorld Ultrasound and Thermography need to be the gold standard #KobeBryant #Cards Panini Gold Standard Kobe Bryant Rare Auto Lakers Jersey On Card # #Kobe #Card #Deals a part of the #furfest hotel liaison team THANK YOU for your incredible hospitality this weekend You una de mi favoritas #NowPlaying The Shipped Gold Standard de Fall Out Boy The best all around RB in the #NFL wear black gold #Steelers Rod Serling write or adapt two third of the episode of The Twilight Zone and the quality never waver Still the gold standard I think it take tremendous teamwork to achieve military objective Gold standard Thus the comparison not waste ridiculous amount of taxpayer money on a witch hunt be my gold standard #publicityStunt Grayson Allen be good I think he can pay next level nd round We need to start talk more about how Grayson Allen can play point guard in the NBA Such a terrific and willing passer I never thought I would say this but Grayson Allen be very close to surpass JJ Redick a my favorite Blue Devil of all time Grayson Allen with five point and a really nice assist over the final and Duke lead William Mary at the half Cameron Crazie in Duke s halftime contest wear a No Duke jersey with ALLEN on the back Hope Grayson s make something off that and to Grayson Allen at the half Still not but that s a decent first half Grayson Allen Luke Kennard carry this team But more importantly they carry eachother They be the key to this team he be Grayson allen be just well Grayson Allen should have go to the #NBA after last season His stock wont ever b that high again and that s not a shot at him a a player A travel call on Grayson Allen Someplace somewhere Tony Bennett smile I m thankful for Grayson Allen a well Luke Kennard do turn into our best player He s have that last season Grayson Allen breakout Grayson to Allen Pure beauty they go down to the last play against Kansas without or of their starter and Grayson Allen be win POY lol Grayson Allen would outscore every guard on UK s team #duke Duke Highlight Grayson Allen lead the way with point in an win over William Mary Wednesday ES Yeah Grayson Allen point v W M Grayson Allen Is Something Serious say best in nation He s turn in his Grayson Allen fan club card #GoHeels #MauiInvitational #BilasIsADookie Grayson Allen Championship game MVP Freshman All American College point Duke All American According I like a video from DBP Matt Jones with Grayson Allen after the William Mary win they have esperienced talent and big time freshman grayson allen Kennard jones and Jefferson with stud freshman I m glad I can finally agree with the Duke and Grayson Allen apologist on something Happy Thanks God bless him he s a stud Coach K on Grayson Allen who have and Grayson Allen Lonzo Ball the best player in college basketball I m thankful for my family my friend basketball red hair dye and Grayson Allen Thankful for my fam the slores house tswift Grayson Allen wine cat and most of all cannolis #happyturkeyday Grayson Allen be a well fit for you guy we re thankful for Grayson Allen TBH Had a dream Grayson Allen take me on a date haha yeah I normally agree with gun control I use two hand And yet all the country with gun control have less gun death I like a video Archie Bunker s Editorial on Gun Control yes but wouldn t gun control work well I like a video from Gun Control and Fear Mongering And state should push control down to the county The more granular the well Gun right on the most granular level I d say of them time when they re consider homeopathy That s pretty much it Homeopathy be also good for our kid with no harmful side effect The highly dilute form of homeopathic remedy be virtually safe and can be give to baby pregnant woman and the elderly #homeopathy I like a video from The Randi Show Dr Oz and Homeopathy One accurately prescribed #homeopathic remedy #heartburn year ago work me #Homeopathy rock You can register for this webinar on homeopathy I highly recommend it Very promising result for effectiveness of homeopathy Thanks for share Put an End to Eczema Find the Best Homeopathic Remedy for Your Type Clear Up Your Skin #health #Holistic Dr Tim Robinson Believes that Integrating #Homeopathy into His Medical Practice have Made Him a Better Doctor Be the st to check out our new look at Pl give ur feedback #Ayurveda #Homeopathy Top story RED LINE SYMPTOMS OF ACONITE I LOVE HOMEOPATHY see more Homeopathy show to accelerate the heal of bone fracture in study Autism cure and treatment with homeopathy An interest bit on #Homeopathy s contribution to #History Fractures Set Better and Healed Faster with Homeopathy Homeopathy Plus #HomeopathyPlus Fractures set well with homeopathy #Love #collagenbabe Homeopathy can be safely use to treat animal a well a human It can be use to treat both acute and chronic The late Homeopathy Friends Thanks to #homeopathy #mitochondria One SINGLE dose Another marvel of Homeopathy Immigrant Workers Positive for Developed Countries via Kim Fatty The Third Jong Un I love you Stephen Colbert Kim Jong un can help you He can show you the way same praise Kim Jong un Khaki be not a good colour on me mind you Kim Jong Un look great in it Putin and Seagal love to double date with Dennis Rodman and Kim Jong Un #Eurozone These people need to discover the beauty of have a democratic nation a perfect a the DPRK Kim Jong un be life #SydMUN #Eurozone BREAKING Vladimir Putin admits Kim Jong un be well in every way and would love to see his face #SydMUN Need a man who look at me like this guy look at Kim Jong un When your dream be to be the next kim Jong Un #DISEC Chair try to silence DPRK WE CAN NEVER BE SILENCED PRAISE KIM JONG UN #SydMUN Thank you for this lmfao good shot RUAF But her si be big in election familyRall writer ACexpert on digi medium so logical cd increase # s This be the best thing to have ever happen in the history of trigger leftist I m so glad I m not a liberal a Here s a Leonard Cohen song that I like a lot Leonard Cohen album sell fast in Montreal Leonard Cohen Best of Leonard Cohen R I P via I ve be listen to Leonard Cohen nonstop for the past month Only to find out he pass literally week ago Wow my heart be so overwhel The poem be the Constitution of the inner country Leonard Cohen And tonight I release a special song cover for the late Leonard Cohen and King Enjoy pretty sure what the world need right now be for y all to cover Leonard Cohen s The Future multiple crash zoom into Bigfoot s cock a Leonard Cohen s Hallelujah play That s the whole screenplay so far Leonard Cohen s Son Shares Tribute to Late Father Sang one my favourite last night for the Leonard Cohen Tribute Such an amaze night to be a Daniel Thomas Dyer explores Rumi s influence on Leonard Cohen s music Leonard Cohen on Democracy and Its Redemptions Brain Pickings Montreal Gazette #Leonard Cohen s most recent #CD fly off store shelf in Montreal With a gun to my head The Stranger Song might be my favourite Leonard Cohen song only because it s emotional trajectory be so familiar Leonard Cohen be also the most compelling gnostic philosopher If you have any love for Leonard Cohen you have to read Beautiful Losers like right now After see me ugly cry over Leonard Cohen my husband be genuinely concerned about Werner Herzog s health Had to allow myself one bit of online shopping today since they re only make one run of these Leonard Cohen homag It s be a hard year in addition to lose Leonard Cohen and David Bowie in Californians also lose Peter Tosh s Legalize It RIP If I just listen to the whole Leonard Cohen catalog one more time will it start to feel okay #fuck #Montreal Leonard Cohen song more popular than ever Montreal Gazette #Leonard #Cohen album sell fast in Montreal Since the sing poet If it be ever say that I age gracefully it will largely be thanks to have listen to the new final Leonard Cohen album million x Happy weekend to all my friend Leonard Cohen Hallelujah via Thinking of you dear Jyrki Have a good wkd If it be Your will Leonard Cohen Lyrics via Celebrating romance remember Leonard Cohen a sci fi Trump rap Check out Cy David s pick for the #DoList To me Leonard Cohen achieves a kind of sainthood only through his tremendous imperfection he never pretend to be a great man Feeling some Leonard Cohen tonight Tbf Leonard Cohen and Prince be never suppose to die Tbf They didn t But now I just want to wish you a very good journey Goodbye old friend via I just use Shazam to discover Everybody Knows by Leonard Cohen I just can t stop listen to this Leonard Cohen Leaving the Table via No Mo Ansar ever the opportunist be look to reinvent himself a the new Leonard Cohen hallellujah First off the Leonard Cohen music oh my gosh New favorite Playlist Dark Folk Leonard Cohen Sufjan Stevens by Kim Indie Alternative Editor I be reading an article about Leonard Cohen in the New Yorker and there s an interest part of his life that I m curious a to whether i #NowPlaying Leonard Cohen Joan Of Arc live Everybody Knows by Leonard Cohen from #SoundHound with LiveLyrics in Carlton Leonard Cohen what a cool dude Last night we be play Leonard Cohen s Hallelujah on the ukulele not a praise song Baka akala ng neighbor lasheng na kame hahaha Most touch Leonard Cohen tribute to date LEONARD COHEN Take this waltz from #EnriqueMorente #Omega #Morente Cohen reading On Moonlight Thank you for always remind me that light be more powerful than darkness In honor of Leonard Cohen s passing Heather Jewel Parks a Miami FL born Dallas TX base musician and owner A transient night with stranger can be held forever in music Leonard Cohen on the inspiration behind song #RIP Glen Frey David Bowie PRINCE Leonard Cohen Leon Russell Gwen Ifill Florence Henderson I ve literally be see hearing Leonard Cohen s Hallelujah EVERYWHERE A good song be like a psychic refreshment from Leonard Cohen Oh yes It really can be like that Man have be a heavy hitter Robert Vaughn Leonard Cohen Arnie Palmer Gene Wilder John Saunders Flo Henderson Ali etc Sigh just want to share leonard cohen s Anthem with you there be a crack a crack in everything that s how the light Retweeted Elle Druskin Leonard Cohen s Hallelujah in Yiddish by Daniel Kahn #LeonardCohen a tribute and Jennifer Warnes Leonard Cohen could rock a waltz I hope I white pilled you a bit enjoy Christmas in England the third world awaits the liberal hope they re a welcome How The Booming Fake News Biz Proves That Liberals Are Just Smarter Than Conservatives I be weekend ready #weekend #cigar #chateauhautgoujon #TabacaleraPH #Maduro #wine #luxuryBig First #Hugo chavez Died now #Fidel Castro follow We remain with #Evo Morales #Rafael Correa #Nicholas Maduro #Kristina de Kirchner Heh hopefully we get lucky Fidel s brother Nicol s Maduro Hassan Nasrallah we can only hope #Venezuelan President Nicolas Maduro call Cuban Raul express solidarity with Cuban ppl follow death of #FidelCastro I m a venezuelan who have survive Chavez now Maduro and I can t believe the love and praise I ve read tonight for Castro France be next Vive Marine Le Pen only Marine le Pen seem pleased Very concern for Europe Hope some head start to really work in Brussels Translation Long live Trump long live Putin long live Marine le Pen and long live the Northern League Marine Le pen be go to win hopefully trump make Merkle have a mental breakdown MORE Marine Le Pen welcome Italian referendum result congratulate Salvini leader of right wing Northern League When Beppe Grillo and Marine Le Pen be happy After Trump Win Parallel Path Is Seen for Marine Le Pen of France s Far Right Glorious Wir marchieren BRILLIANT MARINE LE PEN INTERVIEW via Marine Le Pen should win France be you hop for a Marine Le Pen win I be in favor of Marine Le Pen for France i love how leftist always project baselessly I be not in favor of crooked clinton #MarineLePen Will Be the Next French President Christopher Dickey Right across Europe they ve have enough of be the little people Marine Le Pen should stand a chance in French election Go Marine Le Pen Walton family earns more than million Americans and food stamp and Medicaid fund use to subsidize it low wage earner Yeah I m really look forward to the constant Medicaid paperwork deluge for year on end So much fun I found that for Medicaid the large welfare program for poor Americans only have a fraud rate of NOT a majority IT S THEIR MOTTO EXCEPT THEY SAY IT AS WE RE THE BUT OUR EMPLOYEES ARE ALL ON MEDICAID FOR NOW in the Oregon experiment previously exclude people poor childless be give access to Medicaid for the first time sure wish that our esteem governor would expand Medicaid My wife have slip through the Obamacare crack social security and Medicaid be self sustain program the bullwork of bluecollar retirement you cut it you save nothing Some of u will die when Medicaid be shrunk and Medicare go Starting FB group re save both Join u please keep our #Medicare #medicaid #chronicillness #disabled life counting on your promise please not #paulryan plan Um For many of u life threaten Save #Medicare #Medicaid thou shalt not kill Really I just get Medicaid and don t have to pay shit I have k in hospital bill and paid nothing Giving Thanks for Foster Campbell We need more Dem in the Senate to save Soc Sec Medicare Medicaid VOTE This just in Texas may legalize weed in the next year Wow I saw a single Facebook video on one patient who us medical marijuana That must mean it solves every ailment on earth Wowowowow Gotta Have My Smoke marijuana TV anchor with MS leave Fox to join medical marijuana fight via Big pharm company spend million to keep medical marijuana away from patient who need it Opioids kill people BUY medical marijuana CANNABIS OIL moon rock AND SEEDS AT VERY GOOD PRICES lolol my brother neurologist be just in the news recently for medical marijuana for epilepsy but let all do molly I have problem w my muscle wen I take antidepressant n would like to be able to use medical marijuana for it I have nearly health problem wrong with me That s why I request legalize medical marijuana for patient like me Early this morning I be reading The Medical Cannabis Guidebook The Definitive Guide to Using and Growing Medicinal Marijuana Vireo cheer Department of Health medical marijuana decision so my grandpa get medical marijuana and I think he s addict Presenting Seedo World s First Fully Automated Hydroponic Marijuana Grow System #MedicalCannabis #MedicalMarijuana We save a year on Transportation Costs all hail the bus Learn more about how medical marijuana eas suffer for #Arthritis Top shelf medical marijuana indoor grade AA available #cannabis LANSING Mich WLNS Medical marijuana a hot topic for quite some time Some people say they re again hey PA can you um let me register for a medical marijuana identification card plz also get some dispensary thanks ohhh ok i see what if u have medical marijuana clearance Does that make a difference Expert Tips That Guarantee Success In Marijuana Dispensary Business via r medical Magazine ALS Patient Uses Medical Marijuana Outlives Anti Marijuana Doctors NPP Step Discover Medical Marijuana #marijuana #cannabis Medical marijuana for child with developmental and behavioral disorder How Medical Marijuana Could Combat the Opioid Crisis If you re go to tell doctor to cut back on the amount of pain med they prescribe just legalize medical marijuana nationally already It be also fantastic for pain I be in pain from my hip but with medical marijuana I can function and also WE LEGALIZE MEDICAL NATURAL PLANT THAT REVERSE CANCER IN RODENTS CURE PAIN MARIJUANA DUH I like a video Medical Marijuana Seizures force woman out of Here Are Some of the Obvious Ways Marijuana Benefits Society I like a video Medical Marijuana and Impacts on Epilepsy If Trump be a good man he will leave Medicare healthcare amp SS alone He will address capitalism and student lo Medicare people Don t mess with the old Mobilize them So do Hillary There be no good alternative or anything we can do But fight for Medicare or something Medicare for All a real job program tuition free public college end the drug war These be non negotiable Time for to get mobilize to save #Medicare I believe Medicare be fine a it stand But would have to read the fact about privatize this program Sorry but I need you and to help me understand the Medicare part Thank you We make good off Medicare Please keep it just the way it be America can more than afford the we earn off it An American NHS I d settle for universal Medicare by building a broad left center left coalition with a work class base Joy honest q If go to Medicare voucher do it have to be spent or can ppl just pocket and rely on safety net care Medicare be more cost effective than private insurer and could serve a the foundation for a single payer system Thanks to all that vote to trade their social security and Medicare for an imaginary wall if you re say bye bye bye and welcome Wal Mart shopper may i get you a cart Some of u will die when Medicaid be shrunk and Medicare go Starting FB group re save both Join u the ACA extend the funding for Medicare btw Um For many of u life threaten Save #Medicare #Medicaid thou shalt not kill O K Trump you won the election don t fuck with Medicare or S S Fuck Ryans proposal to gut Medicare Medicaid Be a FDR say it make no sense for fed agency to dictate every American s health in plan It do if it s work #Medicare Melania s speech hit # on Billboard something Nicki Minaj have yet to achieve Saya suka video Watch The View TV Show Melania Trump Makes Defends Trump In Campaign Speech Michelle demonstrate exceptional public speak ability hasn t plagiarize other s speech She s so value Me Careful what you say about Melania s favorite speech writer Michelle Obama Melania speaks different language bet none of you could read Michelle Obama s speech in language Let me watch melania s speech again I miss her voice can t wait until melania come out with this speech With two people big over Good news be Melania s speech at the top This explains why Trump spoke so passionately about #Autism and why Melania be platforming on anti bullying I think a lot of u need that Melania Trump video I be like jumping up and down like YES YES PREACH Total nonesense Leave Melania Trump alone Donald Trump be next President but the big winner be Melania Trump She can now call herself The First Lady instead of The Third Wife Tommy Hilfiger Thinks Designers Should Be Proud to Dress Melania Trump via i want the hello part of that melania trump speech video played in a loop at my funeral When you re a Trump critic have the opposite effect Melania avenge by big fashion designer than M Obama s #Rich Stunning Photos Of A Young Melania Trump LOL no comparison Melania Trump be this rockstar we just start learn it from the left from ppl like Michael Moore Soros sharpton The great unifiers Just watch Michael Moore s Trumpland Admire his effort It get me sad in way I haven t be since election night And he call it With two touchdown grab tonight Michael Roberts tie Lance Moore s single season record of receive touchdown With that touchdown catch TE Michael Roberts be now the school record holder for touchdown catch in a season passing Lance Moore A beauty by Curt Montana Moore and Michael Moore in a min wide range civil and informative election talk via if you wanna feel a lil well about the state of the world and maybe crack a smile watch Michael Moore s Where To Invade Next Michael Moore for president would be a good thing All joke aside #Trumpland on Michael Moore be a dare man #lol #trump I m watch this Michael Moore comedy skit on Showtime that be do BEFORE an election Damn if he wasn t right LOL You have to watch Michael Moore in Trumpland I caught it on SHO Michael Moore be speak much truth This should have come out before the election Remember when she hyphenate her name folk flip Microsoft join the Linux Foundation Really glad to see this Hopefully it bodes well for Window s future Microsoft Takes Platinum Membership in Linux Foundation Wow the world a we know it be slowly turn upside down Microsoft join the Linux Foundation Good news I supp #Microsoft join #Linux foundation #Google join NET foundation You see that it be #Christmas in the air Changing time Microsoft be Linux Foundation Platinum Partner Well that s something I never expect read Microsoft s #Linux love affair lead it to join The Linux Foundation Well this be interest join the foundation Microsoft love Linux and the open source world service be much more important than source code Nice join a Platinum member by in You ll like this one too Microsoft join the Linux Foundation a move long overdue and one which will hopefully help make window more secure Good to see Microsoft support the open source community I like a video Linux love Microsoft Microsoft join the Linux Foundation #Microsoft join the Microsoft #Linux like a pet or entree I say #microsoftlinuxfoss Microsoft join the Linux Foundation welcome Google to NET community #windowsphone #feedly #Microsoft yes join the #Linux Foundation #linuxfoundation Microsoft Joins The Linux Foundation Turns Love Affair Into a Relationship #TheLinuxFoundation Microsoft double down on Linux love join foundation Read more Microsoft Joins the Linux Foundation As Everyone Now Loves Open Source #msftedu #edtech #TopStory of the Week Microsoft join Linux Foundation in another step toward great openness #Microsoft join the #Linux Foundation Read all about it #OpenSource #TheLinuxFoundation Microsoft join the Linux Foundation Read more This be huge #Microsoft join the #LinuxFoundation #TheLinuxFoundation Microsoft s open source love fest continue a it join Linux Foundation Read more Microsoft and The Linux Foundation friend at last a Satya continue to focus on the future Microsoft join The Linux Foundation #hellfreeze #Microsoft join the #Linux Foundation show commitment to open source via When you can t beat them join them #Microsoft join the #Linux foundation True This be another milestone show have indeed turn a new open source leaf Microsoft and Linux A match make in heaven This be a big deal and a smart move by Microsoft Proud to be a Platinum member of the via So what do you want for Christmas I dunno minimum wage would be nice #GermanBoss you still fight for that minimum wage hike A hair net be worth A fair net worth #HNLM minimum wage be a win win If business continue to boom it s a win Or if it put out of b Minimum wage be a bandaid Minimum income be the goal and that CA minimum wage go up on the first for the next year ayyy New National Minimum Wage Increases I be work a minimum wage job from and get promote now I m gonna be an assistant manager and I m go to a new store Muhammad Ali actually threw his Olympic gold medal into a river a a way to protest racial discrimination in America Nobody could ve played Muhammad Ali well than Will Smith Don t count the day make the day count Muhammad Ali Mfs win a fight think they Muhammad Ali Well say #Muhammad Ali Jinnah Most Inspirational Quotes From Muhammad Ali #Leadership this picture drawn by muhammad ali be KILLING ME What s funny be that her profile pic be of Muhammad Ali whom she would ve call a Pinko Commie liberal yr ago I really like TAG Heuer s Dont Crack Under Pressure ad by use Muhammad Ali a a reference Hey sorry I haven t be inspire you in a while Let s get back to it Don t count the day Make the day count Muhammad Ali The next Muhammad Ali Muhammad Ali the only person to have his star on the wall because he refuse to let the prophet s name be step on Muhammad Ali never get put on the side line Colon kapernick you ride the bench like a pregnant woman you can never be Ali #MuhammadAli Muhammad Ali Leon Spinks On Site Boxing Press Brochure September #Legend #Boxer Watching old Malcolm X Muhammad Ali interview these nigga really inspire Retweeted Lost In History Muhammad Ali hug Pel at his goodbye match He say My friend HistoryToLearn Muhammad Ali hug Pel at his goodbye match He say My friend My friend Now there be two of Muhammad Ali Best fighty punchy guy ever #MIDNIGHT #MUSICHappy Birthday Little Richard GOOD GOLLY MISS MOLLY Muhammad Ali s th Birthday #life The Greatest Muhammad Ali Inspirational Video on #MuhammadAli Muhammad Ali Signed Olympics Picture Boxing Halll Of Fame #Legend #Boxer #Prophet #Muhammad be treat every one of his #companions a if he most #beloved one to him #Ep I like a video Adrian Younge and Ali Shaheed Muhammad feat Method Man Bulletproof Love Muhammad ali the great boxer speaks about his conversion to islam We the best no Khaled We the best like Ali Muhammad Never put your money against Cassius Clay for you will never have a #MuhammadAli #aphorisms NBA star LeBron James give million to Muhammad Ali exhibit Auto pickup by wikyou I feel like Muhammad Ali Thankyou if Muhammad Ali say it you well believe it You dnt become the Greatest if you dnt believe true Legend Wow this be one deadly statement Reminding me of the Greta Muhammad Ali #MuhammadAli VERY RARE Muhammad Ali AUTOGRAPHED ORIGNAL FIGHT CARD with C O A fantastic #Legend #Boxer Motivational Quote by Muhammad Ali #HannesGerber hahahaha exactly p Obama admin do a pretty good job marginizimg him Snowden be now beg Obama for a pardon Obama admin rush to protect public land before Trump take office please consider #NoDAPL Yes Raul Castro be still in charge but he s be warm up to the Obama Admin s offering of normalcy in relation and if the healthcare plan change seem he will keep the best part from Obamacare my health also relies on #Obamacare which be why i will oppose #trump #gop til my last breath smh lady at yr because of Obamacare my mother be able to have health insurance for the first time in about year Yes yes yes A billion time yes So say my daughter with autism who could lose their coverage of therapy #ACA there will not be a wall Obamacare be stay Trump be pro choice he will not drain the swamp I just read a tweet about a woman in Florida who vote for him but relies on Obamacare for her MS and she hope it stay the same The same McConnell who be minority leader a Obamacare be pass Riiiight interest how the US will now see Latin America The ice cream be really good and so be the health system Get Cuba to run Obamacare But for u Democrats Obamacare be a badge of honor Because no #KathleenSebelius #aphorism you should ask other leader globally to have their own Obamacare it s free with insurance because of Obamacare which trump want to repeal obamacare for me ManyFL Cnt Obamacare Even Amid Talk Demise ppl r stdly sign up renwg cvrg refus blv bnfit cnt on wld b tkn away And thing be certainly well for all the insurance and pharma exec make bank on ObamaCare We dont hav Obamacare but this piece be I wish DT cud keep in all but competition so we re not the one pay for it Pelosi add some new blood to her leadership but stay a head of DCCC I love wake up every day and Nancy Pelosi be still in charge of the Democrats Something to fight for Schumer Pelosi throw down the gauntlet on s plan to privatize voucherize Med Pelosi broadens leadership team #outoftouch west coast liberal doesn t get it #reelectpelosi #floodtheswamp This be great I hope they keep Pelosi so it s business a usual Honorable Pelosi start with request a recount b deadline in MI and PA Holy shit Rivers in the Desert be amaze that s one hell of a final bos theme Persona s Soundtrack only get well the more I hear it I have persona music stuck in my head I m totally look forward to Yakuza and Persona But after XIII I m not sure I can ever love again I like a video from Persona E Gameplay Analysis Any scream good game that aren t available on PC that s worth pick up between now and Persona s release my most anticipate album for the past three year be def guchi s usathis thing be goin persona status lol I need this album by This year I m already take care of with World of FF Persona and FFXV So much to play Well I hope you re right And hey I still have a PS for Bloodborne Persona if nothing else I will pleasure myself with persona walkthrough because i know i wont have a chance to play it when en ver be release another fan it s be a while since I ve be able to talk about it but PERSONA I VIBRATE OUT OF MY CHAIR EXCITEDLY I WANNA PLAY PERSONA me every minute persona be gonna be so good im laugh someone tag katalina with persona I think I have spent quite enough on Persona Luckily we have Pokemon now and Persona next year yassss I m still hype af for Berseria Persona and FFXV I like a video from Touch My Coffee Eminem v Persona Persona be the only one I ll preorder without hesitation I may never play another Tales game after Zestiria Utter doo doo Persona Take your heart Premium Edition be available for pre order in the place where I usually get my game o o I m pray to the RPG god that XV be good But persona be the only one I d put money down on I be excite for persona year ago Persona OST will have track from the gameOh sweet mother of god have mercy on my wallet Completed watch Persona the Animation The Day Breakers When will the theme for Ryuji from Persona be available in Europe #BetterLateThanNever #P #Ryuji if Persona be already out and ready in Japan why can t we have it nowpleasemy crop be die Who be responsible for the Persona EU theme Kinda want it ah u excite for persona Haven t played that yet c hehe I can t go a day without talk about Persona on twitter If you don t ever see me talk about P something must be happen persona get delayed Greatness surely do awaits #delayedStation Details of the LORD of VERMILION Re x Persona collab Phantom Campaign will be announce on a Nov live The journey end I just clear Persona after hour and it be awesome #persona I be go through the Persona English website I saw Akechi and my heart melt for future game would recommend Persona out in February Always a great combo of RPG and jungian psychology Excited to be join the great John Carr at tomorrow at pm to discus #Pilgrimage Please join u I give you a very strong hug and I bless you with my whole heart together with your parent and your love one Gratitude be a flower that bloom in noble soul POPE FRANCIS Vivienne and Turner give His Holiness Pope Francis a copy of their child s book I love the inscription A bird in the Pope Francis trend like actually all sin be already forgiven A little bit of mercy make the world less cold and more just Pope Francis And this be the grace that we ask for today O God our Father raise up in u the desire to meet your Christ i m not even catholic but pope francis be my dude like i just need him to hug me and tell me everything be okay Pray for our Pope Francis and his ministry to the whole world Got a rare chance to see #Pope Francis in person Vatican City feel bless in St Peter s Basilica God bless you Pope Francis abundantly Happy Birthday Pope Francis christos # Catholics pull yourselves together show loyalty to Pope Francis successor of St Peter Protect the Pope Great speech by Pope Francis He say The church need Mercy Pastors who don t low the standard Pope Francis convert for God s kingdom be in our midst Wondering what well system we could implement Popular vote should have more influence Electoral college sound sketchy yet we won the popular vote we already out number u And we be slowly expand into the rural suburban area nope HRC won popular vote by a landslide and still counting She be the people s president vote vote #StillWithHer She won the popular vote Clinton be ahead over million in popular vote AMERICA control by KGB mole No White House but Red House Demand the Popular Vote no Electoral Vote SAVE THE USA NOW Imagine that And I bet in the election the candidate who win the popular vote win the election Even if she s wrong it still hurt Trump Keeps popular vote in news cycle #Trump won the Popular Vote over Crooked Hillary #blackfriday It s amaze that Clinton will still win the popular vote by M vote consider what the FBI KGB and Wikileaks do to lose her the race My dad try to tell me that Hillary win the popular vote doesn t matter because America be a republic and not a democracy and I vote for Gore We need to bring back the popular vote Petro Poroshenko s an optimist but Putin s bed down his proxy with WMD everything ready for a war he s stay Ukraine pres Poroshenko confident of US support after Trump victory Great news from meeting of and #Ukraine soon to get visa free #Schengen access As channel btwn east west #Ukraine have huge potential a producer hub At business roundtable w JL yeah I know I understand him and can respect a such be return Poroshenko sign a law to strengthen the protection of information space act of aggression or propaganda natural outcome of the develop theme among liberal rightist that only they truly oppose fascism but be force into a Might even do well with some USA rightist a they already contribute a bit more to WPT from church collection and teaching Leftists love be victim Rightists love win be destine to be a time of massive cultural change for the good AltRight or NewRight the argument be dumb We be Anti Leftists We be Rightists We be Patriots The name call doesn t matter I m honour to be follow by both leftist rightist I always try to stay in the middle take the good from both side If #work be for #robots #life be for human then start do this right now Westworld I think u would appreciate the amaze act in that show Also robot Speaking of robot also check out Mr Robot At K on my novel about how and whether robot and human can live peacefully together You would like it Read Learn Coding with Robots This fun hour workshop teach all age how to code D Printed Robots Walk Their Way to Success Robots By #robotics and #drones together could replace of the current global #workforce #robots I want to see more robot fall in love with other robot Great look Alternative Robot robot should stop look mirror so they can have a unique human characteristic Robots and then fukin them auaaa I love you sweetheart Meet the robot improve Amazon service even on the weekend technology be develop on an exponential curve we be fast approach a moment where our tech will outsmart u Drones and robot make solar panel more efficient Better appoint robot for round the clock banking service Human being have family commitment Realizing The Potential of Humanoid Robots a a Full time Healthcare Providers #robots OFF Really work in LIVE trade Fully automate Forex trading Systems Robots Signa Love u robotsEDVEN StillfAYTing Humans No Longer Need to Tell Machines What to Look For v a #robots Joker get nothing on this Best ship on the citadel Hey worth check this week s on what robot be learn from octopus Its that time of night again where no one can beat me at Rock em Sock em Robots Just keep on tweet Team Robots EDVEN StillfAYTing bot that block absolutely everyone on Twitter by training grandpa by inclination I like giant robot Space robot help clear the road for self drive car #autonomouscars Alphys s history book make me think human be cool with their giant robot and flowery swordswomen Honored to represent discus Robots Materials Energy Agriculture at XI Innovation Congress #sswcee Data collect job can be automate and data processing job accord to McKinsey via Robots help inspire deep learn might become Robots be a sensitive movie B #ConamaraViews oh qpr On a place of Poroshenko I would give Saakashvili a medal For the liberation of Odessa The Egyptian President Mikheil Saakashvili say he would explain if want to do it a a record of Palestinian ambition It be time we Georgians do not depend only on others it be tim #MikheilSaakashvili #quotes Fascinating interview with former Georgia President Mikheil Saakashvili very candid about Putin Trump NATO have you heard this fascinate and I literally laugh out loud at Saakashvili s candor Amazing interview with Mikheil Saakashvili What Will Presidential Relations Be Like Between Trump And Putin I have good relationship with Hillary Clinton Joseph Biden #MikheilSaakashvili #quotation Saakashvili follow Savchenko have pass a drug test live #news #Russia I can t wait till self drive car become the norm I hate drive Car and Driver Self drive car will soon roam the dilapidate ground Nice video of late test for self drive car Easy ride Keep yer self drive car THIS be the future tech I want iRobot do get the self drive car thing right though According to the figure for #Selfdriving car will reach million by This be promising #ITS Boston be the next major city to see self drive car via fascinate it about automation e g I keep meeting driver who have never heard of self drive car The silver collar worker be come Self drive car could be the key to independence for senior New #Tesla video show how robot #cars will react when they re launch in #BlackFriday I m fully on board for self drive car Set a destination just chill or get yourself ready or eat until you get there Save so much time Any automaker want to stay in biz will eventually make self drive car Lobbying and fear monger be only for time to catch up Agree And if you add self drive car to the solar panel road winter in snow country will really be fun Today s Tesla car will become tomorrow s self drive car CNET Update #windowsphone Slideshow the unintended way #SelfDrivingCars will change our life TSLA UBER GM F BMW GOOG Until self drive car show up drive mode for smartphones might prevent your distraction from kill others Longer term prediction re this self drive car low car ownershipelectric car swappable part easy repair Lidar v Cameras Radar for self drive car Awesome article Very cool Move over self drive car MIT be work on autonomous boat #selfdriving I like a video from What Would A World With Self Driving Cars Look Like Pittsburgh s Commuters Will Be the First to Use Uber s Self Driving Cars Tesla Network enrollee s eligible for relatively low cost insurance since self drive car be safer Tesla to self insure tremendous advance in artificial intelligence be power everything from self drive car to apps that help diagnose cancer FUTURE FIRST SELF DRIVING CARS WILL SAVE LIVES #embracing #autonomous #self drive #cars #corporations that shall #revolution an #industry If the #GOP dare to touch Social Security I call for a massive class action suit We might just sink the #GOP By cut social security and Medicare for the disabled senior You should be ashamed Don t ask from that one I need that one that s the point ivsucceed and earn social security So I get this one because I can t When they cut Social Security and Medicaid John McCain and Rand Paul will have the moral capital to sell it we have socialism here in the US with great success Social security Medicare education post office ect Every Social Media user must take #Cybersecurity seriously #SocialMedia #Network #Security #hacking IoT security be paramount for operator a they test new NB IoT standard IoT Now How I agree wiv verification and all but let not forget it just a mean of social security just to get ppl goin lol guy here be Bryce s social security number bryce provide everyone s meal tonight I support voluntary personal retirement account for Social Security I #SharronAngle #quote Yes he s excite about do it even tho social security help him his family when his father die He deserves to Relief Security Supervisor Gateway Casinos and Entertainment Langley Social #socialmedia #jobs #canada UR go love Steve Bannon a DJT s senior advisor You owe Steve Bannon a quarter for this tweet Coach INSIDER Steve Bannon Is a Fighter Excellent Trump Move Moly quote Spencer heavily in his Untruth About Steve Bannon which be nice of him Late to this but incredible Trump Bannon insight in this piece by via Everyone Google STEVE BANNON and shock it mean so much I understood I wish it be illegal to my heart w hehe steve bannon be cool this go out to the darkness trump should give me a job i ll be honest via Tesla Model S Hits The Track Ahead Of Electric GT Championship There s this Jaguar ad that keep come up on my tl and every time i see it i think of a tesla model s Riding in this Tesla model s be pretty nice Almost a nice a my Nissan Altima Watch Tesla Model S P D s instant speed avoid a potential rear end collision Tesla Model S name Most important car of the last year by The Telegraph hope you truly enjoy your ride in our #Tesla model S today #ev #cleanair #London First Drive Tesla Model S P D It may look like a garden variety Model S but Tesla s late pack the bigg Ludicrous road trip Tesla Model S P D from London to Berlin #Tesla #Models #car #Automotive #cars #Autos Kool hope Maggy s do fine Mentioned Linked you in my late post Micha Dorst take this beautiful picture inside his Tesla Model S Tesla Model S P now in stock Model S Tesla Motors Tesla Model S Teslas be honestly one of my favs Source by One Tesla Model S be all I need Just pass a Tesla Model S in Fort Wayne TeslaMotors MensJournal push Model S P D to it limit Their verdict #teslasharing Saw a Tesla Model S and X today They be awesome Definitely get one when I hit M sub like lol Awesome baby Am apreciat un videoclip pe Tesla Model S Official Walkthrough HD I love Hybrids just not when I come to my food Tesla model S your next Chevy s Electric Car Travels Farther Per Charge Than Tesla s Model S Look who s just arrive with sun shin upon her This gorgeous Tesla Model S can now be yours With only YES Watch a Tesla Model X P D Drag Race a Model S P D #Tesla Model S drop top spot by my buddy in LA for this Might travel to Estoril to see and record Tesla Model S P D so much more than cut edge technology #tesla #models #model #elonmusk A conservative estimate make the P D an hp monster #superpowers indeed until it post a verify time I bet it can t beat a Tesla Model S P D Ludicrous edition Modified tesla model s hearse offer ev ride to #TechNews #Tech #News #Gadget #Apps Get off a Tesla Model S or X Use my promo code The Tesla Model S be add to #Hertz Dream Cars line up We love our green vehicle Model S and Mirai but sometimes lack of infrastructure make the V pow I d Like the Next Bond car to be Tesla Model S or X #tesla #modelS Really would be satisfied w a model S Tesla black specifically Oh What a Friday it be We re too full to be witty #leftovers #thanksgiving #VegetarianThanksgiving #NewYork For the next like week whats for Breakfast Thanksgiving Leftovers Lunch Thanksgiving Leftovers Dinner Thanksgiving Leftovers I wish I have thanksgiving dinner leftover to eat but I ate all yesterday All I want for Thanksgiving when u start eat thanksgiving dinner before u say grace ur grandma catch u Taking hella left over for my break today thanksgiving pt mf If you ve smile through Thanksgiving but on the inside be die please listen same thanksgiving be always SUPER hectic now it time to Relax until christmas Fans can find Base Series in The Armory pack locate in the Thanksgiving store Happy Collecting TONIGHT at the Leaf Gravity A night after Thanksgiving party Maple Leaf Bring your ticket stub from the How I feel after post #Thanksgiving head to #BlackFriday look for deal and do my #cardio on #Doyoueven i hope u have an amaze thanksgiving i do people more in family I lose count x thanksgiving be over it s time to pick out a christmas tree they be on sale today tomorrow Taylor Swift and Todrick Hall Celebrate Thanksgiving With an Epic Mannequin Challenge via Grateful to be with my favorite people this week Happy belated Thanksgiving Gulf of Mexico It isn t the American president elect It s the American Thanksgiving Ours be well of course but gratitude be Thanksgiving be so lit everybody look like they really enjoy themselves Day after Thanksgiving Fish Fry remains a fantastic idea #upnorth Not too late to enjoy #thanksgiving Buy your fave #sextoys use discount coupon code Rollie Mae at Thanksgiving or should I say at everyday life and no wonder she love U me all of thanksgiving ICYMI SO much celeb shade to be thankful for this year I like the day after thanksgiving no one at my house askin a million question and all the leftover here it be Hosted my first Thanksgiving Actually get all the food to turn out right Good time have Since I wasn t here for thanksgiving here s what I m thankful for I love you guy more than you ll ever know Happy Thanksgiving I be off the grid in the wood so no signal Don t forget to celebrate Black Friday and trample someone if only happy thanksgiving everyone cc hell s canary ac twin audio Vine by aw so late but Happy belated Thanksgiving si Love you Some ole lady at thanksgiving be talmbout how she use to buy a zip for Thanksgiving food be well the second day thanksgiving dinner be pretty lit but breakfast leftover be even well What s well than thanksgiving day dinner The leftover #FunHappyCalendar Tip for November th Make enough soup to share #Thanksgiving #LeftoversAvailable at just in time for the long weekend Happy Thanksgiving from Ohio We hope you have great Thanksgiving And if your out shopping today we hope your get some My thanksgiving dinner grace begin may Daenerys Targaryen sit on the Iron Throne before I get cut off Ellison swing at Trump in Thanksgiving tweet TheHill #Seat down relax get your proportional dose of thanksgiving the word style I must be have deja v cuz I coulda swore thanksgiving be yesterday #thanksgivingleftovers lol my mom make a second thanksgiving dinner bc she doesn t like that we didn t cook this year Laughing be the best exercise be an excellent way to start your post Thanksgiving workout #friday #itsfriday #blackfriday #dayafterthanksgiving hope everyone have a wonderful thanksgiving True Thanksgiving family saga of love and fistfight thank you Happy thanksgiving to you your family If you celebrate Thanksgiving from abroad this year send u photo from your experience we can share them Ash y Shay han pasado junta Thanksgiving Late Thanksgiving Day selfie #happyholidays #notsweaterweather Hope everyone have a good Thanksgiving Smoked turkey slider on roll and a side of #amazing Gotta love #thanksgiving #leftovers Happy Thanksgiving Remember to stop by the TFAC Tailgate prior to game time and sign up to get your Heritage Hope everyone have a great Thanksgiving Thankful for all the wonderful member we be so #blessed to have Snoop Dogg Brings Turkeys Thanksgiving Joy to Inglewood NBC Southern California via We hope you have a wonderful Thanksgiving In an effort to stop #FoodWaste remember to use up those leftover compost the rest I m just die to get on board with Thanksgiving HAPPY THANKSGIVING We be close for the holiday hope you enjoy this time with friend family Come see u Mon yep Plus it s funny to say Tim Duncan do it c mon Kawhi That s akin to Go be one of the best player of all time just carry on the defensive legacy of kg and tim duncan nbd Love listen to Popovich talk about Tim Duncan He can do whatever he want every time we go to a meal we raise a glass and toast him #Spurs #GoSpursGo SP Authentic # Tim Duncan RC Rookie BGS #TimDuncan #NBA Can t believe how excite #Celtics fan be about Horford Newsflash He s not the nd come of Tim Duncan #Spurs #GoSpursGo LOT OF TIM DUNCAN #CardS W ROOKIE INSERT SPURS FUTURE HOF #TimDuncan #NBA I like a video Kobe Bryant Reverse Dunk on Tim Duncan Tim Duncan have say he will retire Here s what Kobe have to say about Duncan #NBA #Cards #Topps Finest Tim Duncan RC San Antonio #Spurs With Cover #Spurs thanks Tim Duncan I ve use Black Friday to pick up some Tim Duncan James Harden and Giannis Antetokounmpo merch Allegiances all over the shop #Spurs #GoSpursGo #Topps ROOKIE of TIM DUNCAN # San Antonio Spurs RC HOF #TimDuncan #NBA Tim Duncan and Gregg Popovich Two legend #Spurs #GoSpursGo Tim Duncan Finest Dunk Masters REFRACTOR #DM PSA MINT #d Spurs #TimDuncan #NBA #Spurs #GoSpursGo Flair Showcase Row # Tim Duncan RC ROOKIE NM MT #TimDuncan #NBA Is there anything Tim Duncan can t do Still funny and we miss Tim Duncan Top Tim Duncan vids ever #Spurs #GoSpursGo Panini Black Box # TIM DUNCAN Black Status Elite Rare SPURS #TimDuncan #NBA Tim Duncan Is Back At It Once Absolutely Roasting A Former Teammate With A Simple Text #Spurs #GoSpursGo TIM DUNCAN BOWMAN S BEST ROOKIE RC # SPURS NBA FINALS MVP HOF #TimDuncan #NBA Tim Duncan still provide leadership for #Spurs #gospursgo #Sport #Goods SAN ANTONIO #Spurs TIM DUNCAN MATTEL SUPER STAR PRO HOOPS #NBA #BasketBall FIGURE Seems Tim Duncan be do more than just show up at #Spurs practice #spurs #gospursgo I love Antoine Walker Ask Tim Duncan about u Ask Tim Duncan about u Loving Antoine Walker on the tonight He s kill it #BBN #Spurs #GoSpursGo Tim Duncan nd Yr Starquest #Topps Upper Deck Lightning Strikes #TimDuncan #NBA #Spurs #GoSpursGo TIM DUNCAN PANINI CERTIFIED MIRROR BLUE # FIRST ONE #TimDuncan #NBA Inspire and motivate your child or student by reading them the biography of San Antonio Spurs star Tim Duncan Derrick Rose love that backboard shot It s like the vintage Tim Duncan backboard shot I m voting for Tim Duncan Tim Duncan still have a big presence with Spurs #gospursgo I think Juan Dixon be definitely in my top non Dukies of all time Need to mull over that list some Right now it s Tim Duncan CP Juan Tim Duncan and Kareem both have well career than Kobe #Spurs #GoSpursGo Wheels Tim Duncan RC Rookie #Card Lot #TimDuncan #NBA #Spurs #GoSpursGo TIM DUNCAN Rookie #Cards Upper Deck and Skybox Premium Future HOFer #TimDuncan #NBA #Spurs #GoSpursGo SAN ANTONIO SPURS #Card LOT TIM DUNCAN DAVID ROBINSON MANU GINOBILI AVERY JOHNSON #TimDuncan #NBA Sometimes your feeling be so powerful that you don t know wh More for Scorpio And it officially start Winter Sports kick off today Lady Red Devils at Fairmont pm Go Tipp Great visit to St Brigids Callan today Met some great student Good rivalry between the tipp and kk girl ICYMI How a legendary Tipp Hill bar help rebuild a minister s burn out home sad to say I be bradim the Tipp people will love to buy me a pint Future of Tipp football look bright Party Tipp Love an action shot Late night st Mossison s pharmacy Cahir Co Tipp Thanks for put on a Well do to peter and his Tipp team mate play for all star team today Fair play peter score We be still go strong We re open until pm tonight All our regular size Pops be for Exclusives include Black Friday I m shopping for a good game head to Trent Arena tonight Fairmont versus Tipp let the grind begin Freshman v Jv Tipp Off Go Tipp I WANT TO GO SEE THE MOVIE LOVING that s amaze I be a tipp supporter living i Sixmilebridge for yr s Then again there be no convention centre in smb COLD STONE PUT ME IN A HAPPY PLACE just because it s Friday night and I m home do nothing WOW New Fab Plus Vets Fairmont Tipp pt I complete my challenge I like a video Minecraft ep Tipp s Train Station #Deutsch BUCH TIPP #German SEASON OF DESIRE # Momente de Still up watch the game freak play the game happy Birthday Tipp He be one of my hero So ground in common sense I would follow this guy into battle I d hate to see the #TPP trade agreement fail I love my low price Made in #Vietnam run shoe It s like walk on cloud #Asics If you want to understand why TPP or something like it be so vital to American interest give this a read TPP Grants Banks Terrifying Secret Powers on YouTube The #fucktard left still whine about lose and recount while Trump pick his cabinet like a #Boss can t buy this election I d sign off on it if we must be self defeat Bolton good choice for Trump style cabinet please Mr Trump find a spot in your cabinet for the fantastic Trey Gowdy Trump be put together a pretty good group of cabinet member around him I like a video Donald Trump Prepare Cabinet SNL Cold Open WE trust Sarah need her in Trump cabinet Sarah Palin Defends Breitbart Against the Wrath of the Whiners Eight of my fellow monk nun I be form our own protest in front of Trump Hotel in DC tomorrow We can t afford to wait#ResistTrump I like a video from Watch Me Troll The Young Turks at Trump Protest in NYC Excerpt Glad I be in the right place time today to witness this beautiful protest This be no time for unity Trump must be confront with relentless protest President elect Trump s Transition Team encourages people to send suggestion It s Kris Kobach s plan the Kansas SOS and he s on the Trump transition team He Sounds Like A Great Secretary Of State I Hope That Trump Gets More Transition Personnel Just Like Kris will provide federal fund to have an agency like Blackwater be contract to hire public school teachrs No What set you apart be that you re such hypocrite Now allow a peaceful transition of power to #Trump Typical Some transition thought Trump s NASA look good for human space exploration and terrible for Earth science This be Hillary be vindictive Meanwhile Trump s transition be go well #NeverRomey Come on Trump Transition Romney fought to defeat Trump Put this snake under his rock#NeverRomey BREAKING NEWS STORIES Trump s Transition Team Just Made A Surprising R via The press be too critical of Pres Elect Trump He have do a lot for the first week of transition #MediaFails Trump s State of TransitionDavid Petraeus and John Bolton would be strong experienced diplomat Editorial by Castro support Obama Transition to great freedom will be easy under Trump Funny how Warren attempt to use term she appear be unavailable in her vocabulary when the vast majority of I teach many kid healthy because of vaccine also look up the polio epidemic Makes you realize how essential vaccine be ummm vaccine have avoid over death since the ninety Chinese scientist convert infectious virus into live vaccine to tackle deadly virus It be very important to know that vaccine do not cause autism Vegetarianism be a link to perfection and peace #RiverPhoenix #aphorisms #InspiringLionHeart motivate Us to Close the brothel legally Promote Vegetarianism Open food bank donate kidney legally Hinduism say vegetarianism be a noble pursuit not a requirement It s most appeal aspect must surely be it vegetarianism Skeptics Underground today at pm at Today s topic be vegetarianism Should be a good one V happy to go back to vegetarianism vegan life be not the one The Benefits of Vegetarianism via The Kind Diet a very interest read so far A look into vegetarianism and veganism Modi ji may advise people to shift to vegetarianism for maintain good health thereby increase the average lifespan of people of India Everyone know that vegetarianism be synonymous with wellness That s true It help me stick to vegetarianism yeah good point I forgot that veganism require a lot of thought in that sense I m defo with you on vegetarianism though i make cauliflower steak and they be great why be vegetarianism so good A case for #vegetarianism Happy Sunday everyone I think I m past the bacon on my bacon stage and can cross that out of my list Returning to vegetarianism have take the long way around Day of vegetarianism have be solid so far Workouts be stable Got to get a little crafty on the menu but it work #vegetarian #LetsGo When you want to try vegetarianism but you can t find good recipe and then you stumble upon an awesome look vegan site #Books #Book NEW #Yoga and Vegetarianism The Diet of Enlightenment by Gannon Sharon #Bestseller look at that one year of vegetarianism and i havent drop deed from a lack of protein Vegetarianism be well for the planet and that s why I resent it It make me face up to my own hypocracy If this doesn t convert people to vegetarianism nothing will Vegetarianism a good prescription for your health and our environment SA #patients #health #longevity #doctors #physicians #nurses Tomorrow I m on the pathway to vegetarianism I try eat fish today and idk how I feel about it I m just gonna stick to vegetarianism for the next video im gonna need some help from you guy so please tweet me some question regard animal right and vegetarianism Day of vegetarianism go good The only thing I can commit to be my vegetarianism Also low key want to look into veganism vegetarianism I m feel like trash want to do something good for my diet and the earth Fried Food Dispelling the Doubts for Vegetarians #vegetarianism #vegan #vegetarian #diet #spirituality #veganism # Trying to slowly transition myself into vegetarianism Vegetarianism be the best way to go I want verlander and miggy I spent my k and get verlander I kinda like the thought of Verlander in St Louis Wouldn t command a much a Sale Cy Young candidate filthy stuff lot of Kate Upton OFF JUSTIN VERLANDER Pennant Base Bobblehead Home Detroit Tigers #sports #forevercol Fan opinion right now I would absolutely take Justin Verlander a a Red Sox Hands down #RedSox DetroitPrideTigersCongrats to MVP Justin Verlander Converj have DetroitPride forever Go Tigers IMPORTANT Justin Verlander and Kate Upton be engage #kateupton bring verlander he d be great on the Red Sox Lol Justin verlander on the drum for lion halftime show Honouring the story culture of the Khoi khoin people with #V rlander exhibition in National museum Bloemfonte #V rlander an impressive visual story tell of the vergete mense exhibit book by Bart de Graaff Justin Verlander should have won the and Cy Youngs happy thanksgiving to the verlander family Hunter Verlander be the man no doubt about it Watch him fly on Hey Justin Verlander we always have room for a guest drummer This be what democracy should look like LIKE AND SHARE jill baby thanks to your effort we be go to force voter i d and will audit CA voter registration TY I Agree We need voter registration I Ds okay thanks I have narrow it down to priority open to discussion of course #recount #electoralcollege Voter suppression Donald take it easy my friend but I can t wait to see u start building that thick high wall on the Mexican border to seal ur legacy In Minutes interview Trump adjust his stance on building a wall along the Mexican border he say a fence may go up in some area Got to love capitalist on both side of the border CA please wait until we finish the wall on the Mexican border This be great news For a Mexican effort to build a parallel wall on their side of the border too if u haven t be watch WestWorld u need to Westworld and our increasingly wire sense of eroticism man that westworld finale it only take hour but i can finally say i know the plot of the show Epic pause moment FINALLY #Westworld Oh the Westworld finale be a feature length film Cool pours tall whiskey put on seat belt want to watch #WestWorld #WestworldFinale think I be go to dream of #EvanRachelWould s mind blowing performance a Delores Wyatt for a few night #Westworld #cantstoptweeting Only can scare the living hell outta people without even change the tone of his voice #Westworld My new crush #dontputyourfingerthere #shebites #armistice ##Westworld #WestworldFinale HOO BOY THAT WESTWORLD FINALE Well that finale be one big mindfuck #Westworld Today couldn t get much well a pinterest recipe that work out and #Westworld A perfect Sunday Loving the Radiohead piano cover on #westworld I like a video This Ain t No Westworld We Make Our Choices I hear this be the last of #westworld for a while I m go to miss the #themesong the most It s quiet inspirational Between #Westworld #GameOfThrones and #TheNightOf #HBO be go to clean up at the Emmys in well that be fuck beautiful #westworld Westworld be what #GoT will never be Mastered and suitable for a Series format Episodes of Westworld down to go I see you Westworld These violent delight lead to violent end #WestworldFinale #shakespeare #vlogger #youtube #SundayFunday #ingadtv That Westworld finale be so good Hoping we don t have to wait too long for Season Yeah where s season gonna go Incredible season finale yo #WestWorld Westworld be what television should be dear lord what a season finale I will go so far to say s of westworld isn t just good it s brilliant A story within a story within a story about storytelling Westworld be also one of the few show that I ve actually be keep up with so that much show how good it be Watched the #Westworld finale Want to watch the whole season all over again Do it and Also visit Did I really stay up this late so I could watch the Westworld finale Yes Was it absolutely worth it Totally Westword writer be to co write Last of Us Part I m totally okay with that Westworld be consistent in it mind bosting Thank you Michael Crichton may very well be the best thing I ve ever watch Sorry #Westworld #HBO Have you see Westworld or be it on your watchlist If so do u have any plan to make video about it The show look really great I really don t care Final be on Tuesday and I m watch westworld oops Min into the Westworld Finale and I m already like Holy Shit Don t really want this to end but here go watch Westworld WestWorld be even more meta than Community Need to re watch WestWorld #Westworld S be nothing less than a MASTERPIECE Phenomenal finale And im gonna stay away from all the theory Thank you for the code Finally I can get in #Westworld #WestworldFinale Came in the house right on time to catch the Westworld season finale Lunes de The Walking Dead y Westworld El mundo funciona bien Just see the season finale for westworld and wow This show be Still digest #Westworld will have to rewatch #WestWorld Gosh Damn that be Beautiful yaaay tell me your feeling on it when you get around to watch bc you re like MY ONE WESTWORLD OUTLET I just want the semester to be over so I can watch Westworld and Insecure without guilt A Relentless Fucking ExperienceThank you for the wild ride #Westworld funny aly huge crush zac efron Why didn t zac efron ever release a solo album after HSM and hairpsray Picture That time I take a photo of Zac Efron take a photo of Zac Efron Efronception fantastic sexy woman zac efron do sex Zac Efron just be buyin Simone Biles skateboard and stuff uh okay where s mine at Hairspray Live not sure how I feel about this Zac Efron will forever be Link to me Watching HSM Troy Bolton Zac Efron be sing Hazel OMG He s So Hot JUST DO ME hand down best zac efron character Rob Jeremy in the light Zac Efron in the night #Sexy #Beauty Mike and Dave Need Wedding Dates Blu ray #DVD Zac Efron #AnnaKendrick Well Zac Efron be gonna resize all your hole I m still giggle The movie where Zac Efron be a DJ be super fuck rad seriously though zac efron in hairspray be the reason my life be great I want Zac Efron to play me If I could be one male celebrity I would be Zac Efron The dude have his life together slightly upset Zac Efron isn t play his character in Hairspray live Oh how i would love to meet zac efron I wanna live in a world where Vanessa Hudgens and Zac Efron get back together Hellllllll ya I would if it have Zac Efron in it L L L #Entertainment #Buzz ZAC EFRON HANDSOME BARECHESTED BEEFCAKE HUNK CANDID PHOTOGRAPH #eBay Cause who doesn t love Zac Efron Dt Cass Vine by shoutout to the mom of Zac Efron Ryan Gosling Franco Brothers Hemsworth brother Channing Tatumfor make these beautiful men how hard be it to post the price not everyone can afford VIP unless they win lotto or marry Zac Efron the only one good thing about this whole dirty grandpa movie be zac efron s dick I TOO CAN HEAR THE BELLS WATCHING ZAC EFRON IN THIS MOVIE #Entertainment #Buzz ZAC EFRON HANDSOME BEEFCAKE HUNK IN UNDERWEAR ON SET REAR CANDID PHOTOGRAPH shout out to the Zac Efron shrug meme BRAZIL Zac Efron have something to tell his Brazilian fan that can t wait to watch VIZINHOS Neighbors it make me so mad that I didn t realize it wasn t Zac efron s voice in HSM Zac Efron Seth Rogen Both Have Abs Kinda In First Official Neighbors #ZacEfron Just realise I ve love zac Efron since I be and I m #NowPlaying Scream by Zac Efron L L #ZacEfron #Fashion The Lucky One Blu Ray DVD Movie with Zac Efron EXCELLENT CONDITION Zac Efron Seth Rogen Flex Their Muscles In Short Shorts Neighbors Pic #ZacEfron #ZacEfron There could be a thousand more Hairspray remake and I will still like the one with Zac Efron well Imagine a film with Zac Efron in it actually not make a joke about how good look he be Zac Efron bear grylls lol#Liveme John Smith Abby talk about the Hamilton soundtrack I heard Zac Efron have to wait like month to get ticket imagine me can we like get zac efron or justin bieber for next year s mmbc or something bc lol update Zac Efron kiss a puppy First Look at Neighbors with Zac Efron Shirtless PHOTO #zacefron zac efron pose nude #lovely libra porn'"
      ]
     },
     "execution_count": 35,
     "metadata": {},
     "output_type": "execute_result"
    }
   ],
   "source": [
    "all_non_words"
   ]
  },
  {
   "cell_type": "code",
   "execution_count": 36,
   "metadata": {},
   "outputs": [
    {
     "ename": "ModuleNotFoundError",
     "evalue": "No module named 'wordcloud'",
     "output_type": "error",
     "traceback": [
      "\u001b[1;31m---------------------------------------------------------------------------\u001b[0m",
      "\u001b[1;31mModuleNotFoundError\u001b[0m                       Traceback (most recent call last)",
      "Input \u001b[1;32mIn [36]\u001b[0m, in \u001b[0;36m<module>\u001b[1;34m\u001b[0m\n\u001b[1;32m----> 1\u001b[0m \u001b[38;5;28;01mfrom\u001b[39;00m \u001b[38;5;21;01mwordcloud\u001b[39;00m \u001b[38;5;28;01mimport\u001b[39;00m WordCloud, STOPWORDS\n",
      "\u001b[1;31mModuleNotFoundError\u001b[0m: No module named 'wordcloud'"
     ]
    }
   ],
   "source": [
    "from wordcloud import WordCloud, STOPWORDS"
   ]
  },
  {
   "cell_type": "code",
   "execution_count": null,
   "metadata": {},
   "outputs": [],
   "source": [
    "wordcloud = WordCloud(width = 800, height = 800,\n",
    "                background_color ='white',\n",
    "                stopwords = stopwords,\n",
    "                min_font_size = 10).generate(comment_words)\n",
    " \n",
    "# plot the WordCloud image                      \n",
    "plt.figure(figsize = (8, 8), facecolor = None)\n",
    "plt.imshow(wordcloud)\n",
    "plt.axis(\"off\")\n",
    "plt.tight_layout(pad = 0)\n",
    " \n",
    "plt.show()"
   ]
  },
  {
   "cell_type": "code",
   "execution_count": 25,
   "metadata": {},
   "outputs": [
    {
     "name": "stdout",
     "output_type": "stream",
     "text": [
      "C:\\Users\\Beck\\projectDir\\venv\\Scripts\\python.exe\n"
     ]
    }
   ],
   "source": [
    "import sys\n",
    "print(sys.executable)"
   ]
  },
  {
   "cell_type": "code",
   "execution_count": 26,
   "metadata": {},
   "outputs": [],
   "source": [
    "#from wordcloud import WordCloud\n",
    "#wordcloud=WordCloud(width=800,height=500,random_state=21,max_font_size=110).generate(all_non_words)\n",
    "#fig=plt.figure(figsize=(10,7))\n",
    "#plt.imshow(wordcloud,interpolation=\"bilinear\")\n",
    "#plt.axis(\"off\")\n",
    "#plt.show()"
   ]
  },
  {
   "cell_type": "markdown",
   "metadata": {},
   "source": [
    "#### Most Common words in Negative Tweets"
   ]
  },
  {
   "cell_type": "code",
   "execution_count": 27,
   "metadata": {},
   "outputs": [
    {
     "ename": "NameError",
     "evalue": "name 'WordCloud' is not defined",
     "output_type": "error",
     "traceback": [
      "\u001b[1;31m---------------------------------------------------------------------------\u001b[0m",
      "\u001b[1;31mNameError\u001b[0m                                 Traceback (most recent call last)",
      "Input \u001b[1;32mIn [27]\u001b[0m, in \u001b[0;36m<module>\u001b[1;34m\u001b[0m\n\u001b[0;32m      1\u001b[0m all_racistwords\u001b[38;5;241m=\u001b[39m\u001b[38;5;124m\"\u001b[39m\u001b[38;5;124m \u001b[39m\u001b[38;5;124m\"\u001b[39m\u001b[38;5;241m.\u001b[39mjoin(my_data[my_data[\u001b[38;5;124m'\u001b[39m\u001b[38;5;124mlabel\u001b[39m\u001b[38;5;124m'\u001b[39m]\u001b[38;5;241m==\u001b[39m\u001b[38;5;241m-\u001b[39m\u001b[38;5;241m1\u001b[39m]\u001b[38;5;241m.\u001b[39mcl_tweets)\n\u001b[1;32m----> 2\u001b[0m wrd_cld\u001b[38;5;241m=\u001b[39m\u001b[43mWordCloud\u001b[49m(height\u001b[38;5;241m=\u001b[39m\u001b[38;5;241m500\u001b[39m,width\u001b[38;5;241m=\u001b[39m\u001b[38;5;241m800\u001b[39m,random_state\u001b[38;5;241m=\u001b[39m\u001b[38;5;241m21\u001b[39m,max_font_size\u001b[38;5;241m=\u001b[39m\u001b[38;5;241m110\u001b[39m)\u001b[38;5;241m.\u001b[39mgenerate(all_racistwords)\n\u001b[0;32m      3\u001b[0m fig\u001b[38;5;241m=\u001b[39mplt\u001b[38;5;241m.\u001b[39mfigure(figsize\u001b[38;5;241m=\u001b[39m(\u001b[38;5;241m10\u001b[39m,\u001b[38;5;241m7\u001b[39m))\n\u001b[0;32m      4\u001b[0m plt\u001b[38;5;241m.\u001b[39mimshow(wrd_cld,interpolation\u001b[38;5;241m=\u001b[39m\u001b[38;5;124m\"\u001b[39m\u001b[38;5;124mbilinear\u001b[39m\u001b[38;5;124m\"\u001b[39m)\n",
      "\u001b[1;31mNameError\u001b[0m: name 'WordCloud' is not defined"
     ]
    }
   ],
   "source": [
    "all_racistwords=\" \".join(my_data[my_data['label']==-1].cl_tweets)\n",
    "wrd_cld=WordCloud(height=500,width=800,random_state=21,max_font_size=110).generate(all_racistwords)\n",
    "fig=plt.figure(figsize=(10,7))\n",
    "plt.imshow(wrd_cld,interpolation=\"bilinear\")\n",
    "plt.axis(\"off\")\n",
    "plt.show()"
   ]
  },
  {
   "cell_type": "markdown",
   "metadata": {},
   "source": [
    "##### Checking the impact of Hashtags"
   ]
  },
  {
   "cell_type": "code",
   "execution_count": null,
   "metadata": {},
   "outputs": [],
   "source": [
    "## 1) Positive Tweets\n",
    "positive=[]\n",
    "for x in my_data[my_data[\"label\"]==1].cl_tweets:\n",
    "    all_hashtags=re.findall(r\"#[\\w]+\",x)\n",
    "    positive.append(all_hashtags)"
   ]
  },
  {
   "cell_type": "code",
   "execution_count": null,
   "metadata": {},
   "outputs": [],
   "source": [
    "positive=sum(positive,[])\n",
    "positive[:7]"
   ]
  },
  {
   "cell_type": "code",
   "execution_count": null,
   "metadata": {},
   "outputs": [],
   "source": [
    "## 2) Negative Tweets\n",
    "negative=[]\n",
    "for x in my_data[my_data[\"label\"]==-1].cl_tweets:\n",
    "    all_hashtags=re.findall(\"#[\\w]+\",x)\n",
    "    negative.append(all_hashtags)"
   ]
  },
  {
   "cell_type": "code",
   "execution_count": null,
   "metadata": {},
   "outputs": [],
   "source": [
    "negative[:6]"
   ]
  },
  {
   "cell_type": "code",
   "execution_count": null,
   "metadata": {},
   "outputs": [],
   "source": [
    "negative=sum(negative,[])"
   ]
  },
  {
   "cell_type": "code",
   "execution_count": null,
   "metadata": {},
   "outputs": [],
   "source": [
    "a= nltk.FreqDist(positive)"
   ]
  },
  {
   "cell_type": "code",
   "execution_count": null,
   "metadata": {},
   "outputs": [],
   "source": [
    "df_positive=pd.DataFrame({\"Hashtags\":list(a.keys()),\"Count\":list(a.values())})"
   ]
  },
  {
   "cell_type": "code",
   "execution_count": null,
   "metadata": {},
   "outputs": [],
   "source": [
    "df_positive.head()"
   ]
  },
  {
   "cell_type": "code",
   "execution_count": null,
   "metadata": {},
   "outputs": [],
   "source": [
    "b= nltk.FreqDist(negative)\n",
    "df_negative=pd.DataFrame({\"Hashtags\":list(b.keys()),\"Count\":list(b.values())})\n",
    "df_negative.head(10)"
   ]
  },
  {
   "cell_type": "code",
   "execution_count": null,
   "metadata": {},
   "outputs": [],
   "source": [
    "df_positive=df_positive.nlargest(columns=\"Count\",n=20)\n",
    "df_negative=df_negative.nlargest(columns=\"Count\",n=20)"
   ]
  },
  {
   "cell_type": "markdown",
   "metadata": {},
   "source": [
    "### Plotting the top 20 hashtags in Positive tweets"
   ]
  },
  {
   "cell_type": "code",
   "execution_count": null,
   "metadata": {},
   "outputs": [],
   "source": [
    "sns.set_theme(style=\"whitegrid\")\n",
    "fig=plt.figure(figsize=(20,8))\n",
    "sns.barplot(data=df_positive,x=\"Hashtags\",y=\"Count\", palette=\"Blues_d\")\n",
    "plt.title(\"Top 20 Hashtags for Positive Tweets\")\n",
    "plt.rc('font', size=16)\n",
    "plt.xticks(rotation=90)\n",
    "plt.show()"
   ]
  },
  {
   "cell_type": "code",
   "execution_count": null,
   "metadata": {},
   "outputs": [],
   "source": [
    "sns.set_theme(style=\"whitegrid\")\n",
    "fig=plt.figure(figsize=(20,9))\n",
    "sns.barplot(data=df_negative,x=\"Hashtags\",y=\"Count\", palette=\"Blues_d\")\n",
    "plt.title(\"Top 20 Hashtags for Negative Tweets\")\n",
    "plt.rc('font', size=14)\n",
    "plt.xticks(rotation=90)\n",
    "plt.show()"
   ]
  },
  {
   "cell_type": "markdown",
   "metadata": {},
   "source": [
    "##### Extracting Features using various approaches"
   ]
  },
  {
   "cell_type": "code",
   "execution_count": null,
   "metadata": {},
   "outputs": [],
   "source": [
    "from sklearn.feature_extraction.text import TfidfVectorizer, CountVectorizer\n",
    "import gensim"
   ]
  },
  {
   "cell_type": "markdown",
   "metadata": {},
   "source": [
    "#### Using Bag-of-Words Approach"
   ]
  },
  {
   "cell_type": "code",
   "execution_count": null,
   "metadata": {},
   "outputs": [],
   "source": [
    "bag_of_words=CountVectorizer(max_df=0.90,min_df=2,max_features=1000,stop_words=\"english\")\n",
    "bag_words=bag_of_words.fit_transform(my_data[\"cl_tweets\"])"
   ]
  },
  {
   "cell_type": "markdown",
   "metadata": {},
   "source": [
    "#### Using TF-IDF Approach"
   ]
  },
  {
   "cell_type": "code",
   "execution_count": null,
   "metadata": {},
   "outputs": [],
   "source": [
    "tfidf_vectorizer = TfidfVectorizer(max_df=0.90, min_df=2, max_features=1000, stop_words='english')\n",
    "tfidf = tfidf_vectorizer.fit_transform(my_data[\"cl_tweets\"])\n",
    "tfidf.shape"
   ]
  },
  {
   "cell_type": "markdown",
   "metadata": {},
   "source": [
    "#### Using Word2Vec Approach"
   ]
  },
  {
   "cell_type": "code",
   "execution_count": null,
   "metadata": {},
   "outputs": [],
   "source": [
    "tokenized_tweet = my_data[\"cl_tweets\"].apply(lambda x: x.split()) # tokenizing\n",
    "\n",
    "model_w2v = gensim.models.Word2Vec(\n",
    "            tokenized_tweet,\n",
    "            vector_size=200, # desired no. of features/independent variables \n",
    "            window=5, # context window size\n",
    "            min_count=2,\n",
    "            sg = 1, # 1 for skip-gram model\n",
    "            hs = 0,\n",
    "            negative = 10, # for negative sampling\n",
    "            workers= 2, # no.of cores\n",
    "            seed = 34)\n",
    "\n",
    "model_w2v.train(tokenized_tweet, total_examples= len(my_data[\"cl_tweets\"]), epochs=20)"
   ]
  },
  {
   "cell_type": "code",
   "execution_count": null,
   "metadata": {},
   "outputs": [],
   "source": [
    "def word_vector(tokens, size):\n",
    "    vec = np.zeros(size).reshape((1, size))\n",
    "    count = 0.\n",
    "    for word in tokens:\n",
    "        try:\n",
    "            vec += model_w2v[word].reshape((1, size))\n",
    "            count += 1.\n",
    "        except KeyError: # handling the case where the token is not in vocabulary\n",
    "                         \n",
    "            continue\n",
    "    if count != 0:\n",
    "        vec /= count\n",
    "    return vec"
   ]
  },
  {
   "cell_type": "code",
   "execution_count": null,
   "metadata": {},
   "outputs": [],
   "source": [
    "wordvec_arrays = np.zeros((len(tokenized_tweet), 200))"
   ]
  },
  {
   "cell_type": "code",
   "execution_count": null,
   "metadata": {},
   "outputs": [],
   "source": [
    "for i in range(len(tokenized_tweet)):\n",
    "    print(i, tokenized_tweet[i])\n",
    "    break"
   ]
  },
  {
   "cell_type": "code",
   "execution_count": null,
   "metadata": {},
   "outputs": [],
   "source": [
    "wordvec_arrays = np.zeros((len(tokenized_tweet), 200))\n",
    "vec = []\n",
    "for i in range(len(tokenized_tweet)):\n",
    "    #wordvec_arrays[i,:] = word_vector(tokenized_tweet[i], 200)\n",
    "    \n",
    "    vec += wordvec_arrays[i].reshape((1, 200))\n",
    "    \n",
    "wordvec_df = pd.DataFrame(vec)\n",
    "wordvec_df.shape "
   ]
  },
  {
   "cell_type": "code",
   "execution_count": null,
   "metadata": {},
   "outputs": [],
   "source": [
    " vec += model_w2v.wv[word].reshape((1, size))"
   ]
  },
  {
   "cell_type": "code",
   "execution_count": null,
   "metadata": {},
   "outputs": [],
   "source": [
    "from sklearn.linear_model import LogisticRegression\n",
    "from sklearn.model_selection import train_test_split\n",
    "from sklearn.metrics import f1_score,accuracy_score"
   ]
  },
  {
   "cell_type": "markdown",
   "metadata": {},
   "source": [
    "#### Building Model through Logistic Regression on Bag_Of_Words_Approach"
   ]
  },
  {
   "cell_type": "code",
   "execution_count": null,
   "metadata": {},
   "outputs": [],
   "source": [
    "\n",
    "#train_bow = bag_words[:31962,:]\n",
    "#test_bow = bag_words[31962:,:]\n",
    "\n",
    "# splitting data into training and validation set\n",
    "xtrain_bow, xvalid_bow, ytrain, yvalid = train_test_split(bag_words,my_data['label'],  \n",
    "                                                          random_state=42, \n",
    "                                                          test_size=0.3)\n",
    "lreg = LogisticRegression()\n",
    "lreg.fit(xtrain_bow, ytrain) # training the model\n",
    "\n",
    "prediction = lreg.predict_proba(xvalid_bow) # predicting on the validation set\n",
    "prediction_int = prediction[:,1] >= 0.4 # if prediction is greater than or equal to 0.4 than 1 else 0\n",
    "prediction_int = prediction_int.astype(np.int)\n",
    "\n",
    "\n",
    "print(\"Accuracy Score \",accuracy_score(yvalid,prediction_int))"
   ]
  },
  {
   "cell_type": "markdown",
   "metadata": {},
   "source": [
    "#### Building Model through Logistic Regression on TF-IDF Approach"
   ]
  },
  {
   "cell_type": "code",
   "execution_count": null,
   "metadata": {},
   "outputs": [],
   "source": [
    "xtrain_tfidf = tfidf[ytrain.index]\n",
    "xvalid_tfidf = tfidf[yvalid.index]\n",
    "lreg.fit(xtrain_tfidf, ytrain)\n",
    "\n",
    "prediction = lreg.predict_proba(xvalid_tfidf)\n",
    "prediction_int = prediction[:,1] >= 0.3\n",
    "prediction_int = prediction_int.astype(np.int)\n",
    "print(\"Accuracy Score\",accuracy_score(yvalid, prediction_int))"
   ]
  },
  {
   "cell_type": "markdown",
   "metadata": {},
   "source": [
    "#### Building Model through Logistic Regression on Word2Vec Approach"
   ]
  },
  {
   "cell_type": "code",
   "execution_count": null,
   "metadata": {},
   "outputs": [],
   "source": [
    "xtrain_w2v = wordvec_df.iloc[ytrain.index,:]\n",
    "xvalid_w2v = wordvec_df.iloc[yvalid.index,:]\n",
    "\n",
    "lreg.fit(xtrain_w2v, ytrain)\n",
    "\n",
    "prediction = lreg.predict_proba(xvalid_w2v)\n",
    "prediction_int = prediction[:,1] >= 0.3\n",
    "prediction_int = prediction_int.astype(np.int)\n",
    "print(\"Accuracy Score\",accuracy_score(yvalid, prediction_int))"
   ]
  },
  {
   "cell_type": "markdown",
   "metadata": {},
   "source": [
    "#### Building Model Through SVM on Bag Of Words Approach"
   ]
  },
  {
   "cell_type": "code",
   "execution_count": null,
   "metadata": {},
   "outputs": [],
   "source": [
    "from sklearn import svm\n",
    "svc = svm.SVC(kernel='linear', C=1).fit(xtrain_bow, ytrain)\n",
    "\n",
    "prediction = svc.predict(xvalid_bow)\n",
    "\n",
    "print(\"Accuracy Score\",accuracy_score(yvalid, prediction))"
   ]
  },
  {
   "cell_type": "markdown",
   "metadata": {},
   "source": [
    "#### Building Model Through SVM on TF-IDF"
   ]
  },
  {
   "cell_type": "code",
   "execution_count": null,
   "metadata": {},
   "outputs": [],
   "source": [
    "svc = svm.SVC(kernel='linear', C=1).fit(xtrain_tfidf, ytrain)\n",
    "\n",
    "prediction = svc.predict(xvalid_tfidf)\n",
    "\n",
    "print(\"Accuracy Score\", accuracy_score(yvalid, prediction))"
   ]
  },
  {
   "cell_type": "markdown",
   "metadata": {},
   "source": [
    "#### Building Model Through SVM on Word2Vec"
   ]
  },
  {
   "cell_type": "code",
   "execution_count": null,
   "metadata": {},
   "outputs": [],
   "source": [
    "svc = svm.SVC(kernel='linear', C=1).fit(xtrain_w2v, ytrain)\n",
    "\n",
    "prediction = svc.predict(xvalid_w2v)\n",
    "\n",
    "print(\"Accuracy Score\", accuracy_score(yvalid, prediction))"
   ]
  },
  {
   "cell_type": "markdown",
   "metadata": {},
   "source": [
    "#### Building Model through Random Forest On Bag Of Words Approach"
   ]
  },
  {
   "cell_type": "code",
   "execution_count": null,
   "metadata": {},
   "outputs": [],
   "source": [
    "from sklearn.ensemble import RandomForestClassifier\n",
    "rf = RandomForestClassifier(n_estimators=400, random_state=11).fit(xtrain_bow, ytrain)\n",
    "\n",
    "prediction = rf.predict(xvalid_bow)\n",
    "print(\"Accuracy Score \",accuracy_score(yvalid, prediction))"
   ]
  },
  {
   "cell_type": "markdown",
   "metadata": {},
   "source": [
    "#### Building Model through Random Forest On TF-IDF Approach"
   ]
  },
  {
   "cell_type": "code",
   "execution_count": null,
   "metadata": {},
   "outputs": [],
   "source": [
    "rf = RandomForestClassifier(n_estimators=400, random_state=11).fit(xtrain_tfidf, ytrain)\n",
    "\n",
    "prediction = rf.predict(xvalid_tfidf)\n",
    "print(\"Accuracy Score \",accuracy_score(yvalid, prediction))"
   ]
  },
  {
   "cell_type": "markdown",
   "metadata": {},
   "source": [
    "#### Building Model through Random Forest On Word2Vec Approach"
   ]
  },
  {
   "cell_type": "code",
   "execution_count": null,
   "metadata": {},
   "outputs": [],
   "source": [
    "rf = RandomForestClassifier(n_estimators=400, random_state=11).fit(xtrain_w2v, ytrain)\n",
    "\n",
    "prediction = rf.predict(xvalid_w2v)\n",
    "\n",
    "print(\"Accuracy Score \",accuracy_score(yvalid,prediction))"
   ]
  },
  {
   "cell_type": "markdown",
   "metadata": {},
   "source": [
    "#### Building Model through Naive Bayes on Bags of Word Approach"
   ]
  },
  {
   "cell_type": "code",
   "execution_count": null,
   "metadata": {},
   "outputs": [],
   "source": [
    "from sklearn.naive_bayes import MultinomialNB\n",
    "from sklearn.naive_bayes import GaussianNB\n",
    "nb=MultinomialNB().fit(xtrain_bow,ytrain)\n",
    "prediction=nb.predict(xvalid_bow)\n",
    "print(\"Accuracy Score \",accuracy_score(yvalid,prediction))"
   ]
  },
  {
   "cell_type": "markdown",
   "metadata": {},
   "source": [
    "#### Building Model through Naive Bayes on TF-IDF Approach"
   ]
  },
  {
   "cell_type": "code",
   "execution_count": null,
   "metadata": {},
   "outputs": [],
   "source": [
    "nb=MultinomialNB().fit(xtrain_tfidf,ytrain)\n",
    "prediction=nb.predict(xvalid_tfidf)\n",
    "print(\"Accuracy Score \",accuracy_score(yvalid,prediction))"
   ]
  },
  {
   "cell_type": "markdown",
   "metadata": {},
   "source": [
    "#### Building Model through Naive Bayes on Word2Vec Approach"
   ]
  },
  {
   "cell_type": "code",
   "execution_count": null,
   "metadata": {},
   "outputs": [],
   "source": [
    "nb=GaussianNB().fit(xtrain_w2v,ytrain)\n",
    "prediction=nb.predict(xvalid_w2v)\n",
    "print(\"Accuracy Score\",accuracy_score(yvalid,prediction))"
   ]
  }
 ],
 "metadata": {
  "kernelspec": {
   "display_name": "Python 3 (ipykernel)",
   "language": "python",
   "name": "python3"
  },
  "language_info": {
   "codemirror_mode": {
    "name": "ipython",
    "version": 3
   },
   "file_extension": ".py",
   "mimetype": "text/x-python",
   "name": "python",
   "nbconvert_exporter": "python",
   "pygments_lexer": "ipython3",
   "version": "3.9.5"
  }
 },
 "nbformat": 4,
 "nbformat_minor": 2
}
